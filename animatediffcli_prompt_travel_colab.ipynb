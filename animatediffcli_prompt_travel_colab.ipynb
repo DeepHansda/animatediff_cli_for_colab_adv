{
  "cells": [
    {
      "cell_type": "markdown",
      "metadata": {
        "id": "view-in-github",
        "colab_type": "text"
      },
      "source": [
        "<a href=\"https://colab.research.google.com/github/DeepHansda/animatediff_cli_for_colab_adv/blob/main/animatediffcli_prompt_travel_colab.ipynb\" target=\"_parent\"><img src=\"https://colab.research.google.com/assets/colab-badge.svg\" alt=\"Open In Colab\"/></a>"
      ]
    },
    {
      "cell_type": "markdown",
      "metadata": {
        "id": "iWvax0gRo1M1"
      },
      "source": [
        "If you have any questions running it, feel free to check it out at the tutorial and reach out on [GitHub]. If you want to run it locally (needs a Nvidia or AMD GPU)."
      ]
    },
    {
      "cell_type": "markdown",
      "metadata": {
        "id": "G4KoSkrg1D-6"
      },
      "source": [
        "# AnimateDiff CLI SetUp.🛠\n",
        "\n"
      ]
    },
    {
      "cell_type": "markdown",
      "source": [
        "##Set UP. ((It Will take some time ,Meanwhile can enjoy some coffie ☕  or Music 🎶.))"
      ],
      "metadata": {
        "id": "2DzQcdrR3Nau"
      }
    },
    {
      "cell_type": "code",
      "execution_count": 1,
      "metadata": {
        "id": "t8eFw7zfJmoc",
        "colab": {
          "base_uri": "https://localhost:8080/",
          "height": 0
        },
        "outputId": "0d5d7470-1424-45cb-e513-0e5c28f0d9dc"
      },
      "outputs": [
        {
          "output_type": "stream",
          "name": "stdout",
          "text": [
            "Selecting previously unselected package libc-ares2:amd64.\n",
            "(Reading database ... 121654 files and directories currently installed.)\n",
            "Preparing to unpack .../libc-ares2_1.18.1-1ubuntu0.22.04.2_amd64.deb ...\n",
            "Unpacking libc-ares2:amd64 (1.18.1-1ubuntu0.22.04.2) ...\n",
            "Selecting previously unselected package libaria2-0:amd64.\n",
            "Preparing to unpack .../libaria2-0_1.36.0-1_amd64.deb ...\n",
            "Unpacking libaria2-0:amd64 (1.36.0-1) ...\n",
            "Selecting previously unselected package aria2.\n",
            "Preparing to unpack .../aria2_1.36.0-1_amd64.deb ...\n",
            "Unpacking aria2 (1.36.0-1) ...\n",
            "Setting up libc-ares2:amd64 (1.18.1-1ubuntu0.22.04.2) ...\n",
            "Setting up libaria2-0:amd64 (1.36.0-1) ...\n",
            "Setting up aria2 (1.36.0-1) ...\n",
            "Processing triggers for man-db (2.10.2-1) ...\n",
            "Processing triggers for libc-bin (2.35-0ubuntu3.4) ...\n",
            "/sbin/ldconfig.real: /usr/local/lib/libtbbmalloc_proxy.so.2 is not a symbolic link\n",
            "\n",
            "/sbin/ldconfig.real: /usr/local/lib/libtbbbind_2_0.so.3 is not a symbolic link\n",
            "\n",
            "/sbin/ldconfig.real: /usr/local/lib/libtbb.so.12 is not a symbolic link\n",
            "\n",
            "/sbin/ldconfig.real: /usr/local/lib/libtbbbind.so.3 is not a symbolic link\n",
            "\n",
            "/sbin/ldconfig.real: /usr/local/lib/libtbbbind_2_5.so.3 is not a symbolic link\n",
            "\n",
            "/sbin/ldconfig.real: /usr/local/lib/libtbbmalloc.so.2 is not a symbolic link\n",
            "\n",
            "/content\n",
            "Cloning into 'animatediff-cli-prompt-travel'...\n",
            "remote: Enumerating objects: 1960, done.\u001b[K\n",
            "remote: Counting objects: 100% (984/984), done.\u001b[K\n",
            "remote: Compressing objects: 100% (124/124), done.\u001b[K\n",
            "remote: Total 1960 (delta 899), reused 875 (delta 852), pack-reused 976\u001b[K\n",
            "Receiving objects: 100% (1960/1960), 133.95 MiB | 23.47 MiB/s, done.\n",
            "Resolving deltas: 100% (1149/1149), done.\n",
            "/content/animatediff-cli-prompt-travel\n",
            "Processing /content/animatediff-cli-prompt-travel\n",
            "  Installing build dependencies ... \u001b[?25l\u001b[?25hdone\n",
            "  Getting requirements to build wheel ... \u001b[?25l\u001b[?25hdone\n",
            "  Preparing metadata (pyproject.toml) ... \u001b[?25l\u001b[?25hdone\n",
            "Collecting accelerate>=0.20.3 (from animatediff==0.1.dev236+gdbf40d1)\n",
            "  Downloading accelerate-0.25.0-py3-none-any.whl (265 kB)\n",
            "\u001b[2K     \u001b[90m━━━━━━━━━━━━━━━━━━━━━━━━━━━━━━━━━━━━━━━━\u001b[0m \u001b[32m265.7/265.7 kB\u001b[0m \u001b[31m4.9 MB/s\u001b[0m eta \u001b[36m0:00:00\u001b[0m\n",
            "\u001b[?25hCollecting colorama<0.5.0,>=0.4.3 (from animatediff==0.1.dev236+gdbf40d1)\n",
            "  Downloading colorama-0.4.6-py2.py3-none-any.whl (25 kB)\n",
            "Requirement already satisfied: cmake>=3.25.0 in /usr/local/lib/python3.10/dist-packages (from animatediff==0.1.dev236+gdbf40d1) (3.27.9)\n",
            "Collecting diffusers==0.23.0 (from animatediff==0.1.dev236+gdbf40d1)\n",
            "  Downloading diffusers-0.23.0-py3-none-any.whl (1.7 MB)\n",
            "\u001b[2K     \u001b[90m━━━━━━━━━━━━━━━━━━━━━━━━━━━━━━━━━━━━━━━━\u001b[0m \u001b[32m1.7/1.7 MB\u001b[0m \u001b[31m16.6 MB/s\u001b[0m eta \u001b[36m0:00:00\u001b[0m\n",
            "\u001b[?25hCollecting einops>=0.6.1 (from animatediff==0.1.dev236+gdbf40d1)\n",
            "  Downloading einops-0.7.0-py3-none-any.whl (44 kB)\n",
            "\u001b[2K     \u001b[90m━━━━━━━━━━━━━━━━━━━━━━━━━━━━━━━━━━━━━━━━\u001b[0m \u001b[32m44.6/44.6 kB\u001b[0m \u001b[31m6.6 MB/s\u001b[0m eta \u001b[36m0:00:00\u001b[0m\n",
            "\u001b[?25hRequirement already satisfied: gdown>=4.6.6 in /usr/local/lib/python3.10/dist-packages (from animatediff==0.1.dev236+gdbf40d1) (4.6.6)\n",
            "Collecting ninja>=1.11.0 (from animatediff==0.1.dev236+gdbf40d1)\n",
            "  Downloading ninja-1.11.1.1-py2.py3-none-manylinux1_x86_64.manylinux_2_5_x86_64.whl (307 kB)\n",
            "\u001b[2K     \u001b[90m━━━━━━━━━━━━━━━━━━━━━━━━━━━━━━━━━━━━━━━━\u001b[0m \u001b[32m307.2/307.2 kB\u001b[0m \u001b[31m24.7 MB/s\u001b[0m eta \u001b[36m0:00:00\u001b[0m\n",
            "\u001b[?25hRequirement already satisfied: numpy>=1.22.4 in /usr/local/lib/python3.10/dist-packages (from animatediff==0.1.dev236+gdbf40d1) (1.23.5)\n",
            "Collecting omegaconf>=2.3.0 (from animatediff==0.1.dev236+gdbf40d1)\n",
            "  Downloading omegaconf-2.3.0-py3-none-any.whl (79 kB)\n",
            "\u001b[2K     \u001b[90m━━━━━━━━━━━━━━━━━━━━━━━━━━━━━━━━━━━━━━━━\u001b[0m \u001b[32m79.5/79.5 kB\u001b[0m \u001b[31m12.4 MB/s\u001b[0m eta \u001b[36m0:00:00\u001b[0m\n",
            "\u001b[?25hRequirement already satisfied: pillow<10.0.0,>=9.4.0 in /usr/local/lib/python3.10/dist-packages (from animatediff==0.1.dev236+gdbf40d1) (9.4.0)\n",
            "Requirement already satisfied: pydantic<2.0.0,>=1.10.0 in /usr/local/lib/python3.10/dist-packages (from animatediff==0.1.dev236+gdbf40d1) (1.10.13)\n",
            "Requirement already satisfied: rich<14.0.0,>=13.0.0 in /usr/local/lib/python3.10/dist-packages (from animatediff==0.1.dev236+gdbf40d1) (13.7.0)\n",
            "Requirement already satisfied: safetensors>=0.3.1 in /usr/local/lib/python3.10/dist-packages (from animatediff==0.1.dev236+gdbf40d1) (0.4.1)\n",
            "Collecting sentencepiece>=0.1.99 (from animatediff==0.1.dev236+gdbf40d1)\n",
            "  Downloading sentencepiece-0.1.99-cp310-cp310-manylinux_2_17_x86_64.manylinux2014_x86_64.whl (1.3 MB)\n",
            "\u001b[2K     \u001b[90m━━━━━━━━━━━━━━━━━━━━━━━━━━━━━━━━━━━━━━━━\u001b[0m \u001b[32m1.3/1.3 MB\u001b[0m \u001b[31m33.9 MB/s\u001b[0m eta \u001b[36m0:00:00\u001b[0m\n",
            "\u001b[?25hCollecting shellingham<2.0.0,>=1.5.0 (from animatediff==0.1.dev236+gdbf40d1)\n",
            "  Downloading shellingham-1.5.4-py2.py3-none-any.whl (9.8 kB)\n",
            "Requirement already satisfied: torch<2.2.0,>=2.1.0 in /usr/local/lib/python3.10/dist-packages (from animatediff==0.1.dev236+gdbf40d1) (2.1.0+cu121)\n",
            "Requirement already satisfied: torchaudio in /usr/local/lib/python3.10/dist-packages (from animatediff==0.1.dev236+gdbf40d1) (2.1.0+cu121)\n",
            "Requirement already satisfied: torchvision in /usr/local/lib/python3.10/dist-packages (from animatediff==0.1.dev236+gdbf40d1) (0.16.0+cu121)\n",
            "Collecting transformers<4.35.0,>=4.30.2 (from animatediff==0.1.dev236+gdbf40d1)\n",
            "  Downloading transformers-4.34.1-py3-none-any.whl (7.7 MB)\n",
            "\u001b[2K     \u001b[90m━━━━━━━━━━━━━━━━━━━━━━━━━━━━━━━━━━━━━━━━\u001b[0m \u001b[32m7.7/7.7 MB\u001b[0m \u001b[31m61.3 MB/s\u001b[0m eta \u001b[36m0:00:00\u001b[0m\n",
            "\u001b[?25hRequirement already satisfied: typer<1.0.0,>=0.9.0 in /usr/local/lib/python3.10/dist-packages (from animatediff==0.1.dev236+gdbf40d1) (0.9.0)\n",
            "Collecting controlnet-aux (from animatediff==0.1.dev236+gdbf40d1)\n",
            "  Downloading controlnet_aux-0.0.7.tar.gz (202 kB)\n",
            "\u001b[2K     \u001b[90m━━━━━━━━━━━━━━━━━━━━━━━━━━━━━━━━━━━━━━━━\u001b[0m \u001b[32m202.4/202.4 kB\u001b[0m \u001b[31m28.8 MB/s\u001b[0m eta \u001b[36m0:00:00\u001b[0m\n",
            "\u001b[?25h  Preparing metadata (setup.py) ... \u001b[?25l\u001b[?25hdone\n",
            "Requirement already satisfied: matplotlib in /usr/local/lib/python3.10/dist-packages (from animatediff==0.1.dev236+gdbf40d1) (3.7.1)\n",
            "Collecting ffmpeg-python>=0.2.0 (from animatediff==0.1.dev236+gdbf40d1)\n",
            "  Downloading ffmpeg_python-0.2.0-py3-none-any.whl (25 kB)\n",
            "Collecting mediapipe (from animatediff==0.1.dev236+gdbf40d1)\n",
            "  Downloading mediapipe-0.10.9-cp310-cp310-manylinux_2_17_x86_64.manylinux2014_x86_64.whl (34.5 MB)\n",
            "\u001b[2K     \u001b[90m━━━━━━━━━━━━━━━━━━━━━━━━━━━━━━━━━━━━━━━━\u001b[0m \u001b[32m34.5/34.5 MB\u001b[0m \u001b[31m39.9 MB/s\u001b[0m eta \u001b[36m0:00:00\u001b[0m\n",
            "\u001b[?25hCollecting xformers>=0.0.22.post7 (from animatediff==0.1.dev236+gdbf40d1)\n",
            "  Downloading xformers-0.0.23.post1-cp310-cp310-manylinux2014_x86_64.whl (213.0 MB)\n",
            "\u001b[2K     \u001b[90m━━━━━━━━━━━━━━━━━━━━━━━━━━━━━━━━━━━━━━━━\u001b[0m \u001b[32m213.0/213.0 MB\u001b[0m \u001b[31m2.3 MB/s\u001b[0m eta \u001b[36m0:00:00\u001b[0m\n",
            "\u001b[?25hCollecting black>=22.3.0 (from animatediff==0.1.dev236+gdbf40d1)\n",
            "  Downloading black-23.12.1-cp310-cp310-manylinux_2_17_x86_64.manylinux2014_x86_64.whl (1.7 MB)\n",
            "\u001b[2K     \u001b[90m━━━━━━━━━━━━━━━━━━━━━━━━━━━━━━━━━━━━━━━━\u001b[0m \u001b[32m1.7/1.7 MB\u001b[0m \u001b[31m98.0 MB/s\u001b[0m eta \u001b[36m0:00:00\u001b[0m\n",
            "\u001b[?25hCollecting ruff>=0.0.234 (from animatediff==0.1.dev236+gdbf40d1)\n",
            "  Downloading ruff-0.1.11-py3-none-manylinux_2_17_x86_64.manylinux2014_x86_64.whl (7.4 MB)\n",
            "\u001b[2K     \u001b[90m━━━━━━━━━━━━━━━━━━━━━━━━━━━━━━━━━━━━━━━━\u001b[0m \u001b[32m7.4/7.4 MB\u001b[0m \u001b[31m76.5 MB/s\u001b[0m eta \u001b[36m0:00:00\u001b[0m\n",
            "\u001b[?25hCollecting setuptools-scm>=7.0.0 (from animatediff==0.1.dev236+gdbf40d1)\n",
            "  Using cached setuptools_scm-8.0.4-py3-none-any.whl (42 kB)\n",
            "Collecting pre-commit>=3.3.0 (from animatediff==0.1.dev236+gdbf40d1)\n",
            "  Downloading pre_commit-3.6.0-py2.py3-none-any.whl (204 kB)\n",
            "\u001b[2K     \u001b[90m━━━━━━━━━━━━━━━━━━━━━━━━━━━━━━━━━━━━━━━━\u001b[0m \u001b[32m204.0/204.0 kB\u001b[0m \u001b[31m23.3 MB/s\u001b[0m eta \u001b[36m0:00:00\u001b[0m\n",
            "\u001b[?25hRequirement already satisfied: ipython in /usr/local/lib/python3.10/dist-packages (from animatediff==0.1.dev236+gdbf40d1) (7.34.0)\n",
            "Requirement already satisfied: importlib-metadata in /usr/local/lib/python3.10/dist-packages (from diffusers==0.23.0->animatediff==0.1.dev236+gdbf40d1) (7.0.1)\n",
            "Requirement already satisfied: filelock in /usr/local/lib/python3.10/dist-packages (from diffusers==0.23.0->animatediff==0.1.dev236+gdbf40d1) (3.13.1)\n",
            "Requirement already satisfied: huggingface-hub>=0.13.2 in /usr/local/lib/python3.10/dist-packages (from diffusers==0.23.0->animatediff==0.1.dev236+gdbf40d1) (0.20.2)\n",
            "Requirement already satisfied: regex!=2019.12.17 in /usr/local/lib/python3.10/dist-packages (from diffusers==0.23.0->animatediff==0.1.dev236+gdbf40d1) (2023.6.3)\n",
            "Requirement already satisfied: requests in /usr/local/lib/python3.10/dist-packages (from diffusers==0.23.0->animatediff==0.1.dev236+gdbf40d1) (2.31.0)\n",
            "Requirement already satisfied: packaging>=20.0 in /usr/local/lib/python3.10/dist-packages (from accelerate>=0.20.3->animatediff==0.1.dev236+gdbf40d1) (23.2)\n",
            "Requirement already satisfied: psutil in /usr/local/lib/python3.10/dist-packages (from accelerate>=0.20.3->animatediff==0.1.dev236+gdbf40d1) (5.9.5)\n",
            "Requirement already satisfied: pyyaml in /usr/local/lib/python3.10/dist-packages (from accelerate>=0.20.3->animatediff==0.1.dev236+gdbf40d1) (6.0.1)\n",
            "Requirement already satisfied: click>=8.0.0 in /usr/local/lib/python3.10/dist-packages (from black>=22.3.0->animatediff==0.1.dev236+gdbf40d1) (8.1.7)\n",
            "Collecting mypy-extensions>=0.4.3 (from black>=22.3.0->animatediff==0.1.dev236+gdbf40d1)\n",
            "  Downloading mypy_extensions-1.0.0-py3-none-any.whl (4.7 kB)\n",
            "Collecting pathspec>=0.9.0 (from black>=22.3.0->animatediff==0.1.dev236+gdbf40d1)\n",
            "  Downloading pathspec-0.12.1-py3-none-any.whl (31 kB)\n",
            "Requirement already satisfied: platformdirs>=2 in /usr/local/lib/python3.10/dist-packages (from black>=22.3.0->animatediff==0.1.dev236+gdbf40d1) (4.1.0)\n",
            "Requirement already satisfied: tomli>=1.1.0 in /usr/local/lib/python3.10/dist-packages (from black>=22.3.0->animatediff==0.1.dev236+gdbf40d1) (2.0.1)\n",
            "Requirement already satisfied: typing-extensions>=4.0.1 in /usr/local/lib/python3.10/dist-packages (from black>=22.3.0->animatediff==0.1.dev236+gdbf40d1) (4.5.0)\n",
            "Requirement already satisfied: future in /usr/local/lib/python3.10/dist-packages (from ffmpeg-python>=0.2.0->animatediff==0.1.dev236+gdbf40d1) (0.18.3)\n",
            "Requirement already satisfied: six in /usr/local/lib/python3.10/dist-packages (from gdown>=4.6.6->animatediff==0.1.dev236+gdbf40d1) (1.16.0)\n",
            "Requirement already satisfied: tqdm in /usr/local/lib/python3.10/dist-packages (from gdown>=4.6.6->animatediff==0.1.dev236+gdbf40d1) (4.66.1)\n",
            "Requirement already satisfied: beautifulsoup4 in /usr/local/lib/python3.10/dist-packages (from gdown>=4.6.6->animatediff==0.1.dev236+gdbf40d1) (4.11.2)\n",
            "Collecting antlr4-python3-runtime==4.9.* (from omegaconf>=2.3.0->animatediff==0.1.dev236+gdbf40d1)\n",
            "  Downloading antlr4-python3-runtime-4.9.3.tar.gz (117 kB)\n",
            "\u001b[2K     \u001b[90m━━━━━━━━━━━━━━━━━━━━━━━━━━━━━━━━━━━━━━━━\u001b[0m \u001b[32m117.0/117.0 kB\u001b[0m \u001b[31m17.8 MB/s\u001b[0m eta \u001b[36m0:00:00\u001b[0m\n",
            "\u001b[?25h  Preparing metadata (setup.py) ... \u001b[?25l\u001b[?25hdone\n",
            "Collecting cfgv>=2.0.0 (from pre-commit>=3.3.0->animatediff==0.1.dev236+gdbf40d1)\n",
            "  Downloading cfgv-3.4.0-py2.py3-none-any.whl (7.2 kB)\n",
            "Collecting identify>=1.0.0 (from pre-commit>=3.3.0->animatediff==0.1.dev236+gdbf40d1)\n",
            "  Downloading identify-2.5.33-py2.py3-none-any.whl (98 kB)\n",
            "\u001b[2K     \u001b[90m━━━━━━━━━━━━━━━━━━━━━━━━━━━━━━━━━━━━━━━━\u001b[0m \u001b[32m98.9/98.9 kB\u001b[0m \u001b[31m14.5 MB/s\u001b[0m eta \u001b[36m0:00:00\u001b[0m\n",
            "\u001b[?25hCollecting nodeenv>=0.11.1 (from pre-commit>=3.3.0->animatediff==0.1.dev236+gdbf40d1)\n",
            "  Downloading nodeenv-1.8.0-py2.py3-none-any.whl (22 kB)\n",
            "Collecting virtualenv>=20.10.0 (from pre-commit>=3.3.0->animatediff==0.1.dev236+gdbf40d1)\n",
            "  Downloading virtualenv-20.25.0-py3-none-any.whl (3.8 MB)\n",
            "\u001b[2K     \u001b[90m━━━━━━━━━━━━━━━━━━━━━━━━━━━━━━━━━━━━━━━━\u001b[0m \u001b[32m3.8/3.8 MB\u001b[0m \u001b[31m65.0 MB/s\u001b[0m eta \u001b[36m0:00:00\u001b[0m\n",
            "\u001b[?25hRequirement already satisfied: markdown-it-py>=2.2.0 in /usr/local/lib/python3.10/dist-packages (from rich<14.0.0,>=13.0.0->animatediff==0.1.dev236+gdbf40d1) (3.0.0)\n",
            "Requirement already satisfied: pygments<3.0.0,>=2.13.0 in /usr/local/lib/python3.10/dist-packages (from rich<14.0.0,>=13.0.0->animatediff==0.1.dev236+gdbf40d1) (2.16.1)\n",
            "Requirement already satisfied: setuptools in /usr/local/lib/python3.10/dist-packages (from setuptools-scm>=7.0.0->animatediff==0.1.dev236+gdbf40d1) (67.7.2)\n",
            "Requirement already satisfied: sympy in /usr/local/lib/python3.10/dist-packages (from torch<2.2.0,>=2.1.0->animatediff==0.1.dev236+gdbf40d1) (1.12)\n",
            "Requirement already satisfied: networkx in /usr/local/lib/python3.10/dist-packages (from torch<2.2.0,>=2.1.0->animatediff==0.1.dev236+gdbf40d1) (3.2.1)\n",
            "Requirement already satisfied: jinja2 in /usr/local/lib/python3.10/dist-packages (from torch<2.2.0,>=2.1.0->animatediff==0.1.dev236+gdbf40d1) (3.1.2)\n",
            "Requirement already satisfied: fsspec in /usr/local/lib/python3.10/dist-packages (from torch<2.2.0,>=2.1.0->animatediff==0.1.dev236+gdbf40d1) (2023.6.0)\n",
            "Requirement already satisfied: triton==2.1.0 in /usr/local/lib/python3.10/dist-packages (from torch<2.2.0,>=2.1.0->animatediff==0.1.dev236+gdbf40d1) (2.1.0)\n",
            "Collecting tokenizers<0.15,>=0.14 (from transformers<4.35.0,>=4.30.2->animatediff==0.1.dev236+gdbf40d1)\n",
            "  Downloading tokenizers-0.14.1-cp310-cp310-manylinux_2_17_x86_64.manylinux2014_x86_64.whl (3.8 MB)\n",
            "\u001b[2K     \u001b[90m━━━━━━━━━━━━━━━━━━━━━━━━━━━━━━━━━━━━━━━━\u001b[0m \u001b[32m3.8/3.8 MB\u001b[0m \u001b[31m103.5 MB/s\u001b[0m eta \u001b[36m0:00:00\u001b[0m\n",
            "\u001b[?25hCollecting torch<2.2.0,>=2.1.0 (from animatediff==0.1.dev236+gdbf40d1)\n",
            "  Downloading torch-2.1.2-cp310-cp310-manylinux1_x86_64.whl (670.2 MB)\n",
            "\u001b[2K     \u001b[90m━━━━━━━━━━━━━━━━━━━━━━━━━━━━━━━━━━━━━━━━\u001b[0m \u001b[32m670.2/670.2 MB\u001b[0m \u001b[31m2.5 MB/s\u001b[0m eta \u001b[36m0:00:00\u001b[0m\n",
            "\u001b[?25hCollecting nvidia-cuda-nvrtc-cu12==12.1.105 (from torch<2.2.0,>=2.1.0->animatediff==0.1.dev236+gdbf40d1)\n",
            "  Downloading nvidia_cuda_nvrtc_cu12-12.1.105-py3-none-manylinux1_x86_64.whl (23.7 MB)\n",
            "\u001b[2K     \u001b[90m━━━━━━━━━━━━━━━━━━━━━━━━━━━━━━━━━━━━━━━━\u001b[0m \u001b[32m23.7/23.7 MB\u001b[0m \u001b[31m53.2 MB/s\u001b[0m eta \u001b[36m0:00:00\u001b[0m\n",
            "\u001b[?25hCollecting nvidia-cuda-runtime-cu12==12.1.105 (from torch<2.2.0,>=2.1.0->animatediff==0.1.dev236+gdbf40d1)\n",
            "  Downloading nvidia_cuda_runtime_cu12-12.1.105-py3-none-manylinux1_x86_64.whl (823 kB)\n",
            "\u001b[2K     \u001b[90m━━━━━━━━━━━━━━━━━━━━━━━━━━━━━━━━━━━━━━━━\u001b[0m \u001b[32m823.6/823.6 kB\u001b[0m \u001b[31m66.7 MB/s\u001b[0m eta \u001b[36m0:00:00\u001b[0m\n",
            "\u001b[?25hCollecting nvidia-cuda-cupti-cu12==12.1.105 (from torch<2.2.0,>=2.1.0->animatediff==0.1.dev236+gdbf40d1)\n",
            "  Downloading nvidia_cuda_cupti_cu12-12.1.105-py3-none-manylinux1_x86_64.whl (14.1 MB)\n",
            "\u001b[2K     \u001b[90m━━━━━━━━━━━━━━━━━━━━━━━━━━━━━━━━━━━━━━━━\u001b[0m \u001b[32m14.1/14.1 MB\u001b[0m \u001b[31m77.2 MB/s\u001b[0m eta \u001b[36m0:00:00\u001b[0m\n",
            "\u001b[?25hCollecting nvidia-cudnn-cu12==8.9.2.26 (from torch<2.2.0,>=2.1.0->animatediff==0.1.dev236+gdbf40d1)\n",
            "  Downloading nvidia_cudnn_cu12-8.9.2.26-py3-none-manylinux1_x86_64.whl (731.7 MB)\n",
            "\u001b[2K     \u001b[90m━━━━━━━━━━━━━━━━━━━━━━━━━━━━━━━━━━━━━━━━\u001b[0m \u001b[32m731.7/731.7 MB\u001b[0m \u001b[31m2.2 MB/s\u001b[0m eta \u001b[36m0:00:00\u001b[0m\n",
            "\u001b[?25hCollecting nvidia-cublas-cu12==12.1.3.1 (from torch<2.2.0,>=2.1.0->animatediff==0.1.dev236+gdbf40d1)\n",
            "  Downloading nvidia_cublas_cu12-12.1.3.1-py3-none-manylinux1_x86_64.whl (410.6 MB)\n",
            "\u001b[2K     \u001b[90m━━━━━━━━━━━━━━━━━━━━━━━━━━━━━━━━━━━━━━━━\u001b[0m \u001b[32m410.6/410.6 MB\u001b[0m \u001b[31m2.7 MB/s\u001b[0m eta \u001b[36m0:00:00\u001b[0m\n",
            "\u001b[?25hCollecting nvidia-cufft-cu12==11.0.2.54 (from torch<2.2.0,>=2.1.0->animatediff==0.1.dev236+gdbf40d1)\n",
            "  Downloading nvidia_cufft_cu12-11.0.2.54-py3-none-manylinux1_x86_64.whl (121.6 MB)\n",
            "\u001b[2K     \u001b[90m━━━━━━━━━━━━━━━━━━━━━━━━━━━━━━━━━━━━━━━━\u001b[0m \u001b[32m121.6/121.6 MB\u001b[0m \u001b[31m8.3 MB/s\u001b[0m eta \u001b[36m0:00:00\u001b[0m\n",
            "\u001b[?25hCollecting nvidia-curand-cu12==10.3.2.106 (from torch<2.2.0,>=2.1.0->animatediff==0.1.dev236+gdbf40d1)\n",
            "  Downloading nvidia_curand_cu12-10.3.2.106-py3-none-manylinux1_x86_64.whl (56.5 MB)\n",
            "\u001b[2K     \u001b[90m━━━━━━━━━━━━━━━━━━━━━━━━━━━━━━━━━━━━━━━━\u001b[0m \u001b[32m56.5/56.5 MB\u001b[0m \u001b[31m11.7 MB/s\u001b[0m eta \u001b[36m0:00:00\u001b[0m\n",
            "\u001b[?25hCollecting nvidia-cusolver-cu12==11.4.5.107 (from torch<2.2.0,>=2.1.0->animatediff==0.1.dev236+gdbf40d1)\n",
            "  Downloading nvidia_cusolver_cu12-11.4.5.107-py3-none-manylinux1_x86_64.whl (124.2 MB)\n",
            "\u001b[2K     \u001b[90m━━━━━━━━━━━━━━━━━━━━━━━━━━━━━━━━━━━━━━━━\u001b[0m \u001b[32m124.2/124.2 MB\u001b[0m \u001b[31m8.5 MB/s\u001b[0m eta \u001b[36m0:00:00\u001b[0m\n",
            "\u001b[?25hCollecting nvidia-cusparse-cu12==12.1.0.106 (from torch<2.2.0,>=2.1.0->animatediff==0.1.dev236+gdbf40d1)\n",
            "  Downloading nvidia_cusparse_cu12-12.1.0.106-py3-none-manylinux1_x86_64.whl (196.0 MB)\n",
            "\u001b[2K     \u001b[90m━━━━━━━━━━━━━━━━━━━━━━━━━━━━━━━━━━━━━━━━\u001b[0m \u001b[32m196.0/196.0 MB\u001b[0m \u001b[31m6.6 MB/s\u001b[0m eta \u001b[36m0:00:00\u001b[0m\n",
            "\u001b[?25hCollecting nvidia-nccl-cu12==2.18.1 (from torch<2.2.0,>=2.1.0->animatediff==0.1.dev236+gdbf40d1)\n",
            "  Downloading nvidia_nccl_cu12-2.18.1-py3-none-manylinux1_x86_64.whl (209.8 MB)\n",
            "\u001b[2K     \u001b[90m━━━━━━━━━━━━━━━━━━━━━━━━━━━━━━━━━━━━━━━━\u001b[0m \u001b[32m209.8/209.8 MB\u001b[0m \u001b[31m4.4 MB/s\u001b[0m eta \u001b[36m0:00:00\u001b[0m\n",
            "\u001b[?25hCollecting nvidia-nvtx-cu12==12.1.105 (from torch<2.2.0,>=2.1.0->animatediff==0.1.dev236+gdbf40d1)\n",
            "  Downloading nvidia_nvtx_cu12-12.1.105-py3-none-manylinux1_x86_64.whl (99 kB)\n",
            "\u001b[2K     \u001b[90m━━━━━━━━━━━━━━━━━━━━━━━━━━━━━━━━━━━━━━━━\u001b[0m \u001b[32m99.1/99.1 kB\u001b[0m \u001b[31m11.7 MB/s\u001b[0m eta \u001b[36m0:00:00\u001b[0m\n",
            "\u001b[?25hCollecting nvidia-nvjitlink-cu12 (from nvidia-cusolver-cu12==11.4.5.107->torch<2.2.0,>=2.1.0->animatediff==0.1.dev236+gdbf40d1)\n",
            "  Downloading nvidia_nvjitlink_cu12-12.3.101-py3-none-manylinux1_x86_64.whl (20.5 MB)\n",
            "\u001b[2K     \u001b[90m━━━━━━━━━━━━━━━━━━━━━━━━━━━━━━━━━━━━━━━━\u001b[0m \u001b[32m20.5/20.5 MB\u001b[0m \u001b[31m75.2 MB/s\u001b[0m eta \u001b[36m0:00:00\u001b[0m\n",
            "\u001b[?25hRequirement already satisfied: scipy in /usr/local/lib/python3.10/dist-packages (from controlnet-aux->animatediff==0.1.dev236+gdbf40d1) (1.11.4)\n",
            "Requirement already satisfied: opencv-python in /usr/local/lib/python3.10/dist-packages (from controlnet-aux->animatediff==0.1.dev236+gdbf40d1) (4.8.0.76)\n",
            "Collecting timm (from controlnet-aux->animatediff==0.1.dev236+gdbf40d1)\n",
            "  Downloading timm-0.9.12-py3-none-any.whl (2.2 MB)\n",
            "\u001b[2K     \u001b[90m━━━━━━━━━━━━━━━━━━━━━━━━━━━━━━━━━━━━━━━━\u001b[0m \u001b[32m2.2/2.2 MB\u001b[0m \u001b[31m105.7 MB/s\u001b[0m eta \u001b[36m0:00:00\u001b[0m\n",
            "\u001b[?25hRequirement already satisfied: scikit-image in /usr/local/lib/python3.10/dist-packages (from controlnet-aux->animatediff==0.1.dev236+gdbf40d1) (0.19.3)\n",
            "Collecting jedi>=0.16 (from ipython->animatediff==0.1.dev236+gdbf40d1)\n",
            "  Downloading jedi-0.19.1-py2.py3-none-any.whl (1.6 MB)\n",
            "\u001b[2K     \u001b[90m━━━━━━━━━━━━━━━━━━━━━━━━━━━━━━━━━━━━━━━━\u001b[0m \u001b[32m1.6/1.6 MB\u001b[0m \u001b[31m95.1 MB/s\u001b[0m eta \u001b[36m0:00:00\u001b[0m\n",
            "\u001b[?25hRequirement already satisfied: decorator in /usr/local/lib/python3.10/dist-packages (from ipython->animatediff==0.1.dev236+gdbf40d1) (4.4.2)\n",
            "Requirement already satisfied: pickleshare in /usr/local/lib/python3.10/dist-packages (from ipython->animatediff==0.1.dev236+gdbf40d1) (0.7.5)\n",
            "Requirement already satisfied: traitlets>=4.2 in /usr/local/lib/python3.10/dist-packages (from ipython->animatediff==0.1.dev236+gdbf40d1) (5.7.1)\n",
            "Requirement already satisfied: prompt-toolkit!=3.0.0,!=3.0.1,<3.1.0,>=2.0.0 in /usr/local/lib/python3.10/dist-packages (from ipython->animatediff==0.1.dev236+gdbf40d1) (3.0.43)\n",
            "Requirement already satisfied: backcall in /usr/local/lib/python3.10/dist-packages (from ipython->animatediff==0.1.dev236+gdbf40d1) (0.2.0)\n",
            "Requirement already satisfied: matplotlib-inline in /usr/local/lib/python3.10/dist-packages (from ipython->animatediff==0.1.dev236+gdbf40d1) (0.1.6)\n",
            "Requirement already satisfied: pexpect>4.3 in /usr/local/lib/python3.10/dist-packages (from ipython->animatediff==0.1.dev236+gdbf40d1) (4.9.0)\n",
            "Requirement already satisfied: contourpy>=1.0.1 in /usr/local/lib/python3.10/dist-packages (from matplotlib->animatediff==0.1.dev236+gdbf40d1) (1.2.0)\n",
            "Requirement already satisfied: cycler>=0.10 in /usr/local/lib/python3.10/dist-packages (from matplotlib->animatediff==0.1.dev236+gdbf40d1) (0.12.1)\n",
            "Requirement already satisfied: fonttools>=4.22.0 in /usr/local/lib/python3.10/dist-packages (from matplotlib->animatediff==0.1.dev236+gdbf40d1) (4.47.0)\n",
            "Requirement already satisfied: kiwisolver>=1.0.1 in /usr/local/lib/python3.10/dist-packages (from matplotlib->animatediff==0.1.dev236+gdbf40d1) (1.4.5)\n",
            "Requirement already satisfied: pyparsing>=2.3.1 in /usr/local/lib/python3.10/dist-packages (from matplotlib->animatediff==0.1.dev236+gdbf40d1) (3.1.1)\n",
            "Requirement already satisfied: python-dateutil>=2.7 in /usr/local/lib/python3.10/dist-packages (from matplotlib->animatediff==0.1.dev236+gdbf40d1) (2.8.2)\n",
            "Requirement already satisfied: absl-py in /usr/local/lib/python3.10/dist-packages (from mediapipe->animatediff==0.1.dev236+gdbf40d1) (1.4.0)\n",
            "Requirement already satisfied: attrs>=19.1.0 in /usr/local/lib/python3.10/dist-packages (from mediapipe->animatediff==0.1.dev236+gdbf40d1) (23.2.0)\n",
            "Requirement already satisfied: flatbuffers>=2.0 in /usr/local/lib/python3.10/dist-packages (from mediapipe->animatediff==0.1.dev236+gdbf40d1) (23.5.26)\n",
            "Requirement already satisfied: opencv-contrib-python in /usr/local/lib/python3.10/dist-packages (from mediapipe->animatediff==0.1.dev236+gdbf40d1) (4.8.0.76)\n",
            "Requirement already satisfied: protobuf<4,>=3.11 in /usr/local/lib/python3.10/dist-packages (from mediapipe->animatediff==0.1.dev236+gdbf40d1) (3.20.3)\n",
            "Collecting sounddevice>=0.4.4 (from mediapipe->animatediff==0.1.dev236+gdbf40d1)\n",
            "  Downloading sounddevice-0.4.6-py3-none-any.whl (31 kB)\n",
            "INFO: pip is looking at multiple versions of torchaudio to determine which version is compatible with other requirements. This could take a while.\n",
            "Collecting torchaudio (from animatediff==0.1.dev236+gdbf40d1)\n",
            "  Downloading torchaudio-2.1.2-cp310-cp310-manylinux1_x86_64.whl (3.3 MB)\n",
            "\u001b[2K     \u001b[90m━━━━━━━━━━━━━━━━━━━━━━━━━━━━━━━━━━━━━━━━\u001b[0m \u001b[32m3.3/3.3 MB\u001b[0m \u001b[31m109.6 MB/s\u001b[0m eta \u001b[36m0:00:00\u001b[0m\n",
            "\u001b[?25hINFO: pip is looking at multiple versions of torchvision to determine which version is compatible with other requirements. This could take a while.\n",
            "Collecting torchvision (from animatediff==0.1.dev236+gdbf40d1)\n",
            "  Downloading torchvision-0.16.2-cp310-cp310-manylinux1_x86_64.whl (6.8 MB)\n",
            "\u001b[2K     \u001b[90m━━━━━━━━━━━━━━━━━━━━━━━━━━━━━━━━━━━━━━━━\u001b[0m \u001b[32m6.8/6.8 MB\u001b[0m \u001b[31m114.4 MB/s\u001b[0m eta \u001b[36m0:00:00\u001b[0m\n",
            "\u001b[?25hRequirement already satisfied: parso<0.9.0,>=0.8.3 in /usr/local/lib/python3.10/dist-packages (from jedi>=0.16->ipython->animatediff==0.1.dev236+gdbf40d1) (0.8.3)\n",
            "Requirement already satisfied: mdurl~=0.1 in /usr/local/lib/python3.10/dist-packages (from markdown-it-py>=2.2.0->rich<14.0.0,>=13.0.0->animatediff==0.1.dev236+gdbf40d1) (0.1.2)\n",
            "Requirement already satisfied: ptyprocess>=0.5 in /usr/local/lib/python3.10/dist-packages (from pexpect>4.3->ipython->animatediff==0.1.dev236+gdbf40d1) (0.7.0)\n",
            "Requirement already satisfied: wcwidth in /usr/local/lib/python3.10/dist-packages (from prompt-toolkit!=3.0.0,!=3.0.1,<3.1.0,>=2.0.0->ipython->animatediff==0.1.dev236+gdbf40d1) (0.2.12)\n",
            "Requirement already satisfied: CFFI>=1.0 in /usr/local/lib/python3.10/dist-packages (from sounddevice>=0.4.4->mediapipe->animatediff==0.1.dev236+gdbf40d1) (1.16.0)\n",
            "Collecting huggingface-hub>=0.13.2 (from diffusers==0.23.0->animatediff==0.1.dev236+gdbf40d1)\n",
            "  Downloading huggingface_hub-0.17.3-py3-none-any.whl (295 kB)\n",
            "\u001b[2K     \u001b[90m━━━━━━━━━━━━━━━━━━━━━━━━━━━━━━━━━━━━━━━━\u001b[0m \u001b[32m295.0/295.0 kB\u001b[0m \u001b[31m39.5 MB/s\u001b[0m eta \u001b[36m0:00:00\u001b[0m\n",
            "\u001b[?25hCollecting distlib<1,>=0.3.7 (from virtualenv>=20.10.0->pre-commit>=3.3.0->animatediff==0.1.dev236+gdbf40d1)\n",
            "  Downloading distlib-0.3.8-py2.py3-none-any.whl (468 kB)\n",
            "\u001b[2K     \u001b[90m━━━━━━━━━━━━━━━━━━━━━━━━━━━━━━━━━━━━━━━━\u001b[0m \u001b[32m468.9/468.9 kB\u001b[0m \u001b[31m52.8 MB/s\u001b[0m eta \u001b[36m0:00:00\u001b[0m\n",
            "\u001b[?25hRequirement already satisfied: soupsieve>1.2 in /usr/local/lib/python3.10/dist-packages (from beautifulsoup4->gdown>=4.6.6->animatediff==0.1.dev236+gdbf40d1) (2.5)\n",
            "Requirement already satisfied: zipp>=0.5 in /usr/local/lib/python3.10/dist-packages (from importlib-metadata->diffusers==0.23.0->animatediff==0.1.dev236+gdbf40d1) (3.17.0)\n",
            "Requirement already satisfied: MarkupSafe>=2.0 in /usr/local/lib/python3.10/dist-packages (from jinja2->torch<2.2.0,>=2.1.0->animatediff==0.1.dev236+gdbf40d1) (2.1.3)\n",
            "Requirement already satisfied: charset-normalizer<4,>=2 in /usr/local/lib/python3.10/dist-packages (from requests->diffusers==0.23.0->animatediff==0.1.dev236+gdbf40d1) (3.3.2)\n",
            "Requirement already satisfied: idna<4,>=2.5 in /usr/local/lib/python3.10/dist-packages (from requests->diffusers==0.23.0->animatediff==0.1.dev236+gdbf40d1) (3.6)\n",
            "Requirement already satisfied: urllib3<3,>=1.21.1 in /usr/local/lib/python3.10/dist-packages (from requests->diffusers==0.23.0->animatediff==0.1.dev236+gdbf40d1) (2.0.7)\n",
            "Requirement already satisfied: certifi>=2017.4.17 in /usr/local/lib/python3.10/dist-packages (from requests->diffusers==0.23.0->animatediff==0.1.dev236+gdbf40d1) (2023.11.17)\n",
            "Requirement already satisfied: PySocks!=1.5.7,>=1.5.6 in /usr/local/lib/python3.10/dist-packages (from requests->diffusers==0.23.0->animatediff==0.1.dev236+gdbf40d1) (1.7.1)\n",
            "Requirement already satisfied: imageio>=2.4.1 in /usr/local/lib/python3.10/dist-packages (from scikit-image->controlnet-aux->animatediff==0.1.dev236+gdbf40d1) (2.31.6)\n",
            "Requirement already satisfied: tifffile>=2019.7.26 in /usr/local/lib/python3.10/dist-packages (from scikit-image->controlnet-aux->animatediff==0.1.dev236+gdbf40d1) (2023.12.9)\n",
            "Requirement already satisfied: PyWavelets>=1.1.1 in /usr/local/lib/python3.10/dist-packages (from scikit-image->controlnet-aux->animatediff==0.1.dev236+gdbf40d1) (1.5.0)\n",
            "Requirement already satisfied: mpmath>=0.19 in /usr/local/lib/python3.10/dist-packages (from sympy->torch<2.2.0,>=2.1.0->animatediff==0.1.dev236+gdbf40d1) (1.3.0)\n",
            "Requirement already satisfied: pycparser in /usr/local/lib/python3.10/dist-packages (from CFFI>=1.0->sounddevice>=0.4.4->mediapipe->animatediff==0.1.dev236+gdbf40d1) (2.21)\n",
            "Building wheels for collected packages: antlr4-python3-runtime, animatediff, controlnet-aux\n",
            "  Building wheel for antlr4-python3-runtime (setup.py) ... \u001b[?25l\u001b[?25hdone\n",
            "  Created wheel for antlr4-python3-runtime: filename=antlr4_python3_runtime-4.9.3-py3-none-any.whl size=144554 sha256=0ae15bbc5d2b5d59b43f35116fe600e12756c8c71b0169f3a263460a3aaabbb0\n",
            "  Stored in directory: /root/.cache/pip/wheels/12/93/dd/1f6a127edc45659556564c5730f6d4e300888f4bca2d4c5a88\n",
            "  Building wheel for animatediff (pyproject.toml) ... \u001b[?25l\u001b[?25hdone\n",
            "  Created wheel for animatediff: filename=animatediff-0.1.dev236+gdbf40d1-py3-none-any.whl size=267431 sha256=28a634b210ca796934c2b1bb551340796b32b55ef84efcc75afa537052648f77\n",
            "  Stored in directory: /root/.cache/pip/wheels/68/b1/e0/fc152941e76beb73ab1d505eac509e70e0db4c3f1f080e8744\n",
            "  Building wheel for controlnet-aux (setup.py) ... \u001b[?25l\u001b[?25hdone\n",
            "  Created wheel for controlnet-aux: filename=controlnet_aux-0.0.7-py3-none-any.whl size=274340 sha256=3c1ae8922b5b4302c016a99b31a13bed2823c41127d1647299df96c344efc033\n",
            "  Stored in directory: /root/.cache/pip/wheels/1e/3e/93/6678b4c0bc2ec31d53409b25d4189cbb08bae843e8b2b78e52\n",
            "Successfully built antlr4-python3-runtime animatediff controlnet-aux\n",
            "Installing collected packages: sentencepiece, ninja, distlib, antlr4-python3-runtime, virtualenv, shellingham, setuptools-scm, ruff, pathspec, omegaconf, nvidia-nvtx-cu12, nvidia-nvjitlink-cu12, nvidia-nccl-cu12, nvidia-curand-cu12, nvidia-cufft-cu12, nvidia-cuda-runtime-cu12, nvidia-cuda-nvrtc-cu12, nvidia-cuda-cupti-cu12, nvidia-cublas-cu12, nodeenv, mypy-extensions, jedi, identify, ffmpeg-python, einops, colorama, cfgv, sounddevice, pre-commit, nvidia-cusparse-cu12, nvidia-cudnn-cu12, huggingface-hub, black, tokenizers, nvidia-cusolver-cu12, mediapipe, diffusers, transformers, torch, xformers, torchvision, torchaudio, accelerate, timm, controlnet-aux, animatediff\n",
            "  Attempting uninstall: huggingface-hub\n",
            "    Found existing installation: huggingface-hub 0.20.2\n",
            "    Uninstalling huggingface-hub-0.20.2:\n",
            "      Successfully uninstalled huggingface-hub-0.20.2\n",
            "  Attempting uninstall: tokenizers\n",
            "    Found existing installation: tokenizers 0.15.0\n",
            "    Uninstalling tokenizers-0.15.0:\n",
            "      Successfully uninstalled tokenizers-0.15.0\n",
            "  Attempting uninstall: transformers\n",
            "    Found existing installation: transformers 4.35.2\n",
            "    Uninstalling transformers-4.35.2:\n",
            "      Successfully uninstalled transformers-4.35.2\n",
            "  Attempting uninstall: torch\n",
            "    Found existing installation: torch 2.1.0+cu121\n",
            "    Uninstalling torch-2.1.0+cu121:\n",
            "      Successfully uninstalled torch-2.1.0+cu121\n",
            "  Attempting uninstall: torchvision\n",
            "    Found existing installation: torchvision 0.16.0+cu121\n",
            "    Uninstalling torchvision-0.16.0+cu121:\n",
            "      Successfully uninstalled torchvision-0.16.0+cu121\n",
            "  Attempting uninstall: torchaudio\n",
            "    Found existing installation: torchaudio 2.1.0+cu121\n",
            "    Uninstalling torchaudio-2.1.0+cu121:\n",
            "      Successfully uninstalled torchaudio-2.1.0+cu121\n",
            "\u001b[31mERROR: pip's dependency resolver does not currently take into account all the packages that are installed. This behaviour is the source of the following dependency conflicts.\n",
            "torchdata 0.7.0 requires torch==2.1.0, but you have torch 2.1.2 which is incompatible.\n",
            "torchtext 0.16.0 requires torch==2.1.0, but you have torch 2.1.2 which is incompatible.\u001b[0m\u001b[31m\n",
            "\u001b[0mSuccessfully installed accelerate-0.25.0 animatediff-0.1.dev236+gdbf40d1 antlr4-python3-runtime-4.9.3 black-23.12.1 cfgv-3.4.0 colorama-0.4.6 controlnet-aux-0.0.7 diffusers-0.23.0 distlib-0.3.8 einops-0.7.0 ffmpeg-python-0.2.0 huggingface-hub-0.17.3 identify-2.5.33 jedi-0.19.1 mediapipe-0.10.9 mypy-extensions-1.0.0 ninja-1.11.1.1 nodeenv-1.8.0 nvidia-cublas-cu12-12.1.3.1 nvidia-cuda-cupti-cu12-12.1.105 nvidia-cuda-nvrtc-cu12-12.1.105 nvidia-cuda-runtime-cu12-12.1.105 nvidia-cudnn-cu12-8.9.2.26 nvidia-cufft-cu12-11.0.2.54 nvidia-curand-cu12-10.3.2.106 nvidia-cusolver-cu12-11.4.5.107 nvidia-cusparse-cu12-12.1.0.106 nvidia-nccl-cu12-2.18.1 nvidia-nvjitlink-cu12-12.3.101 nvidia-nvtx-cu12-12.1.105 omegaconf-2.3.0 pathspec-0.12.1 pre-commit-3.6.0 ruff-0.1.11 sentencepiece-0.1.99 setuptools-scm-8.0.4 shellingham-1.5.4 sounddevice-0.4.6 timm-0.9.12 tokenizers-0.14.1 torch-2.1.2 torchaudio-2.1.2 torchvision-0.16.2 transformers-4.34.1 virtualenv-20.25.0 xformers-0.0.23.post1\n"
          ]
        },
        {
          "output_type": "display_data",
          "data": {
            "application/vnd.colab-display-data+json": {
              "pip_warning": {
                "packages": [
                  "pydevd_plugins"
                ]
              }
            }
          },
          "metadata": {}
        },
        {
          "output_type": "stream",
          "name": "stdout",
          "text": [
            "Requirement already satisfied: xformers in /usr/local/lib/python3.10/dist-packages (0.0.23.post1)\n",
            "Requirement already satisfied: mediapipe in /usr/local/lib/python3.10/dist-packages (0.10.9)\n",
            "Requirement already satisfied: numpy in /usr/local/lib/python3.10/dist-packages (from xformers) (1.23.5)\n",
            "Requirement already satisfied: torch==2.1.2 in /usr/local/lib/python3.10/dist-packages (from xformers) (2.1.2)\n",
            "Requirement already satisfied: filelock in /usr/local/lib/python3.10/dist-packages (from torch==2.1.2->xformers) (3.13.1)\n",
            "Requirement already satisfied: typing-extensions in /usr/local/lib/python3.10/dist-packages (from torch==2.1.2->xformers) (4.5.0)\n",
            "Requirement already satisfied: sympy in /usr/local/lib/python3.10/dist-packages (from torch==2.1.2->xformers) (1.12)\n",
            "Requirement already satisfied: networkx in /usr/local/lib/python3.10/dist-packages (from torch==2.1.2->xformers) (3.2.1)\n",
            "Requirement already satisfied: jinja2 in /usr/local/lib/python3.10/dist-packages (from torch==2.1.2->xformers) (3.1.2)\n",
            "Requirement already satisfied: fsspec in /usr/local/lib/python3.10/dist-packages (from torch==2.1.2->xformers) (2023.6.0)\n",
            "Requirement already satisfied: nvidia-cuda-nvrtc-cu12==12.1.105 in /usr/local/lib/python3.10/dist-packages (from torch==2.1.2->xformers) (12.1.105)\n",
            "Requirement already satisfied: nvidia-cuda-runtime-cu12==12.1.105 in /usr/local/lib/python3.10/dist-packages (from torch==2.1.2->xformers) (12.1.105)\n",
            "Requirement already satisfied: nvidia-cuda-cupti-cu12==12.1.105 in /usr/local/lib/python3.10/dist-packages (from torch==2.1.2->xformers) (12.1.105)\n",
            "Requirement already satisfied: nvidia-cudnn-cu12==8.9.2.26 in /usr/local/lib/python3.10/dist-packages (from torch==2.1.2->xformers) (8.9.2.26)\n",
            "Requirement already satisfied: nvidia-cublas-cu12==12.1.3.1 in /usr/local/lib/python3.10/dist-packages (from torch==2.1.2->xformers) (12.1.3.1)\n",
            "Requirement already satisfied: nvidia-cufft-cu12==11.0.2.54 in /usr/local/lib/python3.10/dist-packages (from torch==2.1.2->xformers) (11.0.2.54)\n",
            "Requirement already satisfied: nvidia-curand-cu12==10.3.2.106 in /usr/local/lib/python3.10/dist-packages (from torch==2.1.2->xformers) (10.3.2.106)\n",
            "Requirement already satisfied: nvidia-cusolver-cu12==11.4.5.107 in /usr/local/lib/python3.10/dist-packages (from torch==2.1.2->xformers) (11.4.5.107)\n",
            "Requirement already satisfied: nvidia-cusparse-cu12==12.1.0.106 in /usr/local/lib/python3.10/dist-packages (from torch==2.1.2->xformers) (12.1.0.106)\n",
            "Requirement already satisfied: nvidia-nccl-cu12==2.18.1 in /usr/local/lib/python3.10/dist-packages (from torch==2.1.2->xformers) (2.18.1)\n",
            "Requirement already satisfied: nvidia-nvtx-cu12==12.1.105 in /usr/local/lib/python3.10/dist-packages (from torch==2.1.2->xformers) (12.1.105)\n",
            "Requirement already satisfied: triton==2.1.0 in /usr/local/lib/python3.10/dist-packages (from torch==2.1.2->xformers) (2.1.0)\n",
            "Requirement already satisfied: nvidia-nvjitlink-cu12 in /usr/local/lib/python3.10/dist-packages (from nvidia-cusolver-cu12==11.4.5.107->torch==2.1.2->xformers) (12.3.101)\n",
            "Requirement already satisfied: absl-py in /usr/local/lib/python3.10/dist-packages (from mediapipe) (1.4.0)\n",
            "Requirement already satisfied: attrs>=19.1.0 in /usr/local/lib/python3.10/dist-packages (from mediapipe) (23.2.0)\n",
            "Requirement already satisfied: flatbuffers>=2.0 in /usr/local/lib/python3.10/dist-packages (from mediapipe) (23.5.26)\n",
            "Requirement already satisfied: matplotlib in /usr/local/lib/python3.10/dist-packages (from mediapipe) (3.7.1)\n",
            "Requirement already satisfied: opencv-contrib-python in /usr/local/lib/python3.10/dist-packages (from mediapipe) (4.8.0.76)\n",
            "Requirement already satisfied: protobuf<4,>=3.11 in /usr/local/lib/python3.10/dist-packages (from mediapipe) (3.20.3)\n",
            "Requirement already satisfied: sounddevice>=0.4.4 in /usr/local/lib/python3.10/dist-packages (from mediapipe) (0.4.6)\n",
            "Requirement already satisfied: CFFI>=1.0 in /usr/local/lib/python3.10/dist-packages (from sounddevice>=0.4.4->mediapipe) (1.16.0)\n",
            "Requirement already satisfied: contourpy>=1.0.1 in /usr/local/lib/python3.10/dist-packages (from matplotlib->mediapipe) (1.2.0)\n",
            "Requirement already satisfied: cycler>=0.10 in /usr/local/lib/python3.10/dist-packages (from matplotlib->mediapipe) (0.12.1)\n",
            "Requirement already satisfied: fonttools>=4.22.0 in /usr/local/lib/python3.10/dist-packages (from matplotlib->mediapipe) (4.47.0)\n",
            "Requirement already satisfied: kiwisolver>=1.0.1 in /usr/local/lib/python3.10/dist-packages (from matplotlib->mediapipe) (1.4.5)\n",
            "Requirement already satisfied: packaging>=20.0 in /usr/local/lib/python3.10/dist-packages (from matplotlib->mediapipe) (23.2)\n",
            "Requirement already satisfied: pillow>=6.2.0 in /usr/local/lib/python3.10/dist-packages (from matplotlib->mediapipe) (9.4.0)\n",
            "Requirement already satisfied: pyparsing>=2.3.1 in /usr/local/lib/python3.10/dist-packages (from matplotlib->mediapipe) (3.1.1)\n",
            "Requirement already satisfied: python-dateutil>=2.7 in /usr/local/lib/python3.10/dist-packages (from matplotlib->mediapipe) (2.8.2)\n",
            "Requirement already satisfied: pycparser in /usr/local/lib/python3.10/dist-packages (from CFFI>=1.0->sounddevice>=0.4.4->mediapipe) (2.21)\n",
            "Requirement already satisfied: six>=1.5 in /usr/local/lib/python3.10/dist-packages (from python-dateutil>=2.7->matplotlib->mediapipe) (1.16.0)\n",
            "Requirement already satisfied: MarkupSafe>=2.0 in /usr/local/lib/python3.10/dist-packages (from jinja2->torch==2.1.2->xformers) (2.1.3)\n",
            "Requirement already satisfied: mpmath>=0.19 in /usr/local/lib/python3.10/dist-packages (from sympy->torch==2.1.2->xformers) (1.3.0)\n",
            "Collecting onnxruntime-gpu\n",
            "  Downloading onnxruntime_gpu-1.16.3-cp310-cp310-manylinux_2_17_x86_64.manylinux2014_x86_64.whl (157.1 MB)\n",
            "\u001b[2K     \u001b[90m━━━━━━━━━━━━━━━━━━━━━━━━━━━━━━━━━━━━━━━━\u001b[0m \u001b[32m157.1/157.1 MB\u001b[0m \u001b[31m7.2 MB/s\u001b[0m eta \u001b[36m0:00:00\u001b[0m\n",
            "\u001b[?25hRequirement already satisfied: pandas in /usr/local/lib/python3.10/dist-packages (1.5.3)\n",
            "Collecting coloredlogs (from onnxruntime-gpu)\n",
            "  Downloading coloredlogs-15.0.1-py2.py3-none-any.whl (46 kB)\n",
            "\u001b[2K     \u001b[90m━━━━━━━━━━━━━━━━━━━━━━━━━━━━━━━━━━━━━━━━\u001b[0m \u001b[32m46.0/46.0 kB\u001b[0m \u001b[31m7.3 MB/s\u001b[0m eta \u001b[36m0:00:00\u001b[0m\n",
            "\u001b[?25hRequirement already satisfied: flatbuffers in /usr/local/lib/python3.10/dist-packages (from onnxruntime-gpu) (23.5.26)\n",
            "Requirement already satisfied: numpy>=1.21.6 in /usr/local/lib/python3.10/dist-packages (from onnxruntime-gpu) (1.23.5)\n",
            "Requirement already satisfied: packaging in /usr/local/lib/python3.10/dist-packages (from onnxruntime-gpu) (23.2)\n",
            "Requirement already satisfied: protobuf in /usr/local/lib/python3.10/dist-packages (from onnxruntime-gpu) (3.20.3)\n",
            "Requirement already satisfied: sympy in /usr/local/lib/python3.10/dist-packages (from onnxruntime-gpu) (1.12)\n",
            "Requirement already satisfied: python-dateutil>=2.8.1 in /usr/local/lib/python3.10/dist-packages (from pandas) (2.8.2)\n",
            "Requirement already satisfied: pytz>=2020.1 in /usr/local/lib/python3.10/dist-packages (from pandas) (2023.3.post1)\n",
            "Requirement already satisfied: six>=1.5 in /usr/local/lib/python3.10/dist-packages (from python-dateutil>=2.8.1->pandas) (1.16.0)\n",
            "Collecting humanfriendly>=9.1 (from coloredlogs->onnxruntime-gpu)\n",
            "  Downloading humanfriendly-10.0-py2.py3-none-any.whl (86 kB)\n",
            "\u001b[2K     \u001b[90m━━━━━━━━━━━━━━━━━━━━━━━━━━━━━━━━━━━━━━━━\u001b[0m \u001b[32m86.8/86.8 kB\u001b[0m \u001b[31m13.5 MB/s\u001b[0m eta \u001b[36m0:00:00\u001b[0m\n",
            "\u001b[?25hRequirement already satisfied: mpmath>=0.19 in /usr/local/lib/python3.10/dist-packages (from sympy->onnxruntime-gpu) (1.3.0)\n",
            "Installing collected packages: humanfriendly, coloredlogs, onnxruntime-gpu\n",
            "Successfully installed coloredlogs-15.0.1 humanfriendly-10.0 onnxruntime-gpu-1.16.3\n"
          ]
        }
      ],
      "source": [
        "# manually create a folder on your google drive. Need to connect it to make results persistent. click \"Allow\".\n",
        "# it will ask you for permission.\n",
        "# create a folder called \"AnimateDiffPromptTravel\" in it\n",
        "!apt-get -qq install aria2\n",
        "from google.colab import drive\n",
        "import os, shutil, gc, time\n",
        "\n",
        "\n",
        "gd_output_dir=\"\"\n",
        "base_path = \"/content/animatediff-cli-prompt-travel\"\n",
        "pwd = %pwd\n",
        "print(pwd)\n",
        "if pwd != base_path:\n",
        "  !git clone https://github.com/s9roll7/animatediff-cli-prompt-travel\n",
        "  %cd {base_path}\n",
        "\n",
        "  # !pip install torch==2.0.1+cu118 torchvision==0.15.2+cu118 torchaudio==2.0.2 --index-url https://download.pytorch.org/whl/cu118\n",
        "  !pip install .[dev]\n",
        "  !pip install xformers mediapipe\n",
        "  !pip install onnxruntime-gpu pandas\n",
        "\n",
        "\n",
        "\n",
        "#connect drive\n",
        "# manually create a folder on your google drive. Need to connect it to make results persistent. click \"Allow\".\n",
        "def connect_drive():\n",
        "  drive.mount(\"GoogleDrive\")\n",
        "  gd_path = \"GoogleDrive/MyDrive/AnimateDiffPromptTravel\"\n",
        "  gd_output_dir = gd_path + \"/output\"\n",
        "  os.makedirs(gd_output_dir, exist_ok=True)\n",
        "\n",
        "#for copy files\n",
        "def copy_files(sorc,dest):\n",
        "  files_dir = os.listdir(sorc)\n",
        "# print(files_dir)\n",
        "  for file_name in files_dir:\n",
        "    full_file_path = os.path.join(sorc,file_name)\n",
        "    if os.path.isfile(full_file_path):\n",
        "      shutil.copy(full_file_path,dest)\n",
        "\n"
      ]
    },
    {
      "cell_type": "markdown",
      "metadata": {
        "id": "iTBDiNb71s6h"
      },
      "source": [
        "##Connect Google Drive ((Optional)).\n"
      ]
    },
    {
      "cell_type": "code",
      "execution_count": null,
      "metadata": {
        "id": "br1IjxE3z-0D"
      },
      "outputs": [],
      "source": [
        "  #connect drive\n",
        "  # manually create a folder on your google drive. Need to connect it to make results persistent. click \"Allow\".\n",
        "  # it will ask you for permission.\n",
        "  # create a folder called \"AnimateDiffPromptTravel\" in it\n",
        "\n",
        "connect_drive()"
      ]
    },
    {
      "cell_type": "code",
      "execution_count": null,
      "metadata": {
        "id": "mFUu2Jh1EkmT"
      },
      "outputs": [],
      "source": [
        "!gdown --id 1tXQOZDHHxeIHvsqnsuwdrFBXjHCh7Gle -O /content/animatediff-cli-prompt-travel/GoogleDrive/MyDrive/AnimateDiffPromptTravel/pahari.mp4"
      ]
    },
    {
      "cell_type": "markdown",
      "metadata": {
        "id": "u-tBLhZm2uXw"
      },
      "source": [
        "#Download AI 🗿 MODELS 🚀"
      ]
    },
    {
      "cell_type": "markdown",
      "source": [
        "##Download AnimateDiff Motion Modules.✨"
      ],
      "metadata": {
        "id": "yWzyfX735p-4"
      }
    },
    {
      "cell_type": "code",
      "execution_count": 2,
      "metadata": {
        "id": "g_Z5Mzc_JmvR",
        "colab": {
          "base_uri": "https://localhost:8080/"
        },
        "outputId": "e2284b33-9eee-4a08-d80c-8b9bbcef4299"
      },
      "outputs": [
        {
          "output_type": "stream",
          "name": "stdout",
          "text": [
            "\u001b[0m\n",
            "Download Results:\n",
            "gid   |stat|avg speed  |path/URI\n",
            "======+====+===========+=======================================================\n",
            "0ce75a|\u001b[1;32mOK\u001b[0m  |   246MiB/s|/content/animatediff-cli-prompt-travel/data/models/motion-module/mm_sd_v15_v2.ckpt\n",
            "\n",
            "Status Legend:\n",
            "(OK):download completed.\n"
          ]
        }
      ],
      "source": [
        "# AnimateDiff MotionModule download......................................\n",
        "#Remove the hashtag for desired modules. !------------\n",
        "\n",
        "# !aria2c --console-log-level=error -c -x 16 -s 16 -k 1M https://civitai.com/api/download/models/178017 -d /content/animatediff-cli-prompt-travel/data/models/motion-module -o improved3DMotion_improved3DV1.ckpt\n",
        "!aria2c --console-log-level=error -c -x 16 -s 16 -k 1M https://huggingface.co/guoyww/animatediff/resolve/main/mm_sd_v15_v2.ckpt?download=true -d /content/animatediff-cli-prompt-travel/data/models/motion-module -o mm_sd_v15_v2.ckpt\n",
        "# !aria2c --console-log-level=error -c -x 16 -s 16 -k 1M https://huggingface.co/manshoety/AD_Stabilized_Motion/resolve/main/mm-Stabilized_high.pth?download=true -d /content/animatediff-cli-prompt-travel/data/models/motion-module -o mm-Stabilized_high.pth\n",
        "# !aria2c --console-log-level=error -c -x 16 -s 16 -k 1M https://huggingface.co/CiaraRowles/TemporalDiff/resolve/main/temporaldiff-v1-animatediff.ckpt?download=true -d /content/animatediff-cli-prompt-travel/data/models/motion-module -o temporaldiff-v1-animatediff.ckpt"
      ]
    },
    {
      "cell_type": "markdown",
      "source": [
        "## Download Motion Loras."
      ],
      "metadata": {
        "id": "Mh29xb861Anb"
      }
    },
    {
      "cell_type": "code",
      "source": [
        "!wget -c https://huggingface.co/guoyww/animatediff/resolve/main/v2_lora_PanLeft.ckpt -P /content/animatediff-cli-prompt-travel/data/models/motion_lora\n",
        "!wget -c https://huggingface.co/guoyww/animatediff/resolve/main/v2_lora_ZoomIn.ckpt -P /content/animatediff-cli-prompt-travel/data/models/motion_lora\n"
      ],
      "metadata": {
        "colab": {
          "base_uri": "https://localhost:8080/"
        },
        "id": "rJ4hlTdb0mHK",
        "outputId": "86b2bedc-306f-43b9-e7e6-5a2ed505b2c8"
      },
      "execution_count": 3,
      "outputs": [
        {
          "output_type": "stream",
          "name": "stdout",
          "text": [
            "--2024-01-10 10:15:40--  https://huggingface.co/guoyww/animatediff/resolve/main/v2_lora_PanLeft.ckpt\n",
            "Resolving huggingface.co (huggingface.co)... 18.239.50.103, 18.239.50.80, 18.239.50.16, ...\n",
            "Connecting to huggingface.co (huggingface.co)|18.239.50.103|:443... connected.\n",
            "HTTP request sent, awaiting response... 302 Found\n",
            "Location: https://cdn-lfs.huggingface.co/repos/80/a9/80a9efd8e3732d097f2777edd953760ce288e2370fb8a8bb4803c0f8f29dca40/ed79025f8bea018c8925f43b6304a27e462335b6ec5e6f8a222c2726153844b3?response-content-disposition=attachment%3B+filename*%3DUTF-8%27%27v2_lora_PanLeft.ckpt%3B+filename%3D%22v2_lora_PanLeft.ckpt%22%3B&Expires=1705138081&Policy=eyJTdGF0ZW1lbnQiOlt7IkNvbmRpdGlvbiI6eyJEYXRlTGVzc1RoYW4iOnsiQVdTOkVwb2NoVGltZSI6MTcwNTEzODA4MX19LCJSZXNvdXJjZSI6Imh0dHBzOi8vY2RuLWxmcy5odWdnaW5nZmFjZS5jby9yZXBvcy84MC9hOS84MGE5ZWZkOGUzNzMyZDA5N2YyNzc3ZWRkOTUzNzYwY2UyODhlMjM3MGZiOGE4YmI0ODAzYzBmOGYyOWRjYTQwL2VkNzkwMjVmOGJlYTAxOGM4OTI1ZjQzYjYzMDRhMjdlNDYyMzM1YjZlYzVlNmY4YTIyMmMyNzI2MTUzODQ0YjM%7EcmVzcG9uc2UtY29udGVudC1kaXNwb3NpdGlvbj0qIn1dfQ__&Signature=FNLFm0rLtQEv0cSe5vs6hekJKIh3HgItbfuezL4DNkqozUnAzyaNj244qSrO4bkmSXRlK7zpsOh64hJN78NGVu9dXYmAWGpLEKTE49Nf3GLY4TAK7cDi9sFKnOxGGHUA8XkTHk38ElYDEl3iDL4-PZ9kKQQnnzx5SHua7VE4bTXTlU2fkKusnE4IJoLIeQEwi9FPjtsCTgdHVVhifMEdvFmAaQIqsrKKgNucvK2lOIpj-yrr%7EB7mc9oXdYnbAm0nUF9dNC2Xr8A1nIwzrITykBH1SBz62e8-ZexVW3QKHbsRi-fz0deBtkBqp8bUuDRlHTtUrkBDFumQUdwHxIUEDA__&Key-Pair-Id=KVTP0A1DKRTAX [following]\n",
            "--2024-01-10 10:15:40--  https://cdn-lfs.huggingface.co/repos/80/a9/80a9efd8e3732d097f2777edd953760ce288e2370fb8a8bb4803c0f8f29dca40/ed79025f8bea018c8925f43b6304a27e462335b6ec5e6f8a222c2726153844b3?response-content-disposition=attachment%3B+filename*%3DUTF-8%27%27v2_lora_PanLeft.ckpt%3B+filename%3D%22v2_lora_PanLeft.ckpt%22%3B&Expires=1705138081&Policy=eyJTdGF0ZW1lbnQiOlt7IkNvbmRpdGlvbiI6eyJEYXRlTGVzc1RoYW4iOnsiQVdTOkVwb2NoVGltZSI6MTcwNTEzODA4MX19LCJSZXNvdXJjZSI6Imh0dHBzOi8vY2RuLWxmcy5odWdnaW5nZmFjZS5jby9yZXBvcy84MC9hOS84MGE5ZWZkOGUzNzMyZDA5N2YyNzc3ZWRkOTUzNzYwY2UyODhlMjM3MGZiOGE4YmI0ODAzYzBmOGYyOWRjYTQwL2VkNzkwMjVmOGJlYTAxOGM4OTI1ZjQzYjYzMDRhMjdlNDYyMzM1YjZlYzVlNmY4YTIyMmMyNzI2MTUzODQ0YjM%7EcmVzcG9uc2UtY29udGVudC1kaXNwb3NpdGlvbj0qIn1dfQ__&Signature=FNLFm0rLtQEv0cSe5vs6hekJKIh3HgItbfuezL4DNkqozUnAzyaNj244qSrO4bkmSXRlK7zpsOh64hJN78NGVu9dXYmAWGpLEKTE49Nf3GLY4TAK7cDi9sFKnOxGGHUA8XkTHk38ElYDEl3iDL4-PZ9kKQQnnzx5SHua7VE4bTXTlU2fkKusnE4IJoLIeQEwi9FPjtsCTgdHVVhifMEdvFmAaQIqsrKKgNucvK2lOIpj-yrr%7EB7mc9oXdYnbAm0nUF9dNC2Xr8A1nIwzrITykBH1SBz62e8-ZexVW3QKHbsRi-fz0deBtkBqp8bUuDRlHTtUrkBDFumQUdwHxIUEDA__&Key-Pair-Id=KVTP0A1DKRTAX\n",
            "Resolving cdn-lfs.huggingface.co (cdn-lfs.huggingface.co)... 18.239.18.68, 18.239.18.84, 18.239.18.94, ...\n",
            "Connecting to cdn-lfs.huggingface.co (cdn-lfs.huggingface.co)|18.239.18.68|:443... connected.\n",
            "HTTP request sent, awaiting response... 200 OK\n",
            "Length: 77474499 (74M) [binary/octet-stream]\n",
            "Saving to: ‘/content/animatediff-cli-prompt-travel/data/models/motion_lora/v2_lora_PanLeft.ckpt’\n",
            "\n",
            "v2_lora_PanLeft.ckp 100%[===================>]  73.88M   187MB/s    in 0.4s    \n",
            "\n",
            "2024-01-10 10:15:41 (187 MB/s) - ‘/content/animatediff-cli-prompt-travel/data/models/motion_lora/v2_lora_PanLeft.ckpt’ saved [77474499/77474499]\n",
            "\n",
            "--2024-01-10 10:15:41--  https://huggingface.co/guoyww/animatediff/resolve/main/v2_lora_ZoomIn.ckpt\n",
            "Resolving huggingface.co (huggingface.co)... 18.239.50.103, 18.239.50.80, 18.239.50.16, ...\n",
            "Connecting to huggingface.co (huggingface.co)|18.239.50.103|:443... connected.\n",
            "HTTP request sent, awaiting response... 302 Found\n",
            "Location: https://cdn-lfs.huggingface.co/repos/80/a9/80a9efd8e3732d097f2777edd953760ce288e2370fb8a8bb4803c0f8f29dca40/70ce8b9057b173b9249c48aca5d66c8aa1d8aaa040fda394e50e37f3e278195e?response-content-disposition=attachment%3B+filename*%3DUTF-8%27%27v2_lora_ZoomIn.ckpt%3B+filename%3D%22v2_lora_ZoomIn.ckpt%22%3B&Expires=1705136982&Policy=eyJTdGF0ZW1lbnQiOlt7IkNvbmRpdGlvbiI6eyJEYXRlTGVzc1RoYW4iOnsiQVdTOkVwb2NoVGltZSI6MTcwNTEzNjk4Mn19LCJSZXNvdXJjZSI6Imh0dHBzOi8vY2RuLWxmcy5odWdnaW5nZmFjZS5jby9yZXBvcy84MC9hOS84MGE5ZWZkOGUzNzMyZDA5N2YyNzc3ZWRkOTUzNzYwY2UyODhlMjM3MGZiOGE4YmI0ODAzYzBmOGYyOWRjYTQwLzcwY2U4YjkwNTdiMTczYjkyNDljNDhhY2E1ZDY2YzhhYTFkOGFhYTA0MGZkYTM5NGU1MGUzN2YzZTI3ODE5NWU%7EcmVzcG9uc2UtY29udGVudC1kaXNwb3NpdGlvbj0qIn1dfQ__&Signature=rwqtWT3WK4HNmRrz4ODKepXWMD7kWRYxu2rUEn1SKN7C0bVdUY-bm3BpP3Qr8qR35-JxMG8%7EWJ8RDj1khnhMRmg4e5BzH9VhDgCLVqW8fVy-SRbMqWRqCH3vVHi9W0SorQ8eGNDWunhRxaRsixKzYZFebn190k3FNLAlFR0exUPj1Y2-Q1pP0hHw0OXpuG7TG1iqqD6dGtFAYahcmJavN2QYWnwC-K1LJtlywU7JR7SzdMv3fSfiWrXrulXOcxbPBT3APb%7ExE9w%7EihEIPAcfbpIrJD4oZUKERy%7EiFXfn6vrw%7EQ8GmOYJlPaRcqvckpt6DwPWBbsZMosyo0%7EBvJkhmQ__&Key-Pair-Id=KVTP0A1DKRTAX [following]\n",
            "--2024-01-10 10:15:41--  https://cdn-lfs.huggingface.co/repos/80/a9/80a9efd8e3732d097f2777edd953760ce288e2370fb8a8bb4803c0f8f29dca40/70ce8b9057b173b9249c48aca5d66c8aa1d8aaa040fda394e50e37f3e278195e?response-content-disposition=attachment%3B+filename*%3DUTF-8%27%27v2_lora_ZoomIn.ckpt%3B+filename%3D%22v2_lora_ZoomIn.ckpt%22%3B&Expires=1705136982&Policy=eyJTdGF0ZW1lbnQiOlt7IkNvbmRpdGlvbiI6eyJEYXRlTGVzc1RoYW4iOnsiQVdTOkVwb2NoVGltZSI6MTcwNTEzNjk4Mn19LCJSZXNvdXJjZSI6Imh0dHBzOi8vY2RuLWxmcy5odWdnaW5nZmFjZS5jby9yZXBvcy84MC9hOS84MGE5ZWZkOGUzNzMyZDA5N2YyNzc3ZWRkOTUzNzYwY2UyODhlMjM3MGZiOGE4YmI0ODAzYzBmOGYyOWRjYTQwLzcwY2U4YjkwNTdiMTczYjkyNDljNDhhY2E1ZDY2YzhhYTFkOGFhYTA0MGZkYTM5NGU1MGUzN2YzZTI3ODE5NWU%7EcmVzcG9uc2UtY29udGVudC1kaXNwb3NpdGlvbj0qIn1dfQ__&Signature=rwqtWT3WK4HNmRrz4ODKepXWMD7kWRYxu2rUEn1SKN7C0bVdUY-bm3BpP3Qr8qR35-JxMG8%7EWJ8RDj1khnhMRmg4e5BzH9VhDgCLVqW8fVy-SRbMqWRqCH3vVHi9W0SorQ8eGNDWunhRxaRsixKzYZFebn190k3FNLAlFR0exUPj1Y2-Q1pP0hHw0OXpuG7TG1iqqD6dGtFAYahcmJavN2QYWnwC-K1LJtlywU7JR7SzdMv3fSfiWrXrulXOcxbPBT3APb%7ExE9w%7EihEIPAcfbpIrJD4oZUKERy%7EiFXfn6vrw%7EQ8GmOYJlPaRcqvckpt6DwPWBbsZMosyo0%7EBvJkhmQ__&Key-Pair-Id=KVTP0A1DKRTAX\n",
            "Resolving cdn-lfs.huggingface.co (cdn-lfs.huggingface.co)... 18.239.18.68, 18.239.18.84, 18.239.18.94, ...\n",
            "Connecting to cdn-lfs.huggingface.co (cdn-lfs.huggingface.co)|18.239.18.68|:443... connected.\n",
            "HTTP request sent, awaiting response... 200 OK\n",
            "Length: 77474499 (74M) [binary/octet-stream]\n",
            "Saving to: ‘/content/animatediff-cli-prompt-travel/data/models/motion_lora/v2_lora_ZoomIn.ckpt’\n",
            "\n",
            "v2_lora_ZoomIn.ckpt 100%[===================>]  73.88M   284MB/s    in 0.3s    \n",
            "\n",
            "2024-01-10 10:15:41 (284 MB/s) - ‘/content/animatediff-cli-prompt-travel/data/models/motion_lora/v2_lora_ZoomIn.ckpt’ saved [77474499/77474499]\n",
            "\n"
          ]
        }
      ]
    },
    {
      "cell_type": "markdown",
      "metadata": {
        "id": "me2gDmsf2wHw"
      },
      "source": [
        "## Download Stable Diffusion Model ⚙ (SD v1.5)."
      ]
    },
    {
      "cell_type": "code",
      "execution_count": 4,
      "metadata": {
        "id": "s0XepFH4Jmx9",
        "colab": {
          "base_uri": "https://localhost:8080/"
        },
        "outputId": "37591a73-edfc-40be-e90c-862412152db1"
      },
      "outputs": [
        {
          "output_type": "stream",
          "name": "stdout",
          "text": [
            "  % Total    % Received % Xferd  Average Speed   Time    Time     Time  Current\n",
            "                                 Dload  Upload   Total   Spent    Left  Speed\n",
            "100  1153  100  1153    0     0   5641      0 --:--:-- --:--:-- --:--:--  5651\n",
            "100 2193M  100 2193M    0     0   232M      0  0:00:09  0:00:09 --:--:--  246M\n"
          ]
        }
      ],
      "source": [
        "# SD model download  SD 1.5\n",
        "# feel free to experiment other models\n",
        "#Remove the hashtag for desired checkpoints. !------------\n",
        "\n",
        "#Realistic checkpoints:\n",
        "#!curl -Lo \"/content/animatediff-cli-prompt-travel/data/models/sd/Epicrealismv5.safetensors\" \"https://civitai.com/api/download/models/134065?type=Model&format=SafeTensor&size=pruned&fp=fp16\"\n",
        "#!curl -Lo \"/content/animatediff-cli-prompt-travel/data/models/sd/Cyberrealistic.safetensors\" \"https://civitai.com/api/download/models/138176?type=Model&format=SafeTensor&size=pruned&fp=fp16\"\n",
        "# !curl -Lo \"/content/animatediff-cli-prompt-travel/data/models/sd/Majicmix.safetensors\" \"https://civitai.com/api/download/models/94640\"\n",
        "#!curl -Lo \"/content/animatediff-cli-prompt-travel/data/models/sd/Photon.safetensors\" \"https://civitai.com/api/download/models/90072\"\n",
        "#!curl -Lo \"/content/animatediff-cli-prompt-travel/data/models/sd/chilloutmix.safetensors\" \"https://civitai.com/api/download/models/11745\"\n",
        "#!curl -Lo \"/content/animatediff-cli-prompt-travel/data/models/sd/DreamShaper_8_pruned.safetensors\" \"https://huggingface.co/Lykon/DreamShaper/resolve/main/DreamShaper_8_pruned.safetensors?download=true\"\n",
        "#!curl -Lo \"/content/animatediff-cli-prompt-travel/data/models/sd/ProtoGen_X5.8-pruned-fp16.safetensors\" \"https://huggingface.co/darkstorm2150/Protogen_x5.8_Official_Release/resolve/main/ProtoGen_X5.8-pruned-fp16.safetensors?download=true\"\n",
        "#!curl -Lo \"/content/animatediff-cli-prompt-travel/data/models/sd/Dreamlike_Diffusion_1.safetensors\" \"https://civitai.com/api/download/models/1356\"\n",
        "\n",
        "#Animation checkpoints:\n",
        "# !curl -Lo \"/content/animatediff-cli-prompt-travel/data/models/sd/RealCartoon-Pixar.ckpt\" \"https://huggingface.co/jzli/RealCartoon-Pixar-V5/resolve/main/realcartoonPixar_v5.ckpt?download=true\"\n",
        "!curl -Lo \"/content/animatediff-cli-prompt-travel/data/models/sd/toonyou_beta6.safetensors\" \"https://huggingface.co/frankjoshua/toonyou_beta6/resolve/main/toonyou_beta6.safetensors?download=true\"\n",
        "#Anime checkpoints:\n",
        "# !wget -c https://civitai.com/api/download/models/98960 -O /content/animatediff-cli-prompt-travel/data/models/sd/toonyou-jp.safetensors\n",
        "# !curl -Lo \"/content/animatediff-cli-prompt-travel/data/models/sd/Anything_V4_5.safetensors\" \"https://civitai.com/api/download/models/5581\"\n",
        "# !curl -Lo \"/content/animatediff-cli-prompt-travel/data/models/sd/Anything_V5.safetensors\" \"https://civitai.com/api/download/models/30163\"\n",
        "#!curl -Lo \"/content/animatediff-cli-prompt-travel/data/models/sd/DivineEleganceMix_V6\" \"https://civitai.com/api/download/models/122702\"\n",
        "#!curl -Lo \"/content/animatediff-cli-prompt-travel/data/models/sd/AnimeCreative\" \"https://civitai.com/api/download/models/163570\"\n",
        "#!curl -Lo \"/content/animatediff-cli-prompt-travel/data/models/sd/Counterfeit_V3\" \"https://civitai.com/api/download/models/57618\""
      ]
    },
    {
      "cell_type": "markdown",
      "source": [
        "## Download VAE Models.🧪"
      ],
      "metadata": {
        "id": "ik8cDHghf7N_"
      }
    },
    {
      "cell_type": "code",
      "source": [
        "!wget -c https://huggingface.co/stabilityai/sd-vae-ft-mse-original/resolve/main/vae-ft-mse-840000-ema-pruned.safetensors -P /content/animatediff-cli-prompt-travel/data/models/vae"
      ],
      "metadata": {
        "id": "l1kjONjW2Wn5",
        "colab": {
          "base_uri": "https://localhost:8080/"
        },
        "outputId": "6dfe4fb8-0555-49cc-d001-2e8a08f23b63"
      },
      "execution_count": 5,
      "outputs": [
        {
          "output_type": "stream",
          "name": "stdout",
          "text": [
            "--2024-01-10 10:16:02--  https://huggingface.co/stabilityai/sd-vae-ft-mse-original/resolve/main/vae-ft-mse-840000-ema-pruned.safetensors\n",
            "Resolving huggingface.co (huggingface.co)... 18.239.50.103, 18.239.50.80, 18.239.50.16, ...\n",
            "Connecting to huggingface.co (huggingface.co)|18.239.50.103|:443... connected.\n",
            "HTTP request sent, awaiting response... 302 Found\n",
            "Location: https://cdn-lfs.huggingface.co/repos/ec/ee/eceee26c5834d8a75cf04eeb17dfc06d1d5fe1d80c2f19520b148c11e2e98c45/735e4c3a447a3255760d7f86845f09f937809baa529c17370d83e4c3758f3c75?response-content-disposition=attachment%3B+filename*%3DUTF-8%27%27vae-ft-mse-840000-ema-pruned.safetensors%3B+filename%3D%22vae-ft-mse-840000-ema-pruned.safetensors%22%3B&Expires=1705140299&Policy=eyJTdGF0ZW1lbnQiOlt7IkNvbmRpdGlvbiI6eyJEYXRlTGVzc1RoYW4iOnsiQVdTOkVwb2NoVGltZSI6MTcwNTE0MDI5OX19LCJSZXNvdXJjZSI6Imh0dHBzOi8vY2RuLWxmcy5odWdnaW5nZmFjZS5jby9yZXBvcy9lYy9lZS9lY2VlZTI2YzU4MzRkOGE3NWNmMDRlZWIxN2RmYzA2ZDFkNWZlMWQ4MGMyZjE5NTIwYjE0OGMxMWUyZTk4YzQ1LzczNWU0YzNhNDQ3YTMyNTU3NjBkN2Y4Njg0NWYwOWY5Mzc4MDliYWE1MjljMTczNzBkODNlNGMzNzU4ZjNjNzU%7EcmVzcG9uc2UtY29udGVudC1kaXNwb3NpdGlvbj0qIn1dfQ__&Signature=s0qYycWVPqmKsKCaxf7Xc2kH%7EhsyfJtspyPtSBDGOzZf2yyH5c63dkaZY-TmurLAUF62cw%7ElELKbMMh5KbTYCSmZW%7EDe5Yty%7Ei27%7E5vS-qL102R2UiNlw8MoKX9T7UH4y4MstniW5VlhIvZkx4F4szOoO%7EZAkM9J82aqZSH5OYVrgD-2bLwQ8xce3QdwvzfxKsZWor8i1z0n2xBgUnD9j1t3NMEl2nW3MPWSNFLBwm7yExevb-2svJBQR0%7EDVJf%7EcGYVVo8m6pa6vTVsJR3GcGDSowzTdHB7ZpkDGar8fRMtguONGrSkMdbMzYJA0dhnRM6xG-jhgX1iEA4Av64AFg__&Key-Pair-Id=KVTP0A1DKRTAX [following]\n",
            "--2024-01-10 10:16:02--  https://cdn-lfs.huggingface.co/repos/ec/ee/eceee26c5834d8a75cf04eeb17dfc06d1d5fe1d80c2f19520b148c11e2e98c45/735e4c3a447a3255760d7f86845f09f937809baa529c17370d83e4c3758f3c75?response-content-disposition=attachment%3B+filename*%3DUTF-8%27%27vae-ft-mse-840000-ema-pruned.safetensors%3B+filename%3D%22vae-ft-mse-840000-ema-pruned.safetensors%22%3B&Expires=1705140299&Policy=eyJTdGF0ZW1lbnQiOlt7IkNvbmRpdGlvbiI6eyJEYXRlTGVzc1RoYW4iOnsiQVdTOkVwb2NoVGltZSI6MTcwNTE0MDI5OX19LCJSZXNvdXJjZSI6Imh0dHBzOi8vY2RuLWxmcy5odWdnaW5nZmFjZS5jby9yZXBvcy9lYy9lZS9lY2VlZTI2YzU4MzRkOGE3NWNmMDRlZWIxN2RmYzA2ZDFkNWZlMWQ4MGMyZjE5NTIwYjE0OGMxMWUyZTk4YzQ1LzczNWU0YzNhNDQ3YTMyNTU3NjBkN2Y4Njg0NWYwOWY5Mzc4MDliYWE1MjljMTczNzBkODNlNGMzNzU4ZjNjNzU%7EcmVzcG9uc2UtY29udGVudC1kaXNwb3NpdGlvbj0qIn1dfQ__&Signature=s0qYycWVPqmKsKCaxf7Xc2kH%7EhsyfJtspyPtSBDGOzZf2yyH5c63dkaZY-TmurLAUF62cw%7ElELKbMMh5KbTYCSmZW%7EDe5Yty%7Ei27%7E5vS-qL102R2UiNlw8MoKX9T7UH4y4MstniW5VlhIvZkx4F4szOoO%7EZAkM9J82aqZSH5OYVrgD-2bLwQ8xce3QdwvzfxKsZWor8i1z0n2xBgUnD9j1t3NMEl2nW3MPWSNFLBwm7yExevb-2svJBQR0%7EDVJf%7EcGYVVo8m6pa6vTVsJR3GcGDSowzTdHB7ZpkDGar8fRMtguONGrSkMdbMzYJA0dhnRM6xG-jhgX1iEA4Av64AFg__&Key-Pair-Id=KVTP0A1DKRTAX\n",
            "Resolving cdn-lfs.huggingface.co (cdn-lfs.huggingface.co)... 18.239.18.68, 18.239.18.84, 18.239.18.94, ...\n",
            "Connecting to cdn-lfs.huggingface.co (cdn-lfs.huggingface.co)|18.239.18.68|:443... connected.\n",
            "HTTP request sent, awaiting response... 200 OK\n",
            "Length: 334641190 (319M) [binary/octet-stream]\n",
            "Saving to: ‘/content/animatediff-cli-prompt-travel/data/models/vae/vae-ft-mse-840000-ema-pruned.safetensors’\n",
            "\n",
            "vae-ft-mse-840000-e 100%[===================>] 319.14M   252MB/s    in 1.3s    \n",
            "\n",
            "2024-01-10 10:16:03 (252 MB/s) - ‘/content/animatediff-cli-prompt-travel/data/models/vae/vae-ft-mse-840000-ema-pruned.safetensors’ saved [334641190/334641190]\n",
            "\n"
          ]
        }
      ]
    },
    {
      "cell_type": "markdown",
      "source": [
        "## Download LORA Moels.🧱"
      ],
      "metadata": {
        "id": "BbvcDh7OgXrp"
      }
    },
    {
      "cell_type": "code",
      "source": [],
      "metadata": {
        "id": "Rqln-e5Bgkyp"
      },
      "execution_count": null,
      "outputs": []
    },
    {
      "cell_type": "markdown",
      "metadata": {
        "id": "ZXgV9FtA81-J"
      },
      "source": [
        "# CLI Prompts ((Important!)) 📃"
      ]
    },
    {
      "cell_type": "markdown",
      "metadata": {
        "id": "yh2DnIGUHnaK"
      },
      "source": [
        "Check keyframes in Prompt."
      ]
    },
    {
      "cell_type": "code",
      "execution_count": null,
      "metadata": {
        "id": "6HWwV6SkEXYe",
        "cellView": "form"
      },
      "outputs": [],
      "source": [
        "#check keyframes in prompts\n",
        "fps = 15 # @param {type:\"number\"}\n",
        "duration_in_sec = 18 # @param {type:\"number\"}\n",
        "for x in range(0,duration_in_sec+1):\n",
        "  # x=x+2\n",
        "  print(x*fps)"
      ]
    },
    {
      "cell_type": "markdown",
      "metadata": {
        "id": "PVvJwnXl-dS0"
      },
      "source": [
        "## One For All Prompt Template.(Also a Doc)"
      ]
    },
    {
      "cell_type": "code",
      "execution_count": null,
      "metadata": {
        "id": "zH2-DIttmVLR"
      },
      "outputs": [],
      "source": [
        "# @title\n",
        "# test sample config file ### to make updates to the config file (open it and modify. See the youtube video for details!)\n",
        "# template in: animatediff-cli-prompt-travel/config/prompts/prompt_travel.json\n",
        "config_sample_txt = \"\"\"\n",
        "\n",
        "{\n",
        "  \"name\": \"sample\",\n",
        "  \"path\": \"share/Stable-diffusion/mistoonAnime_v20.safetensors\",  # Specify Checkpoint as a path relative to /animatediff-cli/data\n",
        "  \"lcm_map\":{     # lcm-lora\n",
        "    \"enable\":false,\n",
        "    \"start_scale\":0.15,\n",
        "    \"end_scale\":0.75,\n",
        "    \"gradient_start\":0.2,\n",
        "    \"gradient_end\":0.75\n",
        "  },\n",
        "  \"gradual_latent_hires_fix_map\":{ # gradual latent hires fix\n",
        "    # This is an option to address the problem of chaos being generated when the model is generated beyond its proper size.\n",
        "    # It also has the effect of increasing generation speed.\n",
        "    \"enable\": false,    # enable/disable\n",
        "    \"scale\": {    # \"DENOISE PROGRESS\" : LATENT SCALE format\n",
        "      # In this example, Up to 70% of the total denoise, latent is halved to the specified size.\n",
        "      # From 70% to the end, calculate the size as specified.\n",
        "      \"0\": 0.5,\n",
        "      \"0.7\": 1.0\n",
        "    },\n",
        "    \"reverse_steps\": 5,          # Number of reversal steps at latent size switching timing\n",
        "    \"noise_add_count\":3          # Additive amount of noise　at latent size switching timing\n",
        "  },\n",
        "  \"vae_path\":\"share/VAE/vae-ft-mse-840000-ema-pruned.ckpt\",       # Specify vae as a path relative to /animatediff-cli/data\n",
        "  \"motion_module\": \"models/motion-module/mm_sd_v14.ckpt\",         # Specify motion module as a path relative to /animatediff-cli/data\n",
        "  \"context_schedule\":\"uniform\",          # \"uniform\" or \"composite\"\n",
        "  \"compile\": false,\n",
        "  \"seed\": [\n",
        "    341774366206100,-1,-1         # -1 means random. If \"--repeats 3\" is specified in this setting, The first will be 341774366206100, the second and third will be random.\n",
        "  ],\n",
        "  \"scheduler\": \"ddim\",      # \"ddim\",\"euler\",\"euler_a\",\"k_dpmpp_2m\", etc...\n",
        "  \"steps\": 40,\n",
        "  \"guidance_scale\": 20,     # cfg scale\n",
        "  \"clip_skip\": 2,\n",
        "  \"prompt_fixed_ratio\": 0.5,\n",
        "  \"head_prompt\": \"masterpiece, best quality, a beautiful and detailed portriat of muffet, monster girl,((purple body:1.3)),humanoid, arachnid, anthro,((fangs)),pigtails,hair bows,5 eyes,spider girl,6 arms,solo\",\n",
        "  \"prompt_map\": {           # \"FRAME\" : \"PROMPT\" format / ex. prompt for frame 32 is \"head_prompt\" + prompt_map[\"32\"] + \"tail_prompt\"\n",
        "    \"0\":  \"smile standing,((spider webs:1.0))\",\n",
        "    \"32\":  \"(((walking))),((spider webs:1.0))\",\n",
        "    \"64\":  \"(((running))),((spider webs:2.0)),wide angle lens, fish eye effect\",\n",
        "    \"96\":  \"(((sitting))),((spider webs:1.0))\"\n",
        "  },\n",
        "  \"tail_prompt\": \"clothed, open mouth, awesome and detailed background, holding teapot, holding teacup, 6 hands,detailed hands,storefront that sells pastries and tea,bloomers,(red and black clothing),inside,pouring into teacup,muffetwear\",\n",
        "  \"n_prompt\": [\n",
        "    \"(worst quality, low quality:1.4),nudity,simple background,border,mouth closed,text, patreon,bed,bedroom,white background,((monochrome)),sketch,(pink body:1.4),7 arms,8 arms,4 arms\"\n",
        "  ],\n",
        "  \"lora_map\": {             # \"PATH_TO_LORA\" : STRENGTH format\n",
        "    \"share/Lora/muffet_v2.safetensors\" : 1.0,                     # Specify lora as a path relative to /animatediff-cli/data\n",
        "    \"share/Lora/add_detail.safetensors\" : 1.0                     # Lora support is limited. Not all formats can be used!!!\n",
        "  },\n",
        "  \"motion_lora_map\": {      # \"PATH_TO_LORA\" : STRENGTH format\n",
        "    \"models/motion_lora/v2_lora_RollingAnticlockwise.ckpt\":0.5,   # Currently, the officially distributed lora seems to work only for v2 motion modules (mm_sd_v15_v2.ckpt).\n",
        "    \"models/motion_lora/v2_lora_ZoomIn.ckpt\":0.5\n",
        "  },\n",
        "  \"ip_adapter_map\": {       # config for ip-adapter\n",
        "      # enable/disable (important)\n",
        "      \"enable\": true,\n",
        "      # Specify input image directory relative to /animatediff-cli/data (important! No need to specify frames in the config file. The effect on generation is exactly the same logic as the placement of the prompt)\n",
        "      \"input_image_dir\": \"ip_adapter_image/test\",\n",
        "      \"prompt_fixed_ratio\": 0.5,\n",
        "      # save input image or not\n",
        "      \"save_input_image\": true,\n",
        "      # Ratio of image prompt vs text prompt (important). Even if you want to emphasize only the image prompt in 1.0, do not leave prompt/neg prompt empty, but specify a general text such as \"best quality\".\n",
        "      \"scale\": 0.5,\n",
        "      # IP-Adapter/IP-Adapter Full Face/IP-Adapter Plus Face/IP-Adapter Plus/IP-Adapter Light (important) It would be a completely different outcome. Not always PLUS a superior result.\n",
        "      \"is_full_face\": false,\n",
        "      \"is_plus_face\": false,\n",
        "      \"is_plus\": true,\n",
        "      \"is_light\": false\n",
        "  },\n",
        "  \"img2img_map\": {\n",
        "      # enable/disable\n",
        "      \"enable\": true,\n",
        "      # Directory where the initial image is placed\n",
        "      \"init_img_dir\": \"..\\\\stylize\\\\2023-10-27T19-43-01-sample-mistoonanime_v20\\\\00_img2img\",\n",
        "      \"save_init_image\": true,\n",
        "      # The smaller the value, the closer the result will be to the initial image.\n",
        "      \"denoising_strength\": 0.7\n",
        "  },\n",
        "  \"region_map\": {\n",
        "      # setting for region 0. You can also add regions if necessary.\n",
        "      # The region added at the back will be drawn at the front.\n",
        "      \"0\": {\n",
        "          # enable/disable\n",
        "          \"enable\": true,\n",
        "          # If you want to draw a separate object for each region, enter a value of 0.1 or higher.\n",
        "          \"crop_generation_rate\": 0.1,\n",
        "          # Directory where mask images are placed\n",
        "          \"mask_dir\": \"..\\\\stylize\\\\2023-10-27T19-43-01-sample-mistoonanime_v20\\\\r_fg_00_2023-10-27T19-44-08\\\\00_mask\",\n",
        "          \"save_mask\": true,\n",
        "          # If true, the initial image will be drawn as is (inpaint)\n",
        "          \"is_init_img\": false,\n",
        "          # conditions for region 0\n",
        "          \"condition\": {\n",
        "              # text prompt for region 0\n",
        "              \"prompt_fixed_ratio\": 0.5,\n",
        "              \"head_prompt\": \"\",\n",
        "              \"prompt_map\": {\n",
        "                  \"0\": \"(masterpiece, best quality:1.2), solo, 1girl, kusanagi motoko, looking at viewer, jacket, leotard, thighhighs, gloves, cleavage\"\n",
        "               },\n",
        "              \"tail_prompt\": \"\",\n",
        "              # image prompt(ip adapter) for region 0\n",
        "              # It is not possible to change lora for each region, but you can do something similar using an ip adapter.\n",
        "              \"ip_adapter_map\": {\n",
        "                  \"enable\": true,\n",
        "                  \"input_image_dir\": \"..\\\\stylize\\\\2023-10-27T19-43-01-sample-mistoonanime_v20\\\\r_fg_00_2023-10-27T19-44-08\\\\00_ipadapter\",\n",
        "                  \"prompt_fixed_ratio\": 0.5,\n",
        "                  \"save_input_image\": true,\n",
        "                  \"resized_to_square\": false\n",
        "              }\n",
        "          }\n",
        "      },\n",
        "      # setting for background\n",
        "      \"background\": {\n",
        "          # If true, the initial image will be drawn as is (inpaint)\n",
        "          \"is_init_img\": true,\n",
        "          \"hint\": \"background's condition refers to the one in root\"\n",
        "      }\n",
        "  },\n",
        "  \"controlnet_map\": {       # config for controlnet(for generation)\n",
        "    \"input_image_dir\" : \"controlnet_image/test\",    # Specify input image directory relative to /animatediff-cli/data (important! Please refer to the directory structure of sample. No need to specify frames in the config file.)\n",
        "    \"max_samples_on_vram\" : 200,    # If you specify a large number of images for controlnet and vram will not be enough, reduce this value. 0 means that everything should be placed in cpu.\n",
        "    \"max_models_on_vram\" : 3,       # Number of controlnet models to be placed in vram\n",
        "    \"save_detectmap\" : true,        # save preprocessed image or not\n",
        "    \"preprocess_on_gpu\": true,      # run preprocess on gpu or not (It probably does not affect vram usage at peak, so it should always set true.)\n",
        "    \"is_loop\": true,                # Whether controlnet effects consider loop\n",
        "\n",
        "    \"controlnet_tile\":{    # config for controlnet_tile\n",
        "      \"enable\": true,              # enable/disable (important)\n",
        "      \"use_preprocessor\":true,      # Whether to use a preprocessor for each controlnet type\n",
        "      \"preprocessor\":{     # If not specified, the default preprocessor is selected.(Most of the time the default should be fine.)\n",
        "        # none/blur/tile_resample/upernet_seg/ or key in controlnet_aux.processor.MODELS\n",
        "        # https://github.com/patrickvonplaten/controlnet_aux/blob/2fd027162e7aef8c18d0a9b5a344727d37f4f13d/src/controlnet_aux/processor.py#L20\n",
        "        \"type\" : \"tile_resample\",\n",
        "        \"param\":{\n",
        "          \"down_sampling_rate\":2.0\n",
        "        }\n",
        "      },\n",
        "      \"guess_mode\":false,\n",
        "      # control weight (important)\n",
        "      \"controlnet_conditioning_scale\": 1.0,\n",
        "      # starting control step\n",
        "      \"control_guidance_start\": 0.0,\n",
        "      # ending control step\n",
        "      \"control_guidance_end\": 1.0,\n",
        "      # list of influences on neighboring frames (important)\n",
        "      # This means that there is an impact of 0.5 on both neighboring frames and 0.4 on the one next to it. Try lengthening, shortening, or changing the values inside.\n",
        "      \"control_scale_list\":[0.5,0.4,0.3,0.2,0.1],\n",
        "      # list of regions where controlnet works\n",
        "      # In this example, it only affects region \"0\", but not \"background\".\n",
        "      \"control_region_list\": [\"0\"]\n",
        "    },\n",
        "    \"controlnet_ip2p\":{\n",
        "      \"enable\": true,\n",
        "      \"use_preprocessor\":true,\n",
        "      \"guess_mode\":false,\n",
        "      \"controlnet_conditioning_scale\": 1.0,\n",
        "      \"control_guidance_start\": 0.0,\n",
        "      \"control_guidance_end\": 1.0,\n",
        "      \"control_scale_list\":[0.5,0.4,0.3,0.2,0.1],\n",
        "      # In this example, all regions are affected\n",
        "      \"control_region_list\": []\n",
        "    },\n",
        "    \"controlnet_lineart_anime\":{\n",
        "      \"enable\": true,\n",
        "      \"use_preprocessor\":true,\n",
        "      \"guess_mode\":false,\n",
        "      \"controlnet_conditioning_scale\": 1.0,\n",
        "      \"control_guidance_start\": 0.0,\n",
        "      \"control_guidance_end\": 1.0,\n",
        "      \"control_scale_list\":[0.5,0.4,0.3,0.2,0.1],\n",
        "      # In this example, it only affects region \"background\", but not \"0\".\n",
        "      \"control_region_list\": [\"background\"]\n",
        "    },\n",
        "    \"controlnet_openpose\":{\n",
        "      \"enable\": true,\n",
        "      \"use_preprocessor\":true,\n",
        "      \"guess_mode\":false,\n",
        "      \"controlnet_conditioning_scale\": 1.0,\n",
        "      \"control_guidance_start\": 0.0,\n",
        "      \"control_guidance_end\": 1.0,\n",
        "      \"control_scale_list\":[0.5,0.4,0.3,0.2,0.1],\n",
        "      # In this example, all regions are affected (since these are the only two regions defined)\n",
        "      \"control_region_list\": [\"0\", \"background\"]\n",
        "    },\n",
        "    \"controlnet_softedge\":{\n",
        "      \"enable\": true,\n",
        "      \"use_preprocessor\":true,\n",
        "      \"preprocessor\":{\n",
        "        \"type\" : \"softedge_pidsafe\",\n",
        "        \"param\":{\n",
        "        }\n",
        "      },\n",
        "      \"guess_mode\":false,\n",
        "      \"controlnet_conditioning_scale\": 1.0,\n",
        "      \"control_guidance_start\": 0.0,\n",
        "      \"control_guidance_end\": 1.0,\n",
        "      \"control_scale_list\":[0.5,0.4,0.3,0.2,0.1]\n",
        "    },\n",
        "    \"controlnet_ref\": {\n",
        "        \"enable\": false,            # enable/disable (important)\n",
        "        \"ref_image\": \"ref_image/ref_sample.png\",     # path to reference image.\n",
        "        \"attention_auto_machine_weight\": 1.0,\n",
        "        \"gn_auto_machine_weight\": 1.0,\n",
        "        \"style_fidelity\": 0.5,                # control weight-like parameter(important)\n",
        "        \"reference_attn\": true,               # [attn=true , adain=false] means \"reference_only\"\n",
        "        \"reference_adain\": false,\n",
        "        \"scale_pattern\":[0.5]                 # Pattern for applying controlnet_ref to frames\n",
        "    }                                         # ex. [0.5] means [0.5,0.5,0.5,0.5,0.5 .... ]. All frames are affected by 50%\n",
        "                                              # ex. [1, 0] means [1,0,1,0,1,0,1,0,1,0,1 ....]. Only even frames are affected by 100%.\n",
        "  },\n",
        "  \"upscale_config\": {       # config for tile-upscale\n",
        "    \"scheduler\": \"ddim\",\n",
        "    \"steps\": 20,\n",
        "    \"strength\": 0.5,\n",
        "    \"guidance_scale\": 10,\n",
        "    \"controlnet_tile\": {    # config for controlnet tile\n",
        "      \"enable\": true,       # enable/disable (important)\n",
        "      \"controlnet_conditioning_scale\": 1.0,     # control weight (important)\n",
        "      \"guess_mode\": false,\n",
        "      \"control_guidance_start\": 0.0,      # starting control step\n",
        "      \"control_guidance_end\": 1.0         # ending control step\n",
        "    },\n",
        "    \"controlnet_line_anime\": {  # config for controlnet line anime\n",
        "      \"enable\": false,\n",
        "      \"controlnet_conditioning_scale\": 1.0,\n",
        "      \"guess_mode\": false,\n",
        "      \"control_guidance_start\": 0.0,\n",
        "      \"control_guidance_end\": 1.0\n",
        "    },\n",
        "    \"controlnet_ip2p\": {  # config for controlnet ip2p\n",
        "      \"enable\": false,\n",
        "      \"controlnet_conditioning_scale\": 0.5,\n",
        "      \"guess_mode\": false,\n",
        "      \"control_guidance_start\": 0.0,\n",
        "      \"control_guidance_end\": 1.0\n",
        "    },\n",
        "    \"controlnet_ref\": {   # config for controlnet ref\n",
        "      \"enable\": false,             # enable/disable (important)\n",
        "      \"use_frame_as_ref_image\": false,   # use original frames as ref_image for each upscale (important)\n",
        "      \"use_1st_frame_as_ref_image\": false,   # use 1st original frame as ref_image for all upscale (important)\n",
        "      \"ref_image\": \"ref_image/path_to_your_ref_img.jpg\",   # use specified image file as ref_image for all upscale (important)\n",
        "      \"attention_auto_machine_weight\": 1.0,\n",
        "      \"gn_auto_machine_weight\": 1.0,\n",
        "      \"style_fidelity\": 0.25,       # control weight-like parameter(important)\n",
        "      \"reference_attn\": true,       # [attn=true , adain=false] means \"reference_only\"\n",
        "      \"reference_adain\": false\n",
        "    }\n",
        "  },\n",
        "  \"output\":{   # output format\n",
        "    \"format\" : \"gif\",   # gif/mp4/webm\n",
        "    \"fps\" : 8,\n",
        "    \"encode_param\":{\n",
        "      \"crf\": 10\n",
        "    }\n",
        "  }\n",
        "}\n",
        "\"\"\"\n",
        "config_file_path = f\"config/prompts/test001.json\"\n",
        "with open(config_file_path, \"w\") as file:\n",
        "    file.write(config_sample_txt)"
      ]
    },
    {
      "cell_type": "markdown",
      "metadata": {
        "id": "PIQ6TrKa9w3S"
      },
      "source": [
        "##**Hires Fix Prompt Template.**"
      ]
    },
    {
      "cell_type": "code",
      "execution_count": 17,
      "metadata": {
        "id": "-QJywSP69nwM"
      },
      "outputs": [],
      "source": [
        "# @title\n",
        "# test sample config file ### to make updates to the config file (open it and modify. See the youtube video for details!)\n",
        "# template in: animatediff-cli-prompt-travel/config/prompts/prompt_travel.json\n",
        "config_sample_txt = \"\"\"\n",
        "{\n",
        "    \"name\": \"simple\",\n",
        "    \"path\": \"models/sd/toonyou_beta6.safetensors\",\n",
        "    \"vae_path\": \"/content/animatediff-cli-prompt-travel/data/models/vae/vae-ft-mse-840000-ema-pruned.safetensors\",\n",
        "    \"motion_module\": \"models/motion-module/mm_sd_v15_v2.ckpt\",\n",
        "    \"gradual_latent_hires_fix_map\": {\n",
        "        \"enable\": true,\n",
        "        \"scale\": {\n",
        "            \"0\": 0.5,\n",
        "            \"0.7\": 1.0\n",
        "        },\n",
        "        \"reverse_steps\": 5,\n",
        "        \"noise_add_count\": 3\n",
        "    },\n",
        "    \"compile\": false,\n",
        "    \"seed\": [\n",
        "       -1\n",
        "    ],\n",
        "    \"scheduler\": \"euler_a\",\n",
        "    \"steps\": 22,\n",
        "    \"guidance_scale\": 8,\n",
        "    \"clip_skip\": 2,\n",
        "    \"prompt_map\": {\n",
        "        \"0\":\"(masterpiece, best quality,from_side,upper_body),((1man,solo)),long hair,wearing black suit,garden, night,moon, fireflies,aesthetic colors,intricate details,calm,32k,uhd,qhd\"\n",
        "    },\n",
        "    \"n_prompt\": [\n",
        "        \"out of frame,3d,jpeg artifacts,woman,feminine, (signature), watermark, username, artist name, (worst quality, low quality), bad anatomy, worst quality, normal quality, low quality, low res, blurry, text, watermark, logo, banner, extra digits, cropped, jpeg artifacts, signature,umbrella \"\n",
        "    ],\n",
        "    \"lora_map\": {\n",
        "\n",
        "    },\n",
        "    \"motion_lora_map\": {\n",
        "    \"models/motion_lora/v2_lora_PanLeft.ckpt\":0.65,\n",
        "    \"models/motion_lora/v2_lora_ZoomIn.ckpt\":0.5\n",
        "  },\n",
        "    \"stylize_config\": {},\n",
        "    \"output\": {\n",
        "        \"format\": \"mp4\",\n",
        "        \"fps\": 10,\n",
        "        \"encode_param\": {\n",
        "            \"crf\": 20\n",
        "        }\n",
        "    },\n",
        "    \"result\": {}\n",
        "}\n",
        "\"\"\"\n",
        "config_file_path = f\"config/prompts/test001.json\"\n",
        "with open(config_file_path, \"w\") as file:\n",
        "    file.write(config_sample_txt)"
      ]
    },
    {
      "cell_type": "markdown",
      "source": [
        "## Vid2Vid Prompts."
      ],
      "metadata": {
        "id": "ZrmeXB_7fR6M"
      }
    },
    {
      "cell_type": "code",
      "source": [
        "# @title\n",
        "# test sample config file ### to make updates to the config file (open it and modify. See the youtube video for details!)\n",
        "# template in: animatediff-cli-prompt-travel/config/prompts/prompt_travel.json\n",
        "config_sample_txt = \"\"\"\n",
        "{\n",
        "    \"name\": \"sample\",\n",
        "    \"path\": \"models/sd/toonyou_beta6.safetensors\",\n",
        "    \"vae_path\": \"/content/animatediff-cli-prompt-travel/data/models/vae/vae-ft-mse-840000-ema-pruned.safetensors\",\n",
        "    \"motion_module\": \"models/motion-module/mm-Stabilized_high.pth\",\n",
        "    \"context_schedule\": \"uniform\",\n",
        "    \"lcm_map\": {\n",
        "        \"enable\": false,\n",
        "        \"start_scale\": 0.15,\n",
        "        \"end_scale\": 0.75,\n",
        "        \"gradient_start\": 0.2,\n",
        "        \"gradient_end\": 0.75\n",
        "    },\n",
        "    \"compile\": false,\n",
        "    \"seed\": [\n",
        "       -1\n",
        "    ],\n",
        "    \"scheduler\": \"euler_a\",\n",
        "    \"steps\": 20,\n",
        "    \"guidance_scale\": 8,\n",
        "    \"clip_skip\": 2,\n",
        "    \"prompt_map\": {\n",
        "        \"0\": \"(masterpiece, best quality,anime style), (1man,solo,hoodie,beanie cap,perfect glowing green eyes),(((intricate, pattern, psychedelic, surreal, abstract, swirl,explosions,cloudy sky))),32k,uhd,qhd\"\n",
        "        },\n",
        "    \"n_prompt\": [\n",
        "        \" ((blurry)),3D, weird colors, unnatural skin tone, unnatural skin, stiff face, fused hand, skewed eyes, surreal, cropped head, ((((ugly)))), (((duplicate))), ((morbid)), ((mutilated)), [out of frame], extra fingers, mutated hands, ((poorly drawn hands)), ((poorly drawn face)), (((mutation))), (((deformed))), ((ugly)), blurry, ((bad anatomy)), (((bad proportions))), ((extra limbs)), cloned face, (((disfigured))), out of frame,dark face,poor facial details,dark face,disfigured, disproportionate, bad anatomy, bad proportions,imperfect eyes, unnatural, conjoined,(yellow colors)\"\n",
        "    ],\n",
        "    \"is_single_prompt_mode\": false,\n",
        "    \"lora_map\": {},\n",
        "    \"motion_lora_map\": {},\n",
        "    \"ip_adapter_map\": {\n",
        "        \"enable\": false,\n",
        "        \"input_image_dir\": \"/content/animatediff-cli-prompt-travel/GoogleDrive/MyDrive/AI/ip_ad\",\n",
        "        \"prompt_fixed_ratio\": 0.5,\n",
        "        \"save_input_image\": true,\n",
        "        \"resized_to_square\": false,\n",
        "        \"scale\": 0.48,\n",
        "        \"is_full_face\": false,\n",
        "        \"is_plus_face\": false,\n",
        "        \"is_plus\": true,\n",
        "        \"is_light\": false\n",
        "    },\n",
        "    \"img2img_map\": {\n",
        "        \"enable\": false,\n",
        "        \"init_img_dir\": \"../stylize/2023-12-31T03-11-24-sample-toonyou_beta6/00_img2img\",\n",
        "        \"save_init_image\": true,\n",
        "        \"denoising_strength\": 0.85\n",
        "    },\n",
        "    \"region_map\": {},\n",
        "    \"controlnet_map\": {\n",
        "        \"input_image_dir\": \"/content/animatediff-cli-prompt-travel/data/controlnet_image/test\",\n",
        "        \"max_samples_on_vram\": 300,\n",
        "        \"max_models_on_vram\": 3,\n",
        "        \"save_detectmap\": true,\n",
        "        \"preprocess_on_gpu\": true,\n",
        "        \"is_loop\": false,\n",
        "        \"controlnet_tile\": {\n",
        "            \"enable\": true,\n",
        "            \"use_preprocessor\": true,\n",
        "            \"preprocessor\": {\n",
        "                \"type\": \"none\",\n",
        "                \"param\": {}\n",
        "            },\n",
        "            \"guess_mode\": false,\n",
        "            \"controlnet_conditioning_scale\": 1.0,\n",
        "            \"control_guidance_start\": 0.0,\n",
        "            \"control_guidance_end\": 1.0,\n",
        "            \"control_scale_list\": [],\n",
        "            \"control_region_list\": []\n",
        "        },\n",
        "        \"controlnet_ip2p\": {\n",
        "            \"enable\": false,\n",
        "            \"use_preprocessor\": true,\n",
        "            \"guess_mode\": false,\n",
        "            \"controlnet_conditioning_scale\": 0.75,\n",
        "            \"control_guidance_start\": 0.0,\n",
        "            \"control_guidance_end\": 1.0,\n",
        "            \"control_scale_list\": [],\n",
        "            \"control_region_list\": []\n",
        "        },\n",
        "        \"controlnet_lineart_anime\": {\n",
        "            \"enable\": true,\n",
        "            \"use_preprocessor\": true,\n",
        "            \"guess_mode\": false,\n",
        "            \"controlnet_conditioning_scale\": 1.0,\n",
        "            \"control_guidance_start\": 0.0,\n",
        "            \"control_guidance_end\": 1.0,\n",
        "            \"control_scale_list\": [],\n",
        "            \"control_region_list\": []\n",
        "        },\n",
        "        \"controlnet_openpose\": {\n",
        "            \"enable\": true,\n",
        "            \"use_preprocessor\": true,\n",
        "            \"preprocessor\": {\n",
        "                \"type\": \"dwpose\",\n",
        "                \"param\": {}\n",
        "            },\n",
        "            \"guess_mode\": false,\n",
        "            \"controlnet_conditioning_scale\": 1.0,\n",
        "            \"control_guidance_start\": 0.0,\n",
        "            \"control_guidance_end\": 1.0,\n",
        "            \"control_scale_list\": [],\n",
        "            \"control_region_list\": []\n",
        "        },\n",
        "        \"controlnet_softedge\": {\n",
        "            \"enable\": true,\n",
        "            \"use_preprocessor\": true,\n",
        "            \"preprocessor\": {\n",
        "                \"type\": \"softedge_pidsafe\",\n",
        "                \"param\": {}\n",
        "            },\n",
        "            \"guess_mode\": false,\n",
        "            \"controlnet_conditioning_scale\": 0.65,\n",
        "            \"control_guidance_start\": 0.0,\n",
        "            \"control_guidance_end\": 1.0,\n",
        "            \"control_scale_list\": [],\n",
        "            \"control_region_list\": []\n",
        "        },\n",
        "        \"controlnet_shuffle\": {\n",
        "            \"enable\": true,\n",
        "            \"use_preprocessor\": true,\n",
        "            \"guess_mode\": false,\n",
        "            \"controlnet_conditioning_scale\": 1.0,\n",
        "            \"control_guidance_start\": 0.0,\n",
        "            \"control_guidance_end\": 1.0,\n",
        "            \"control_scale_list\": [],\n",
        "            \"control_region_list\": []\n",
        "        },\n",
        "        \"controlnet_depth\": {\n",
        "            \"enable\": true,\n",
        "            \"use_preprocessor\": true,\n",
        "            \"guess_mode\": false,\n",
        "            \"controlnet_conditioning_scale\": 1.0,\n",
        "            \"control_guidance_start\": 0.0,\n",
        "            \"control_guidance_end\": 1.0,\n",
        "            \"control_scale_list\": [],\n",
        "            \"control_region_list\": []\n",
        "        },\n",
        "        \"controlnet_canny\": {\n",
        "            \"enable\": true,\n",
        "            \"use_preprocessor\": true,\n",
        "            \"guess_mode\": false,\n",
        "            \"controlnet_conditioning_scale\": 1.0,\n",
        "            \"control_guidance_start\": 0.0,\n",
        "            \"control_guidance_end\": 1.0,\n",
        "            \"control_scale_list\": [],\n",
        "            \"control_region_list\": []\n",
        "        },\n",
        "        \"controlnet_inpaint\": {\n",
        "            \"enable\": true,\n",
        "            \"use_preprocessor\": true,\n",
        "            \"guess_mode\": false,\n",
        "            \"controlnet_conditioning_scale\": 1.0,\n",
        "            \"control_guidance_start\": 0.0,\n",
        "            \"control_guidance_end\": 1.0,\n",
        "            \"control_scale_list\": [],\n",
        "            \"control_region_list\": []\n",
        "        },\n",
        "        \"controlnet_lineart\": {\n",
        "            \"enable\": true,\n",
        "            \"use_preprocessor\": true,\n",
        "            \"guess_mode\": false,\n",
        "            \"controlnet_conditioning_scale\": 1.0,\n",
        "            \"control_guidance_start\": 0.0,\n",
        "            \"control_guidance_end\": 1.0,\n",
        "            \"control_scale_list\": [],\n",
        "            \"control_region_list\": []\n",
        "        },\n",
        "        \"controlnet_mlsd\": {\n",
        "            \"enable\": true,\n",
        "            \"use_preprocessor\": true,\n",
        "            \"guess_mode\": false,\n",
        "            \"controlnet_conditioning_scale\": 1.0,\n",
        "            \"control_guidance_start\": 0.0,\n",
        "            \"control_guidance_end\": 1.0,\n",
        "            \"control_scale_list\": [],\n",
        "            \"control_region_list\": []\n",
        "        },\n",
        "        \"controlnet_normalbae\": {\n",
        "            \"enable\": true,\n",
        "            \"use_preprocessor\": true,\n",
        "            \"guess_mode\": false,\n",
        "            \"controlnet_conditioning_scale\": 1.0,\n",
        "            \"control_guidance_start\": 0.0,\n",
        "            \"control_guidance_end\": 1.0,\n",
        "            \"control_scale_list\": [],\n",
        "            \"control_region_list\": []\n",
        "        },\n",
        "        \"controlnet_scribble\": {\n",
        "            \"enable\": true,\n",
        "            \"use_preprocessor\": true,\n",
        "            \"guess_mode\": false,\n",
        "            \"controlnet_conditioning_scale\": 1.0,\n",
        "            \"control_guidance_start\": 0.0,\n",
        "            \"control_guidance_end\": 1.0,\n",
        "            \"control_scale_list\": [],\n",
        "            \"control_region_list\": []\n",
        "        },\n",
        "        \"controlnet_seg\": {\n",
        "            \"enable\": true,\n",
        "            \"use_preprocessor\": true,\n",
        "            \"guess_mode\": false,\n",
        "            \"controlnet_conditioning_scale\": 1.0,\n",
        "            \"control_guidance_start\": 0.0,\n",
        "            \"control_guidance_end\": 1.0,\n",
        "            \"control_scale_list\": [],\n",
        "            \"control_region_list\": []\n",
        "        },\n",
        "        \"qr_code_monster_v1\": {\n",
        "            \"enable\": true,\n",
        "            \"use_preprocessor\": true,\n",
        "            \"guess_mode\": false,\n",
        "            \"controlnet_conditioning_scale\": 1.0,\n",
        "            \"control_guidance_start\": 0.0,\n",
        "            \"control_guidance_end\": 1.0,\n",
        "            \"control_scale_list\": [],\n",
        "            \"control_region_list\": []\n",
        "        },\n",
        "        \"qr_code_monster_v2\": {\n",
        "            \"enable\": true,\n",
        "            \"use_preprocessor\": true,\n",
        "            \"guess_mode\": false,\n",
        "            \"controlnet_conditioning_scale\": 1.0,\n",
        "            \"control_guidance_start\": 0.0,\n",
        "            \"control_guidance_end\": 1.0,\n",
        "            \"control_scale_list\": [],\n",
        "            \"control_region_list\": []\n",
        "        },\n",
        "        \"controlnet_mediapipe_face\": {\n",
        "            \"enable\": true,\n",
        "            \"use_preprocessor\": true,\n",
        "            \"guess_mode\": false,\n",
        "            \"controlnet_conditioning_scale\": 1.0,\n",
        "            \"control_guidance_start\": 0.0,\n",
        "            \"control_guidance_end\": 1.0,\n",
        "            \"control_scale_list\": [],\n",
        "            \"control_region_list\": []\n",
        "        },\n",
        "        \"animatediff_controlnet\": {\n",
        "            \"enable\": true,\n",
        "            \"use_preprocessor\": true,\n",
        "            \"guess_mode\": false,\n",
        "            \"controlnet_conditioning_scale\": 1.0,\n",
        "            \"control_guidance_start\": 0.0,\n",
        "            \"control_guidance_end\": 1.0,\n",
        "            \"control_scale_list\": [],\n",
        "            \"control_region_list\": []\n",
        "        },\n",
        "        \"controlnet_ref\": {\n",
        "            \"enable\": false,\n",
        "            \"ref_image\": \"ref_image/ref_sample.png\",\n",
        "            \"attention_auto_machine_weight\": 0.3,\n",
        "            \"gn_auto_machine_weight\": 0.3,\n",
        "            \"style_fidelity\": 0.5,\n",
        "            \"reference_attn\": true,\n",
        "            \"reference_adain\": false,\n",
        "            \"scale_pattern\": [\n",
        "                1.0\n",
        "            ]\n",
        "        }\n",
        "    },\n",
        "    \"upscale_config\": {\n",
        "        \"scheduler\": \"k_dpmpp_sde\",\n",
        "        \"steps\": 20,\n",
        "        \"strength\": 0.5,\n",
        "        \"guidance_scale\": 10,\n",
        "        \"controlnet_tile\": {\n",
        "            \"enable\": false,\n",
        "            \"controlnet_conditioning_scale\": 1.0,\n",
        "            \"guess_mode\": false,\n",
        "            \"control_guidance_start\": 0.0,\n",
        "            \"control_guidance_end\": 1.0\n",
        "        },\n",
        "        \"controlnet_line_anime\": {\n",
        "            \"enable\": false,\n",
        "            \"controlnet_conditioning_scale\": 1.0,\n",
        "            \"guess_mode\": false,\n",
        "            \"control_guidance_start\": 0.0,\n",
        "            \"control_guidance_end\": 1.0\n",
        "        },\n",
        "        \"controlnet_ip2p\": {\n",
        "            \"enable\": false,\n",
        "            \"controlnet_conditioning_scale\": 0.5,\n",
        "            \"guess_mode\": false,\n",
        "            \"control_guidance_start\": 0.0,\n",
        "            \"control_guidance_end\": 1.0\n",
        "        },\n",
        "        \"controlnet_ref\": {\n",
        "            \"enable\": false,\n",
        "            \"use_frame_as_ref_image\": false,\n",
        "            \"use_1st_frame_as_ref_image\": false,\n",
        "            \"ref_image\": \"ref_image/path_to_your_ref_img.jpg\",\n",
        "            \"attention_auto_machine_weight\": 1.0,\n",
        "            \"gn_auto_machine_weight\": 1.0,\n",
        "            \"style_fidelity\": 0.25,\n",
        "            \"reference_attn\": true,\n",
        "            \"reference_adain\": false\n",
        "        }\n",
        "    },\n",
        "    \"stylize_config\": {\n",
        "        \"original_video\": {\n",
        "            \"path\": \"/content/animatediff-cli-prompt-travel/sher_khul.mp4\",\n",
        "            \"aspect_ratio\": -1.0,\n",
        "            \"offset\": 0\n",
        "        },\n",
        "        \"create_mask\": [\n",
        "            \"person\",\"girls\"\n",
        "        ],\n",
        "        \"composite\": {\n",
        "            \"fg_list\": [\n",
        "                {\n",
        "                    \"path\": \" absolute path to frame dir \",\n",
        "                    \"mask_path\": \" absolute path to mask dir (this is optional) \",\n",
        "                    \"mask_prompt\": \"person\"\n",
        "                },\n",
        "                {\n",
        "                    \"path\": \" absolute path to frame dir \",\n",
        "                    \"mask_path\": \" absolute path to mask dir (this is optional) \",\n",
        "                    \"mask_prompt\": \"cat\"\n",
        "                }\n",
        "            ],\n",
        "            \"bg_frame_dir\": \"Absolute path to the BG frame directory\",\n",
        "            \"hint\": \"\"\n",
        "        },\n",
        "        \"0\": {\n",
        "            \"width\": 512,\n",
        "            \"height\": 904,\n",
        "            \"length\": 250,\n",
        "            \"context\": 16,\n",
        "            \"overlap\": 4,\n",
        "            \"stride\": 4\n",
        "        },\n",
        "        \"1\": {\n",
        "            \"steps\": 20,\n",
        "            \"guidance_scale\": 10.0,\n",
        "            \"width\": 768,\n",
        "            \"height\": 1352,\n",
        "            \"length\": 250,\n",
        "            \"context\": 8,\n",
        "            \"overlap\": 2,\n",
        "            \"stride\": 0,\n",
        "            \"controlnet_tile\": {\n",
        "                \"enable\": true,\n",
        "                \"use_preprocessor\": true,\n",
        "                \"guess_mode\": false,\n",
        "                \"controlnet_conditioning_scale\": 1.0,\n",
        "                \"control_guidance_start\": 0.0,\n",
        "                \"control_guidance_end\": 1.0,\n",
        "                \"control_scale_list\": []\n",
        "            },\n",
        "            \"controlnet_ip2p\": {\n",
        "                \"enable\": false,\n",
        "                \"use_preprocessor\": true,\n",
        "                \"guess_mode\": false,\n",
        "                \"controlnet_conditioning_scale\": 0.5,\n",
        "                \"control_guidance_start\": 0.0,\n",
        "                \"control_guidance_end\": 1.0,\n",
        "                \"control_scale_list\": []\n",
        "            },\n",
        "            \"ip_adapter\": false,\n",
        "            \"reference\": false,\n",
        "            \"img2img\": false,\n",
        "            \"interpolation_multiplier\": 1\n",
        "        }\n",
        "    },\n",
        "    \"output\": {\n",
        "        \"format\": \"mp4\",\n",
        "        \"fps\": 12,\n",
        "        \"encode_param\": {\n",
        "            \"crf\": 20\n",
        "        }\n",
        "    },\n",
        "    \"result\": {}\n",
        "}\n",
        "\"\"\"\n",
        "config_file_path = f\"config/prompts/test001.json\"\n",
        "with open(config_file_path, \"w\") as file:\n",
        "    file.write(config_sample_txt)"
      ],
      "metadata": {
        "id": "qpadWBMIszPJ"
      },
      "execution_count": null,
      "outputs": []
    },
    {
      "cell_type": "markdown",
      "metadata": {
        "id": "lwd8ec1C-gvi"
      },
      "source": [
        "# Generate ⚙"
      ]
    },
    {
      "cell_type": "code",
      "execution_count": null,
      "metadata": {
        "id": "ff1JmYdNFiO8"
      },
      "outputs": [],
      "source": [
        "#check help for better understanding.........\n",
        "!animatediff generate -h"
      ]
    },
    {
      "cell_type": "code",
      "execution_count": null,
      "metadata": {
        "id": "nxsrSruoJm0b",
        "colab": {
          "base_uri": "https://localhost:8080/"
        },
        "outputId": "f77abe46-67cd-4872-a2c1-04ac52514732"
      },
      "outputs": [
        {
          "output_type": "stream",
          "name": "stdout",
          "text": [
            "2024-01-10 10:56:19.813091: E external/local_xla/xla/stream_executor/cuda/cuda_dnn.cc:9261] Unable to register cuDNN factory: Attempting to register factory for plugin cuDNN when one has already been registered\n",
            "2024-01-10 10:56:19.813145: E external/local_xla/xla/stream_executor/cuda/cuda_fft.cc:607] Unable to register cuFFT factory: Attempting to register factory for plugin cuFFT when one has already been registered\n",
            "2024-01-10 10:56:19.819288: E external/local_xla/xla/stream_executor/cuda/cuda_blas.cc:1515] Unable to register cuBLAS factory: Attempting to register factory for plugin cuBLAS when one has already been registered\n",
            "2024-01-10 10:56:22.043318: W tensorflow/compiler/tf2tensorrt/utils/py_utils.cc:38] TF-TRT Warning: Could not find TensorRT\n",
            "/usr/local/lib/python3.10/dist-packages/controlnet_aux/segment_anything/modeling/tiny_vit_sam.py:654: UserWarning: Overwriting tiny_vit_5m_224 in registry with controlnet_aux.segment_anything.modeling.tiny_vit_sam.tiny_vit_5m_224. This is because the name being registered conflicts with an existing name. Please check if this is not expected.\n",
            "  return register_model(fn_wrapper)\n",
            "/usr/local/lib/python3.10/dist-packages/controlnet_aux/segment_anything/modeling/tiny_vit_sam.py:654: UserWarning: Overwriting tiny_vit_11m_224 in registry with controlnet_aux.segment_anything.modeling.tiny_vit_sam.tiny_vit_11m_224. This is because the name being registered conflicts with an existing name. Please check if this is not expected.\n",
            "  return register_model(fn_wrapper)\n",
            "/usr/local/lib/python3.10/dist-packages/controlnet_aux/segment_anything/modeling/tiny_vit_sam.py:654: UserWarning: Overwriting tiny_vit_21m_224 in registry with controlnet_aux.segment_anything.modeling.tiny_vit_sam.tiny_vit_21m_224. This is because the name being registered conflicts with an existing name. Please check if this is not expected.\n",
            "  return register_model(fn_wrapper)\n",
            "/usr/local/lib/python3.10/dist-packages/controlnet_aux/segment_anything/modeling/tiny_vit_sam.py:654: UserWarning: Overwriting tiny_vit_21m_384 in registry with controlnet_aux.segment_anything.modeling.tiny_vit_sam.tiny_vit_21m_384. This is because the name being registered conflicts with an existing name. Please check if this is not expected.\n",
            "  return register_model(fn_wrapper)\n",
            "/usr/local/lib/python3.10/dist-packages/controlnet_aux/segment_anything/modeling/tiny_vit_sam.py:654: UserWarning: Overwriting tiny_vit_21m_512 in registry with controlnet_aux.segment_anything.modeling.tiny_vit_sam.tiny_vit_21m_512. This is because the name being registered conflicts with an existing name. Please check if this is not expected.\n",
            "  return register_model(fn_wrapper)\n",
            "diffuser_ver='0.23.0'\n",
            "Using generation config: config/prompts/test001.json\n",
            "is_sdxl=False\n",
            "is_v2=True\n",
            "Using base model: runwayml/stable-diffusion-v1-5\n",
            "Will save outputs to ./output/2024-01-10T10-56-35-simple-toonyou_beta6\n",
            "Checking motion module...\n",
            "Loading tokenizer...\n",
            "Loading text encoder...\n",
            "Loading VAE...\n",
            "Loading UNet...\n",
            "Loaded 453.20928M-parameter motion module\n",
            "Using scheduler \"euler_a\" (EulerAncestralDiscreteScheduler)\n",
            "Loading weights from /content/animatediff-cli-prompt-travel/data/models/sd/toonyou_beta6.safetensors\n",
            "Merging weights into UNet...\n",
            "Loading vae from /content/animatediff-cli-prompt-travel/data/models/vae/vae-ft-mse-840000-ema-pruned.safetensors\n",
            "loading motion lora lora_path=PosixPath('/content/animatediff-cli-prompt-travel/data/models/motion_lora/v2_lora_PanLeft.ckpt')\n",
            "Loading motion lora /content/animatediff-cli-prompt-travel/data/models/motion_lora/v2_lora_PanLeft.ckpt\n",
            "alpha = 0.65\n",
            "loading motion lora lora_path=PosixPath('/content/animatediff-cli-prompt-travel/data/models/motion_lora/v2_lora_ZoomIn.ckpt')\n",
            "Loading motion lora /content/animatediff-cli-prompt-travel/data/models/motion_lora/v2_lora_ZoomIn.ckpt\n",
            "alpha = 0.5\n",
            "Creating AnimationPipeline...\n",
            "No TI embeddings found\n",
            "Sending pipeline to device \"cuda\"\n",
            "Selected data types: unet_dtype=torch.float16, tenc_dtype=torch.float16, vae_dtype=torch.float32\n",
            "Using channels_last memory format for UNet and VAE\n",
            "Saving prompt config to output directory\n",
            "Initialization complete!\n",
            "Generating 1 animations\n",
            "Running generation 1 of 1\n",
            "Generation seed: 1999480510185285435\n",
            "len( region_condi_list )=1\n",
            "len( region_list )=1\n",
            "apply_lcm_lora=False\n",
            "controlnet_for_region=False\n",
            "multi_uncond_mode=False\n",
            "unet_batch_size=1\n",
            "prompt_encoder.get_condi_size()=2\n",
            "\u001b[2K\u001b[35m  80%\u001b[0m \u001b[91m━━━━━━━━━━━━━━━━━━━━━━━━━━━━━━━━━━━━━━━━━━━━\u001b[0m\u001b[91m╸\u001b[0m\u001b[90m━━━━━━━━━━━\u001b[0m \u001b[32m65/81 \u001b[0m [ \u001b[33m0:03:00\u001b[0m < \u001b[36m0:01:47\u001b[0m , \u001b[31m0 it/s\u001b[0m ]"
          ]
        }
      ],
      "source": [
        "#  -W is width -H height. -L length / fps = Duration.  can use -W 512 -H 768\n",
        "!animatediff generate -c config/prompts/test001.json -W 512 -H 912  -L 20 -C 16 -O 4 -S 4"
      ]
    },
    {
      "cell_type": "code",
      "source": [
        "!animatediff -h"
      ],
      "metadata": {
        "id": "05WAyTgGuNjC"
      },
      "execution_count": null,
      "outputs": []
    },
    {
      "cell_type": "code",
      "source": [
        "!animatediff  refine  -h"
      ],
      "metadata": {
        "id": "6mM0bWQtub8x"
      },
      "execution_count": null,
      "outputs": []
    },
    {
      "cell_type": "code",
      "source": [
        "!animatediff refine --config-path /content/animatediff-cli-prompt-travel/output/2024-01-04T04-02-44-simple-toonyou-jp/prompt.json -t 0.8 -W 1024 -H 1824 -C 8 -O 4 -S 4 /content/animatediff-cli-prompt-travel/output/2024-01-04T04-02-44-simple-toonyou-jp/00-4841095091158654258"
      ],
      "metadata": {
        "id": "e59v4qBrwAG4"
      },
      "execution_count": null,
      "outputs": []
    },
    {
      "cell_type": "markdown",
      "source": [
        "# Stylize Videos ✨"
      ],
      "metadata": {
        "id": "CD7EDoZe-Y3D"
      }
    },
    {
      "cell_type": "markdown",
      "source": [
        "## AnimateDiff Stylize Helps ."
      ],
      "metadata": {
        "id": "POlZ3OMkcFCw"
      }
    },
    {
      "cell_type": "code",
      "source": [
        "!animatediff stylize  create-config -h"
      ],
      "metadata": {
        "id": "Yiiqf0b_lYJF"
      },
      "execution_count": null,
      "outputs": []
    },
    {
      "cell_type": "markdown",
      "source": [
        "## Create Stylize Config."
      ],
      "metadata": {
        "id": "9Om0fI8rckbJ"
      }
    },
    {
      "cell_type": "code",
      "source": [
        "!animatediff stylize  create-config  /content/animatediff-cli-prompt-travel/GoogleDrive/MyDrive/AI/kamal_ni.mp4 --fps 10"
      ],
      "metadata": {
        "id": "hdegVC_l-ZmD"
      },
      "execution_count": null,
      "outputs": []
    },
    {
      "cell_type": "markdown",
      "source": [
        "## **Generate Stylize Video**. ⚙"
      ],
      "metadata": {
        "id": "DFl9hlqVpVvH"
      }
    },
    {
      "cell_type": "code",
      "source": [
        "!animatediff stylize generate /content/animatediff-cli-prompt-travel/stylize/2023-12-29T12-42-14-sample-toonyou_beta6"
      ],
      "metadata": {
        "id": "-0xnBr5RGEsO"
      },
      "execution_count": null,
      "outputs": []
    },
    {
      "cell_type": "code",
      "source": [],
      "metadata": {
        "id": "mj9gzfv6LX_D"
      },
      "execution_count": null,
      "outputs": []
    },
    {
      "cell_type": "markdown",
      "metadata": {
        "id": "WUCk5Bsj_d--"
      },
      "source": [
        "# Interpolate (Increase FPS) of a Video or Frames."
      ]
    },
    {
      "cell_type": "code",
      "source": [
        "!gdown 1mj9lH6Be7ztYtHAr1xUUGT3hRtWJBy_5"
      ],
      "metadata": {
        "id": "VApL-KqO-sGU"
      },
      "execution_count": null,
      "outputs": []
    },
    {
      "cell_type": "code",
      "source": [
        "!7z e RIFE_trained_model_v4.13.2.zip -o/content/animatediff-cli-prompt-travel/data/rife/rife_4.13"
      ],
      "metadata": {
        "id": "skgxsNd5-4RB"
      },
      "execution_count": null,
      "outputs": []
    },
    {
      "cell_type": "code",
      "source": [
        "!animatediff rife interpolate -h"
      ],
      "metadata": {
        "id": "uVRFk9Oy_xtB"
      },
      "execution_count": null,
      "outputs": []
    },
    {
      "cell_type": "code",
      "execution_count": null,
      "metadata": {
        "id": "NQOr46fGXvPQ"
      },
      "outputs": [],
      "source": [
        "!animatediff rife interpolate /content/animatediff-cli-prompt-travel/stylize/2023-12-29T12-42-14-sample-toonyou_beta6/2023-12-29T13-32-30_00/00-752654652136 outfile.mp4 --rife-model rife-v4.13 --frame-multiplier 2 --codec h264"
      ]
    },
    {
      "cell_type": "code",
      "execution_count": null,
      "metadata": {
        "id": "OftZm9XX5vMy"
      },
      "outputs": [],
      "source": [
        "!animatediff refine \"/content/animatediff-cli-prompt-travel/output/2023-12-23T12-47-37-deep_bhai_ii-xxmix9realistic_v40/00-1888206262821907582\" -t 0"
      ]
    },
    {
      "cell_type": "code",
      "execution_count": null,
      "metadata": {
        "id": "eeZkcXASIyNK"
      },
      "outputs": [],
      "source": [
        "!ffmpeg -framerate 8 -pattern_type glob -i '/content/animatediff-cli-prompt-travel/output/2023-12-23T12-47-37-deep_bhai_ii-xxmix9realistic_v40/00-1888206262821907582/*.png' -c:v libx264 -pix_fmt yuv420p /content/out8.mp4"
      ]
    },
    {
      "cell_type": "code",
      "execution_count": null,
      "metadata": {
        "id": "GkCNvTTnFNul"
      },
      "outputs": [],
      "source": []
    },
    {
      "cell_type": "code",
      "execution_count": null,
      "metadata": {
        "id": "-DTDY1JltjJI"
      },
      "outputs": [],
      "source": [
        "# delete the images from the folder so it can run\n",
        "os.remove(\"data/controlnet_image/test/controlnet_softedge/0000.png\")\n",
        "os.remove(\"data/controlnet_image/test/controlnet_softedge/0016.png\")\n",
        "os.remove(\"data/controlnet_image/test/controlnet_softedge/0032.png\")\n",
        "os.remove(\"data/controlnet_image/test/controlnet_openpose/0000.png\")\n",
        "os.remove(\"data/controlnet_image/test/controlnet_openpose/0016.png\")\n",
        "os.remove(\"data/controlnet_image/test/controlnet_openpose/0032.png\")"
      ]
    },
    {
      "cell_type": "code",
      "execution_count": null,
      "metadata": {
        "id": "WwTO7zsguBVp"
      },
      "outputs": [],
      "source": [
        "# take about 4-5 minutes. -W is width -H height. -L length.  can use -W 512 -H 768\n",
        "!animatediff generate -c config/prompts/test001.json -W 256 -H 384 -L 128 -C 16"
      ]
    },
    {
      "cell_type": "code",
      "execution_count": null,
      "metadata": {
        "id": "8SzoIvKeJm5a"
      },
      "outputs": [],
      "source": [
        "# Copy generated contents to Google drive\n",
        "drive.mount(\"GoogleDrive\")\n",
        "gd_path = \"GoogleDrive/MyDrive/AnimateDiffPromptTravel\"\n",
        "gd_output_dir = gd_path + \"/output\"\n",
        "os.makedirs(gd_output_dir, exist_ok=True)\n",
        "output_dir = \"output\"\n",
        "gc.collect()\n",
        "\n",
        "def get_new_dir(parent_dir):\n",
        "  sub_dirs = []\n",
        "  for path in os.listdir(parent_dir):\n",
        "    dir_path = os.path.join(parent_dir, path)\n",
        "    if os.path.isdir(dir_path):\n",
        "      sub_dirs.append(dir_path)\n",
        "  return max(sub_dirs, key = os.path.getmtime)\n",
        "\n",
        "result_dir = get_new_dir(output_dir)\n",
        "dest_dir = os.path.join(gd_output_dir, os.path.basename(result_dir))\n",
        "shutil.copytree(result_dir, dest_dir, dirs_exist_ok = True)\n",
        "print(f\"🎉 The output files have been copied into {dest_dir}. (in your connected Google Drive) See you there! 🎉\")"
      ]
    },
    {
      "cell_type": "code",
      "execution_count": null,
      "metadata": {
        "id": "bsyEkRQiJm7_"
      },
      "outputs": [],
      "source": [
        "## The END"
      ]
    },
    {
      "cell_type": "markdown",
      "metadata": {
        "id": "xrvt6zK1oTRi"
      },
      "source": [
        "Good Luck. If you want to run it locally (needs a Nvidia or AMD GPU), I also video tutorial for them. Subscribe to it today! [Click to subscribe](https://www.youtube.com/@tech-practice9805?sub_confirmation=1)"
      ]
    },
    {
      "cell_type": "code",
      "execution_count": null,
      "metadata": {
        "id": "EvDSGO9wJnA-"
      },
      "outputs": [],
      "source": []
    },
    {
      "cell_type": "code",
      "execution_count": null,
      "metadata": {
        "id": "8bJnV10GE92G"
      },
      "outputs": [],
      "source": [
        "\n",
        "!git clone https://github.com/nihui/rife-ncnn-vulkan.git\n",
        "!cd rife-ncnn-vulkan\n",
        "!git submodule update --init --recursive"
      ]
    },
    {
      "cell_type": "markdown",
      "source": [
        "# Video Utils 🎞."
      ],
      "metadata": {
        "id": "dPWhnBWz1NaO"
      }
    },
    {
      "cell_type": "code",
      "source": [
        "!gdown --id 11MiEL9x7ynqbcVcxTuwgefBbNmIG9RiT"
      ],
      "metadata": {
        "id": "1cE-hQt_24dV"
      },
      "execution_count": null,
      "outputs": []
    },
    {
      "cell_type": "code",
      "source": [
        "!rm -r /content/animatediff-cli-prompt-travel/data/controlnet_image/test/controlnet_openpose"
      ],
      "metadata": {
        "id": "v3y2PK1GiTRI"
      },
      "execution_count": null,
      "outputs": []
    },
    {
      "cell_type": "code",
      "source": [
        "!ffmpeg -i \"/content/animatediff-cli-prompt-travel/sher_khul.mp4\" -vf fps=12  \"/content/animatediff-cli-prompt-travel/data/controlnet_image/test/controlnet_openpose/%05d.png\"\n"
      ],
      "metadata": {
        "id": "seAY_wZ3204-"
      },
      "execution_count": null,
      "outputs": []
    },
    {
      "cell_type": "code",
      "source": [
        "copy_files(\"/content/animatediff-cli-prompt-travel/data/controlnet_image/test/controlnet_openpose\",\"/content/animatediff-cli-prompt-travel/data/controlnet_image/test/controlnet_ip2p\")\n",
        "copy_files(\"/content/animatediff-cli-prompt-travel/data/controlnet_image/test/controlnet_openpose\",\"/content/animatediff-cli-prompt-travel/data/controlnet_image/test/controlnet_softedge\")\n"
      ],
      "metadata": {
        "id": "vn0pSDxfiq2a"
      },
      "execution_count": null,
      "outputs": []
    },
    {
      "cell_type": "code",
      "source": [
        "!ffmpeg -framerate {fps} -pattern_type glob -i {frames_path+\"/\"}*.png -c:v libx264 -pix_fmt yuv420p /content/out8.mp4"
      ],
      "metadata": {
        "id": "a5t3NsPs2-P9"
      },
      "execution_count": null,
      "outputs": []
    }
  ],
  "metadata": {
    "accelerator": "GPU",
    "colab": {
      "provenance": [],
      "collapsed_sections": [
        "2DzQcdrR3Nau",
        "PVvJwnXl-dS0",
        "PIQ6TrKa9w3S"
      ],
      "include_colab_link": true
    },
    "kernelspec": {
      "display_name": "Python 3",
      "name": "python3"
    },
    "language_info": {
      "name": "python"
    }
  },
  "nbformat": 4,
  "nbformat_minor": 0
}