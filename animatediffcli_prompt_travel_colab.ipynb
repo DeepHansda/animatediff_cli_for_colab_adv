{
  "cells": [
    {
      "cell_type": "markdown",
      "metadata": {
        "id": "view-in-github",
        "colab_type": "text"
      },
      "source": [
        "<a href=\"https://colab.research.google.com/github/DeepHansda/animatediff_cli_for_colab_adv/blob/main/animatediffcli_prompt_travel_colab.ipynb\" target=\"_parent\"><img src=\"https://colab.research.google.com/assets/colab-badge.svg\" alt=\"Open In Colab\"/></a>"
      ]
    },
    {
      "cell_type": "markdown",
      "metadata": {
        "id": "iWvax0gRo1M1"
      },
      "source": [
        "If you have any questions running it, feel free to check it out at the tutorial and reach out on [GitHub]. If you want to run it locally (needs a Nvidia or AMD GPU)."
      ]
    },
    {
      "cell_type": "markdown",
      "metadata": {
        "id": "G4KoSkrg1D-6"
      },
      "source": [
        "# AnimateDiff CLI SetUp.🛠\n",
        "\n"
      ]
    },
    {
      "cell_type": "markdown",
      "metadata": {
        "id": "2DzQcdrR3Nau"
      },
      "source": [
        "##Set UP. ((It Will take some time ,Meanwhile can enjoy some coffie ☕  or Music 🎶.))"
      ]
    },
    {
      "cell_type": "code",
      "execution_count": null,
      "metadata": {
        "id": "t8eFw7zfJmoc"
      },
      "outputs": [],
      "source": [
        "# manually create a folder on your google drive. Need to connect it to make results persistent. click \"Allow\".\n",
        "# it will ask you for permission.\n",
        "# create a folder called \"AnimateDiffPromptTravel\" in it\n",
        "!apt-get -qq install aria2\n",
        "from google.colab import drive\n",
        "import os, shutil, gc, time\n",
        "\n",
        "\n",
        "gd_output_dir=\"\"\n",
        "base_path = \"/content/animatediff-cli-prompt-travel\"\n",
        "pwd = %pwd\n",
        "print(pwd)\n",
        "if pwd != base_path:\n",
        "  !git clone https://github.com/s9roll7/animatediff-cli-prompt-travel\n",
        "  %cd {base_path}\n",
        "\n",
        "  # !pip install torch==2.0.1+cu118 torchvision==0.15.2+cu118 torchaudio==2.0.2 --index-url https://download.pytorch.org/whl/cu118\n",
        "  !pip install .[dev]\n",
        "  !pip install xformers mediapipe\n",
        "  !pip install onnxruntime-gpu pandas\n",
        "\n",
        "\n",
        "\n",
        "#connect drive\n",
        "# manually create a folder on your google drive. Need to connect it to make results persistent. click \"Allow\".\n",
        "def connect_drive():\n",
        "  drive.mount(\"GoogleDrive\")\n",
        "  gd_path = \"GoogleDrive/MyDrive/AnimateDiffPromptTravel\"\n",
        "  gd_output_dir = gd_path + \"/output\"\n",
        "  os.makedirs(gd_output_dir, exist_ok=True)\n",
        "\n",
        "#for copy files\n",
        "def copy_files(sorc,dest):\n",
        "  files_dir = os.listdir(sorc)\n",
        "# print(files_dir)\n",
        "  for file_name in files_dir:\n",
        "    full_file_path = os.path.join(sorc,file_name)\n",
        "    if os.path.isfile(full_file_path):\n",
        "      shutil.copy(full_file_path,dest)\n",
        "\n"
      ]
    },
    {
      "cell_type": "code",
      "source": [
        "%cd /content/animatediff-cli-prompt-travel"
      ],
      "metadata": {
        "id": "qxQEGIph3yt5"
      },
      "execution_count": null,
      "outputs": []
    },
    {
      "cell_type": "markdown",
      "metadata": {
        "id": "iTBDiNb71s6h"
      },
      "source": [
        "##Connect Google Drive ((Optional)).\n"
      ]
    },
    {
      "cell_type": "code",
      "execution_count": null,
      "metadata": {
        "id": "br1IjxE3z-0D"
      },
      "outputs": [],
      "source": [
        "  #connect drive\n",
        "  # manually create a folder on your google drive. Need to connect it to make results persistent. click \"Allow\".\n",
        "  # it will ask you for permission.\n",
        "  # create a folder called \"AnimateDiffPromptTravel\" in it\n",
        "\n",
        "connect_drive()"
      ]
    },
    {
      "cell_type": "code",
      "execution_count": null,
      "metadata": {
        "id": "mFUu2Jh1EkmT"
      },
      "outputs": [],
      "source": [
        "!gdown --id 1tXQOZDHHxeIHvsqnsuwdrFBXjHCh7Gle -O /content/animatediff-cli-prompt-travel/GoogleDrive/MyDrive/AnimateDiffPromptTravel/pahari.mp4"
      ]
    },
    {
      "cell_type": "markdown",
      "metadata": {
        "id": "u-tBLhZm2uXw"
      },
      "source": [
        "#Download AI 🗿 MODELS 🚀"
      ]
    },
    {
      "cell_type": "markdown",
      "metadata": {
        "id": "yWzyfX735p-4"
      },
      "source": [
        "##Download AnimateDiff Motion Modules.✨"
      ]
    },
    {
      "cell_type": "code",
      "execution_count": null,
      "metadata": {
        "id": "g_Z5Mzc_JmvR"
      },
      "outputs": [],
      "source": [
        "# AnimateDiff MotionModule download......................................\n",
        "#Remove the hashtag for desired modules. !------------\n",
        "\n",
        "!aria2c --console-log-level=error -c -x 16 -s 16 -k 1M https://huggingface.co/manshoety/AD_Stabilized_Motion/resolve/main/mm-Stabilized_high.pth?download=true -d /content/animatediff-cli-prompt-travel/data/models/motion-module -o mm-Stabilized_high.pth\n",
        "# !aria2c --console-log-level=error -c -x 16 -s 16 -k 1M https://huggingface.co/CiaraRowles/TemporalDiff/resolve/main/temporaldiff-v1-animatediff.ckpt?download=true -d /content/animatediff-cli-prompt-travel/data/models/motion-module -o temporaldiff-v1-animatediff.ckpt\n",
        "# !aria2c --console-log-level=error -c -x 16 -s 16 -k 1M https://civitai.com/api/download/models/178017 -d /content/animatediff-cli-prompt-travel/data/models/motion-module -o improved3DMotion_improved3DV1.ckpt\n",
        "# !aria2c --console-log-level=error -c -x 16 -s 16 -k 1M https://huggingface.co/manshoety/beta_testing_models/resolve/main/mm-p_0.75.pth -d /content/animatediff-cli-prompt-travel/data/models/motion-module -o mm-p_0.75.pth\n",
        "# !aria2c --console-log-level=error -c -x 16 -s 16 -k 1M https://huggingface.co/guoyww/animatediff/resolve/main/mm_sd_v15_v2.ckpt?download=true -d /content/animatediff-cli-prompt-travel/data/models/motion-module -o mm_sd_v15_v2.ckpt"
      ]
    },
    {
      "cell_type": "markdown",
      "metadata": {
        "id": "Mh29xb861Anb"
      },
      "source": [
        "## Download Motion Loras."
      ]
    },
    {
      "cell_type": "code",
      "execution_count": null,
      "metadata": {
        "id": "rJ4hlTdb0mHK"
      },
      "outputs": [],
      "source": [
        "!wget -c https://huggingface.co/guoyww/animatediff/resolve/main/v2_lora_PanLeft.ckpt -P /content/animatediff-cli-prompt-travel/data/models/motion_lora\n",
        "!wget -c https://huggingface.co/guoyww/animatediff/resolve/main/v2_lora_ZoomIn.ckpt -P /content/animatediff-cli-prompt-travel/data/models/motion_lora\n"
      ]
    },
    {
      "cell_type": "markdown",
      "metadata": {
        "id": "me2gDmsf2wHw"
      },
      "source": [
        "## Download Stable Diffusion Model ⚙ (SD v1.5)."
      ]
    },
    {
      "cell_type": "code",
      "execution_count": null,
      "metadata": {
        "id": "s0XepFH4Jmx9"
      },
      "outputs": [],
      "source": [
        "# SD model download  SD 1.5\n",
        "# feel free to experiment other models\n",
        "#Remove the hashtag for desired checkpoints. !------------\n",
        "\n",
        "#Realistic checkpoints:\n",
        "# !curl -Lo \"/content/animatediff-cli-prompt-travel/data/models/sd/Epicrealismv5.safetensors\" \"https://civitai.com/api/download/models/134065?type=Model&format=SafeTensor&size=pruned&fp=fp16\"\n",
        "#!curl -Lo \"/content/animatediff-cli-prompt-travel/data/models/sd/Cyberrealistic.safetensors\" \"https://civitai.com/api/download/models/138176?type=Model&format=SafeTensor&size=pruned&fp=fp16\"\n",
        "# !curl -Lo \"/content/animatediff-cli-prompt-travel/data/models/sd/Majicmix.safetensors\" \"https://civitai.com/api/download/models/94640\"\n",
        "#!curl -Lo \"/content/animatediff-cli-prompt-travel/data/models/sd/Photon.safetensors\" \"https://civitai.com/api/download/models/90072\"\n",
        "#!curl -Lo \"/content/animatediff-cli-prompt-travel/data/models/sd/chilloutmix.safetensors\" \"https://civitai.com/api/download/models/11745\"\n",
        "# !curl -Lo \"/content/animatediff-cli-prompt-travel/data/models/sd/DreamShaper_8_pruned.safetensors\" \"https://huggingface.co/Lykon/DreamShaper/resolve/main/DreamShaper_8_pruned.safetensors?download=true\"\n",
        "#!curl -Lo \"/content/animatediff-cli-prompt-travel/data/models/sd/ProtoGen_X5.8-pruned-fp16.safetensors\" \"https://huggingface.co/darkstorm2150/Protogen_x5.8_Official_Release/resolve/main/ProtoGen_X5.8-pruned-fp16.safetensors?download=true\"\n",
        "#!curl -Lo \"/content/animatediff-cli-prompt-travel/data/models/sd/Dreamlike_Diffusion_1.safetensors\" \"https://civitai.com/api/download/models/1356\"\n",
        "\n",
        "#Animation checkpoints:\n",
        "# !curl -Lo \"/content/animatediff-cli-prompt-travel/data/models/sd/RealCartoon-Pixar.ckpt\" \"https://huggingface.co/jzli/RealCartoon-Pixar-V5/resolve/main/realcartoonPixar_v5.ckpt?download=true\"\n",
        "# !curl -Lo \"/content/animatediff-cli-prompt-travel/data/models/sd/toonyou_beta6.safetensors\" \"https://huggingface.co/frankjoshua/toonyou_beta6/resolve/main/toonyou_beta6.safetensors\"\n",
        "# !wget -c https://civitai.com/api/download/models/74057 -O /content/animatediff-cli-prompt-travel/data/models/sd/seekyou.safetensors\n",
        "#Anime checkpoints:\n",
        "# !wget -c https://civitai.com/api/download/models/141866 -O /content/animatediff-cli-prompt-travel/data/models/sd/Dark_Sushi_2_5D.safetensors\n",
        "!wget -c https://civitai.com/api/download/models/98960 -O /content/animatediff-cli-prompt-travel/data/models/sd/toonyou-jp.safetensors\n",
        "# !curl -Lo \"/content/animatediff-cli-prompt-travel/data/models/sd/Anything_V4_5.safetensors\" \"https://civitai.com/api/download/models/5581\"\n",
        "# !curl -Lo \"/content/animatediff-cli-prompt-travel/data/models/sd/Anything_V5.safetensors\" \"https://civitai.com/api/download/models/30163\"\n",
        "!curl -Lo \"/content/animatediff-cli-prompt-travel/data/models/sd/DivineEleganceMix_V6.safetensors\" \"https://civitai.com/api/download/models/122702\"\n",
        "!curl -Lo \"/content/animatediff-cli-prompt-travel/data/models/sd/AnimeCreative.safetensors\" \"https://civitai.com/api/download/models/163570\"\n",
        "# !curl -Lo \"/content/animatediff-cli-prompt-travel/data/models/sd/Counterfeit_V3.safetensors\" \"https://civitai.com/api/download/models/57618\""
      ]
    },
    {
      "cell_type": "markdown",
      "metadata": {
        "id": "ik8cDHghf7N_"
      },
      "source": [
        "## Download VAE Models.🧪"
      ]
    },
    {
      "cell_type": "code",
      "execution_count": null,
      "metadata": {
        "id": "l1kjONjW2Wn5"
      },
      "outputs": [],
      "source": [
        "!wget -c https://huggingface.co/stabilityai/sd-vae-ft-mse-original/resolve/main/vae-ft-mse-840000-ema-pruned.safetensors -P /content/animatediff-cli-prompt-travel/data/models/vae"
      ]
    },
    {
      "cell_type": "markdown",
      "metadata": {
        "id": "BbvcDh7OgXrp"
      },
      "source": [
        "## Download LORA Moels.🧱"
      ]
    },
    {
      "cell_type": "code",
      "execution_count": null,
      "metadata": {
        "id": "Rqln-e5Bgkyp"
      },
      "outputs": [],
      "source": [
        "lora_path = \"/content/animatediff-cli-prompt-travel/data/models/loras\"\n",
        "if not os.path.exists(lora_path):\n",
        "  os.mkdir(lora_path)\n",
        "# !wget -c https://civitai.com/api/download/models/176439 -O /content/animatediff-cli-prompt-travel/data/models/loras/RyomenSukuna001.safetensors\n",
        "!wget -c https://civitai.com/api/download/models/31661 -O /content/animatediff-cli-prompt-travel/data/models/loras/maki_zenin.safetensors"
      ]
    },
    {
      "cell_type": "markdown",
      "metadata": {
        "id": "ZXgV9FtA81-J"
      },
      "source": [
        "# CLI Prompts ((Important!)) 📃"
      ]
    },
    {
      "cell_type": "markdown",
      "metadata": {
        "id": "yh2DnIGUHnaK"
      },
      "source": [
        "Check keyframes in Prompt."
      ]
    },
    {
      "cell_type": "code",
      "execution_count": null,
      "metadata": {
        "cellView": "form",
        "id": "6HWwV6SkEXYe"
      },
      "outputs": [],
      "source": [
        "#check keyframes in prompts\n",
        "fps = 15 # @param {type:\"number\"}\n",
        "duration_in_sec = 18 # @param {type:\"number\"}\n",
        "for x in range(0,duration_in_sec+1):\n",
        "  # x=x+2\n",
        "  print(x*fps)"
      ]
    },
    {
      "cell_type": "markdown",
      "metadata": {
        "id": "PVvJwnXl-dS0"
      },
      "source": [
        "## One For All Prompt Template.(Also a Doc)"
      ]
    },
    {
      "cell_type": "code",
      "execution_count": null,
      "metadata": {
        "id": "zH2-DIttmVLR"
      },
      "outputs": [],
      "source": [
        "# @title\n",
        "# test sample config file ### to make updates to the config file (open it and modify. See the youtube video for details!)\n",
        "# template in: animatediff-cli-prompt-travel/config/prompts/prompt_travel.json\n",
        "config_sample_txt = \"\"\"\n",
        "\n",
        "{\n",
        "  \"name\": \"sample\",\n",
        "  \"path\": \"share/Stable-diffusion/mistoonAnime_v20.safetensors\",  # Specify Checkpoint as a path relative to /animatediff-cli/data\n",
        "  \"lcm_map\":{     # lcm-lora\n",
        "    \"enable\":false,\n",
        "    \"start_scale\":0.15,\n",
        "    \"end_scale\":0.75,\n",
        "    \"gradient_start\":0.2,\n",
        "    \"gradient_end\":0.75\n",
        "  },\n",
        "  \"gradual_latent_hires_fix_map\":{ # gradual latent hires fix\n",
        "    # This is an option to address the problem of chaos being generated when the model is generated beyond its proper size.\n",
        "    # It also has the effect of increasing generation speed.\n",
        "    \"enable\": false,    # enable/disable\n",
        "    \"scale\": {    # \"DENOISE PROGRESS\" : LATENT SCALE format\n",
        "      # In this example, Up to 70% of the total denoise, latent is halved to the specified size.\n",
        "      # From 70% to the end, calculate the size as specified.\n",
        "      \"0\": 0.5,\n",
        "      \"0.7\": 1.0\n",
        "    },\n",
        "    \"reverse_steps\": 5,          # Number of reversal steps at latent size switching timing\n",
        "    \"noise_add_count\":3          # Additive amount of noise　at latent size switching timing\n",
        "  },\n",
        "  \"vae_path\":\"share/VAE/vae-ft-mse-840000-ema-pruned.ckpt\",       # Specify vae as a path relative to /animatediff-cli/data\n",
        "  \"motion_module\": \"models/motion-module/mm_sd_v14.ckpt\",         # Specify motion module as a path relative to /animatediff-cli/data\n",
        "  \"context_schedule\":\"uniform\",          # \"uniform\" or \"composite\"\n",
        "  \"compile\": false,\n",
        "  \"seed\": [\n",
        "    341774366206100,-1,-1         # -1 means random. If \"--repeats 3\" is specified in this setting, The first will be 341774366206100, the second and third will be random.\n",
        "  ],\n",
        "  \"scheduler\": \"ddim\",      # \"ddim\",\"euler\",\"euler_a\",\"k_dpmpp_2m\", etc...\n",
        "  \"steps\": 40,\n",
        "  \"guidance_scale\": 20,     # cfg scale\n",
        "  \"clip_skip\": 2,\n",
        "  \"prompt_fixed_ratio\": 0.5,\n",
        "  \"head_prompt\": \"masterpiece, best quality, a beautiful and detailed portriat of muffet, monster girl,((purple body:1.3)),humanoid, arachnid, anthro,((fangs)),pigtails,hair bows,5 eyes,spider girl,6 arms,solo\",\n",
        "  \"prompt_map\": {           # \"FRAME\" : \"PROMPT\" format / ex. prompt for frame 32 is \"head_prompt\" + prompt_map[\"32\"] + \"tail_prompt\"\n",
        "    \"0\":  \"smile standing,((spider webs:1.0))\",\n",
        "    \"32\":  \"(((walking))),((spider webs:1.0))\",\n",
        "    \"64\":  \"(((running))),((spider webs:2.0)),wide angle lens, fish eye effect\",\n",
        "    \"96\":  \"(((sitting))),((spider webs:1.0))\"\n",
        "  },\n",
        "  \"tail_prompt\": \"clothed, open mouth, awesome and detailed background, holding teapot, holding teacup, 6 hands,detailed hands,storefront that sells pastries and tea,bloomers,(red and black clothing),inside,pouring into teacup,muffetwear\",\n",
        "  \"n_prompt\": [\n",
        "    \"(worst quality, low quality:1.4),nudity,simple background,border,mouth closed,text, patreon,bed,bedroom,white background,((monochrome)),sketch,(pink body:1.4),7 arms,8 arms,4 arms\"\n",
        "  ],\n",
        "  \"lora_map\": {             # \"PATH_TO_LORA\" : STRENGTH format\n",
        "    \"share/Lora/muffet_v2.safetensors\" : 1.0,                     # Specify lora as a path relative to /animatediff-cli/data\n",
        "    \"share/Lora/add_detail.safetensors\" : 1.0                     # Lora support is limited. Not all formats can be used!!!\n",
        "  },\n",
        "  \"motion_lora_map\": {      # \"PATH_TO_LORA\" : STRENGTH format\n",
        "    \"models/motion_lora/v2_lora_RollingAnticlockwise.ckpt\":0.5,   # Currently, the officially distributed lora seems to work only for v2 motion modules (mm_sd_v15_v2.ckpt).\n",
        "    \"models/motion_lora/v2_lora_ZoomIn.ckpt\":0.5\n",
        "  },\n",
        "  \"ip_adapter_map\": {       # config for ip-adapter\n",
        "      # enable/disable (important)\n",
        "      \"enable\": true,\n",
        "      # Specify input image directory relative to /animatediff-cli/data (important! No need to specify frames in the config file. The effect on generation is exactly the same logic as the placement of the prompt)\n",
        "      \"input_image_dir\": \"ip_adapter_image/test\",\n",
        "      \"prompt_fixed_ratio\": 0.5,\n",
        "      # save input image or not\n",
        "      \"save_input_image\": true,\n",
        "      # Ratio of image prompt vs text prompt (important). Even if you want to emphasize only the image prompt in 1.0, do not leave prompt/neg prompt empty, but specify a general text such as \"best quality\".\n",
        "      \"scale\": 0.5,\n",
        "      # IP-Adapter/IP-Adapter Full Face/IP-Adapter Plus Face/IP-Adapter Plus/IP-Adapter Light (important) It would be a completely different outcome. Not always PLUS a superior result.\n",
        "      \"is_full_face\": false,\n",
        "      \"is_plus_face\": false,\n",
        "      \"is_plus\": true,\n",
        "      \"is_light\": false\n",
        "  },\n",
        "  \"img2img_map\": {\n",
        "      # enable/disable\n",
        "      \"enable\": true,\n",
        "      # Directory where the initial image is placed\n",
        "      \"init_img_dir\": \"..\\\\stylize\\\\2023-10-27T19-43-01-sample-mistoonanime_v20\\\\00_img2img\",\n",
        "      \"save_init_image\": true,\n",
        "      # The smaller the value, the closer the result will be to the initial image.\n",
        "      \"denoising_strength\": 0.7\n",
        "  },\n",
        "  \"region_map\": {\n",
        "      # setting for region 0. You can also add regions if necessary.\n",
        "      # The region added at the back will be drawn at the front.\n",
        "      \"0\": {\n",
        "          # enable/disable\n",
        "          \"enable\": true,\n",
        "          # If you want to draw a separate object for each region, enter a value of 0.1 or higher.\n",
        "          \"crop_generation_rate\": 0.1,\n",
        "          # Directory where mask images are placed\n",
        "          \"mask_dir\": \"..\\\\stylize\\\\2023-10-27T19-43-01-sample-mistoonanime_v20\\\\r_fg_00_2023-10-27T19-44-08\\\\00_mask\",\n",
        "          \"save_mask\": true,\n",
        "          # If true, the initial image will be drawn as is (inpaint)\n",
        "          \"is_init_img\": false,\n",
        "          # conditions for region 0\n",
        "          \"condition\": {\n",
        "              # text prompt for region 0\n",
        "              \"prompt_fixed_ratio\": 0.5,\n",
        "              \"head_prompt\": \"\",\n",
        "              \"prompt_map\": {\n",
        "                  \"0\": \"(masterpiece, best quality:1.2), solo, 1girl, kusanagi motoko, looking at viewer, jacket, leotard, thighhighs, gloves, cleavage\"\n",
        "               },\n",
        "              \"tail_prompt\": \"\",\n",
        "              # image prompt(ip adapter) for region 0\n",
        "              # It is not possible to change lora for each region, but you can do something similar using an ip adapter.\n",
        "              \"ip_adapter_map\": {\n",
        "                  \"enable\": true,\n",
        "                  \"input_image_dir\": \"..\\\\stylize\\\\2023-10-27T19-43-01-sample-mistoonanime_v20\\\\r_fg_00_2023-10-27T19-44-08\\\\00_ipadapter\",\n",
        "                  \"prompt_fixed_ratio\": 0.5,\n",
        "                  \"save_input_image\": true,\n",
        "                  \"resized_to_square\": false\n",
        "              }\n",
        "          }\n",
        "      },\n",
        "      # setting for background\n",
        "      \"background\": {\n",
        "          # If true, the initial image will be drawn as is (inpaint)\n",
        "          \"is_init_img\": true,\n",
        "          \"hint\": \"background's condition refers to the one in root\"\n",
        "      }\n",
        "  },\n",
        "  \"controlnet_map\": {       # config for controlnet(for generation)\n",
        "    \"input_image_dir\" : \"controlnet_image/test\",    # Specify input image directory relative to /animatediff-cli/data (important! Please refer to the directory structure of sample. No need to specify frames in the config file.)\n",
        "    \"max_samples_on_vram\" : 200,    # If you specify a large number of images for controlnet and vram will not be enough, reduce this value. 0 means that everything should be placed in cpu.\n",
        "    \"max_models_on_vram\" : 3,       # Number of controlnet models to be placed in vram\n",
        "    \"save_detectmap\" : true,        # save preprocessed image or not\n",
        "    \"preprocess_on_gpu\": true,      # run preprocess on gpu or not (It probably does not affect vram usage at peak, so it should always set true.)\n",
        "    \"is_loop\": true,                # Whether controlnet effects consider loop\n",
        "\n",
        "    \"controlnet_tile\":{    # config for controlnet_tile\n",
        "      \"enable\": true,              # enable/disable (important)\n",
        "      \"use_preprocessor\":true,      # Whether to use a preprocessor for each controlnet type\n",
        "      \"preprocessor\":{     # If not specified, the default preprocessor is selected.(Most of the time the default should be fine.)\n",
        "        # none/blur/tile_resample/upernet_seg/ or key in controlnet_aux.processor.MODELS\n",
        "        # https://github.com/patrickvonplaten/controlnet_aux/blob/2fd027162e7aef8c18d0a9b5a344727d37f4f13d/src/controlnet_aux/processor.py#L20\n",
        "        \"type\" : \"tile_resample\",\n",
        "        \"param\":{\n",
        "          \"down_sampling_rate\":2.0\n",
        "        }\n",
        "      },\n",
        "      \"guess_mode\":false,\n",
        "      # control weight (important)\n",
        "      \"controlnet_conditioning_scale\": 1.0,\n",
        "      # starting control step\n",
        "      \"control_guidance_start\": 0.0,\n",
        "      # ending control step\n",
        "      \"control_guidance_end\": 1.0,\n",
        "      # list of influences on neighboring frames (important)\n",
        "      # This means that there is an impact of 0.5 on both neighboring frames and 0.4 on the one next to it. Try lengthening, shortening, or changing the values inside.\n",
        "      \"control_scale_list\":[0.5,0.4,0.3,0.2,0.1],\n",
        "      # list of regions where controlnet works\n",
        "      # In this example, it only affects region \"0\", but not \"background\".\n",
        "      \"control_region_list\": [\"0\"]\n",
        "    },\n",
        "    \"controlnet_ip2p\":{\n",
        "      \"enable\": true,\n",
        "      \"use_preprocessor\":true,\n",
        "      \"guess_mode\":false,\n",
        "      \"controlnet_conditioning_scale\": 1.0,\n",
        "      \"control_guidance_start\": 0.0,\n",
        "      \"control_guidance_end\": 1.0,\n",
        "      \"control_scale_list\":[0.5,0.4,0.3,0.2,0.1],\n",
        "      # In this example, all regions are affected\n",
        "      \"control_region_list\": []\n",
        "    },\n",
        "    \"controlnet_lineart_anime\":{\n",
        "      \"enable\": true,\n",
        "      \"use_preprocessor\":true,\n",
        "      \"guess_mode\":false,\n",
        "      \"controlnet_conditioning_scale\": 1.0,\n",
        "      \"control_guidance_start\": 0.0,\n",
        "      \"control_guidance_end\": 1.0,\n",
        "      \"control_scale_list\":[0.5,0.4,0.3,0.2,0.1],\n",
        "      # In this example, it only affects region \"background\", but not \"0\".\n",
        "      \"control_region_list\": [\"background\"]\n",
        "    },\n",
        "    \"controlnet_openpose\":{\n",
        "      \"enable\": true,\n",
        "      \"use_preprocessor\":true,\n",
        "      \"guess_mode\":false,\n",
        "      \"controlnet_conditioning_scale\": 1.0,\n",
        "      \"control_guidance_start\": 0.0,\n",
        "      \"control_guidance_end\": 1.0,\n",
        "      \"control_scale_list\":[0.5,0.4,0.3,0.2,0.1],\n",
        "      # In this example, all regions are affected (since these are the only two regions defined)\n",
        "      \"control_region_list\": [\"0\", \"background\"]\n",
        "    },\n",
        "    \"controlnet_softedge\":{\n",
        "      \"enable\": true,\n",
        "      \"use_preprocessor\":true,\n",
        "      \"preprocessor\":{\n",
        "        \"type\" : \"softedge_pidsafe\",\n",
        "        \"param\":{\n",
        "        }\n",
        "      },\n",
        "      \"guess_mode\":false,\n",
        "      \"controlnet_conditioning_scale\": 1.0,\n",
        "      \"control_guidance_start\": 0.0,\n",
        "      \"control_guidance_end\": 1.0,\n",
        "      \"control_scale_list\":[0.5,0.4,0.3,0.2,0.1]\n",
        "    },\n",
        "    \"controlnet_ref\": {\n",
        "        \"enable\": false,            # enable/disable (important)\n",
        "        \"ref_image\": \"ref_image/ref_sample.png\",     # path to reference image.\n",
        "        \"attention_auto_machine_weight\": 1.0,\n",
        "        \"gn_auto_machine_weight\": 1.0,\n",
        "        \"style_fidelity\": 0.5,                # control weight-like parameter(important)\n",
        "        \"reference_attn\": true,               # [attn=true , adain=false] means \"reference_only\"\n",
        "        \"reference_adain\": false,\n",
        "        \"scale_pattern\":[0.5]                 # Pattern for applying controlnet_ref to frames\n",
        "    }                                         # ex. [0.5] means [0.5,0.5,0.5,0.5,0.5 .... ]. All frames are affected by 50%\n",
        "                                              # ex. [1, 0] means [1,0,1,0,1,0,1,0,1,0,1 ....]. Only even frames are affected by 100%.\n",
        "  },\n",
        "  \"upscale_config\": {       # config for tile-upscale\n",
        "    \"scheduler\": \"ddim\",\n",
        "    \"steps\": 20,\n",
        "    \"strength\": 0.5,\n",
        "    \"guidance_scale\": 10,\n",
        "    \"controlnet_tile\": {    # config for controlnet tile\n",
        "      \"enable\": true,       # enable/disable (important)\n",
        "      \"controlnet_conditioning_scale\": 1.0,     # control weight (important)\n",
        "      \"guess_mode\": false,\n",
        "      \"control_guidance_start\": 0.0,      # starting control step\n",
        "      \"control_guidance_end\": 1.0         # ending control step\n",
        "    },\n",
        "    \"controlnet_line_anime\": {  # config for controlnet line anime\n",
        "      \"enable\": false,\n",
        "      \"controlnet_conditioning_scale\": 1.0,\n",
        "      \"guess_mode\": false,\n",
        "      \"control_guidance_start\": 0.0,\n",
        "      \"control_guidance_end\": 1.0\n",
        "    },\n",
        "    \"controlnet_ip2p\": {  # config for controlnet ip2p\n",
        "      \"enable\": false,\n",
        "      \"controlnet_conditioning_scale\": 0.5,\n",
        "      \"guess_mode\": false,\n",
        "      \"control_guidance_start\": 0.0,\n",
        "      \"control_guidance_end\": 1.0\n",
        "    },\n",
        "    \"controlnet_ref\": {   # config for controlnet ref\n",
        "      \"enable\": false,             # enable/disable (important)\n",
        "      \"use_frame_as_ref_image\": false,   # use original frames as ref_image for each upscale (important)\n",
        "      \"use_1st_frame_as_ref_image\": false,   # use 1st original frame as ref_image for all upscale (important)\n",
        "      \"ref_image\": \"ref_image/path_to_your_ref_img.jpg\",   # use specified image file as ref_image for all upscale (important)\n",
        "      \"attention_auto_machine_weight\": 1.0,\n",
        "      \"gn_auto_machine_weight\": 1.0,\n",
        "      \"style_fidelity\": 0.25,       # control weight-like parameter(important)\n",
        "      \"reference_attn\": true,       # [attn=true , adain=false] means \"reference_only\"\n",
        "      \"reference_adain\": false\n",
        "    }\n",
        "  },\n",
        "  \"output\":{   # output format\n",
        "    \"format\" : \"gif\",   # gif/mp4/webm\n",
        "    \"fps\" : 8,\n",
        "    \"encode_param\":{\n",
        "      \"crf\": 10\n",
        "    }\n",
        "  }\n",
        "}\n",
        "\"\"\"\n",
        "config_file_path = f\"config/prompts/test001.json\"\n",
        "with open(config_file_path, \"w\") as file:\n",
        "    file.write(config_sample_txt)"
      ]
    },
    {
      "cell_type": "markdown",
      "metadata": {
        "id": "PIQ6TrKa9w3S"
      },
      "source": [
        "## **Hi-res Fix Prompt Template.**"
      ]
    },
    {
      "cell_type": "code",
      "execution_count": null,
      "metadata": {
        "id": "-QJywSP69nwM"
      },
      "outputs": [],
      "source": [
        "# @title\n",
        "# test sample config file ### to make updates to the config file (open it and modify. See the youtube video for details!)\n",
        "# template in: animatediff-cli-prompt-travel/config/prompts/prompt_travel.json\n",
        "config_sample_txt = \"\"\"\n",
        "{\n",
        "    \"name\": \"simple\",\n",
        "    \"path\": \"models/sd/DivineEleganceMix_V6.safetensors\",\n",
        "    \"vae_path\": \"/content/animatediff-cli-prompt-travel/data/models/vae/vae-ft-mse-840000-ema-pruned.safetensors\",\n",
        "    \"motion_module\": \"models/motion-module/mm-Stabilized_high.pth\",\n",
        "    \"gradual_latent_hires_fix_map\": {\n",
        "        \"enable\": true,\n",
        "        \"scale\": {\n",
        "            \"0\": 0.5,\n",
        "            \"0.7\": 1.0\n",
        "        },\n",
        "        \"reverse_steps\": 5,\n",
        "        \"noise_add_count\": 3\n",
        "    },\n",
        "    \"compile\": false,\n",
        "    \"seed\": [\n",
        "      8725404117208020067\n",
        "    ],\n",
        "    \"scheduler\": \"euler_a\",\n",
        "    \"steps\": 20,\n",
        "    \"guidance_scale\": 8,\n",
        "    \"clip_skip\": 2,\n",
        "    \"head_prompt\":\"(best quality,top quality,masterpiece,highly detailed,intricate details,colorful),1girl, cowboy shot, beautiful zenin_maki,(pefect face,perfect eyes),looking at viewers,ponytail,glasses,bangs,green hair,brown eyes,white shirt, outdoors, belt, choker, collared_shirt, pants, black_belt, black_choker, breast_pocket, earrings, white_shirt, night, pocket, shirt_tucked_in, short_sleeves,\",\n",
        "    \"prompt_map\": {\n",
        "        \"0\":\"(standing,full_body,looking to viwers)\",\n",
        "        \"10\":\"(upper_body),smile\",\n",
        "        \"25\":\"(sitting,full_body,sad),rain, town\",\n",
        "        \"40\":\"(upper_body, blush, from_above,smile)\",\n",
        "        \"50\":\"(upper_body, smile, from_above)\",\n",
        "        \"60\":\"(upper_body, crying, from_side)\",\n",
        "        \"70\":\"(upper_body, smile, from_below)\",\n",
        "        \"80\":\"(upper_body, angry, from_behind, looking at viewer)\",\n",
        "        \"90\":\"face,looking at viewer, closed_eyes, closed_mouth\"\n",
        "    },\n",
        "    \"tail_prompt\":\"cinematic lighting, best quality, masterpiece, intricate details, tonemapping, sharp focus, hyper detailed, trending on Artstation,32k,uhd,<lora:maki_zenin:0.8>\",\n",
        "    \"n_prompt\": [\n",
        "        \"out of frame,3d,jpeg artifacts,woman,feminine, (signature), watermark, username, artist name, (worst quality, low quality), bad anatomy, worst quality, normal quality, low quality, low res, blurry, text, watermark, logo, banner, extra digits, cropped, jpeg artifacts, signature,umbrella \"\n",
        "    ],\n",
        "    \"lora_map\": {\n",
        "      \"models/loras/maki_zenin.safetensors\":0.8\n",
        "    },\n",
        "    \"motion_lora_map\": {\n",
        "  },\n",
        "    \"stylize_config\": {},\n",
        "    \"output\": {\n",
        "        \"format\": \"mp4\",\n",
        "        \"fps\": 10,\n",
        "        \"encode_param\": {\n",
        "            \"crf\": 20\n",
        "        }\n",
        "    },\n",
        "    \"result\": {}\n",
        "}\n",
        "\"\"\"\n",
        "config_file_path = f\"config/prompts/test001.json\"\n",
        "with open(config_file_path, \"w\") as file:\n",
        "    file.write(config_sample_txt)"
      ]
    },
    {
      "cell_type": "markdown",
      "metadata": {
        "id": "ZrmeXB_7fR6M"
      },
      "source": [
        "## Vid2Vid Prompts."
      ]
    },
    {
      "cell_type": "code",
      "execution_count": null,
      "metadata": {
        "id": "qpadWBMIszPJ"
      },
      "outputs": [],
      "source": [
        "# @title\n",
        "# test sample config file ### to make updates to the config file (open it and modify. See the youtube video for details!)\n",
        "# template in: animatediff-cli-prompt-travel/config/prompts/prompt_travel.json\n",
        "config_sample_txt = \"\"\"\n",
        "{\n",
        "    \"name\": \"sample\",\n",
        "    \"path\": \"models/sd/DreamShaper_8_pruned.safetensors\",\n",
        "    \"vae_path\": \"/content/animatediff-cli-prompt-travel/data/models/vae/vae-ft-mse-840000-ema-pruned.safetensors\",\n",
        "    \"motion_module\": \"models/motion-module/mm-Stabilized_high.pth\",\n",
        "    \"context_schedule\": \"uniform\",\n",
        "    \"gradual_latent_hires_fix_map\": {\n",
        "        \"enable\": true,\n",
        "        \"scale\": {\n",
        "            \"0\": 0.5,\n",
        "            \"0.7\": 1.0\n",
        "        },\n",
        "        \"reverse_steps\": 5,\n",
        "        \"noise_add_count\": 3\n",
        "    },\n",
        "    \"lcm_map\": {\n",
        "        \"enable\": false,\n",
        "        \"start_scale\": 0.15,\n",
        "        \"end_scale\": 0.75,\n",
        "        \"gradient_start\": 0.2,\n",
        "        \"gradient_end\": 0.75\n",
        "    },\n",
        "    \"compile\": false,\n",
        "    \"seed\": [\n",
        "       4269934161905612013\n",
        "    ],\n",
        "    \"scheduler\": \"euler_a\",\n",
        "    \"steps\": 20,\n",
        "    \"guidance_scale\": 8,\n",
        "    \"clip_skip\": 2,\n",
        "    \"prompt_map\": {\n",
        "        \"0\": \"(masterpiece, best quality,intricate details,highly detailed,colorful,beautiful colors),((flowers plant,leafs, broad-leaved plants, shrubs and vines)),dark background,Sunlight,aesthetic colors,32k,uhd,qhd\"\n",
        "        },\n",
        "    \"n_prompt\": [\n",
        "        \" ((blurry)),3D, weird colors, ((((ugly)))), (((duplicate))), ((morbid)), ((mutilated)), [out of frame], extra fingers, mutated hands, ((poorly drawn hands)), ((poorly drawn face)), (((mutation))), (((deformed))), ((ugly)), blurry, ((bad anatomy)), (((bad proportions))), ((extra limbs)), cloned face, (((disfigured))), out of frame,dark face,poor facial details,dark face,disfigured, disproportionate, bad anatomy, bad proportions,imperfect eyes, unnatural, conjoined,(yellow colors)\"\n",
        "    ],\n",
        "    \"is_single_prompt_mode\": false,\n",
        "    \"lora_map\": {},\n",
        "    \"motion_lora_map\": {},\n",
        "    \"ip_adapter_map\": {\n",
        "        \"enable\": false,\n",
        "        \"input_image_dir\": \"/content/animatediff-cli-prompt-travel/GoogleDrive/MyDrive/AI/ip_ad\",\n",
        "        \"prompt_fixed_ratio\": 0.5,\n",
        "        \"save_input_image\": true,\n",
        "        \"resized_to_square\": false,\n",
        "        \"scale\": 0.48,\n",
        "        \"is_full_face\": false,\n",
        "        \"is_plus_face\": false,\n",
        "        \"is_plus\": true,\n",
        "        \"is_light\": false\n",
        "    },\n",
        "    \"img2img_map\": {\n",
        "        \"enable\": false,\n",
        "        \"init_img_dir\": \"../stylize/2023-12-31T03-11-24-sample-toonyou_beta6/00_img2img\",\n",
        "        \"save_init_image\": true,\n",
        "        \"denoising_strength\": 0.85\n",
        "    },\n",
        "    \"region_map\": {},\n",
        "    \"controlnet_map\": {\n",
        "        \"input_image_dir\": \"/content/animatediff-cli-prompt-travel/data/controlnet_image/test\",\n",
        "        \"max_samples_on_vram\": 300,\n",
        "        \"max_models_on_vram\": 3,\n",
        "        \"save_detectmap\": true,\n",
        "        \"preprocess_on_gpu\": true,\n",
        "        \"is_loop\": false,\n",
        "        \"controlnet_tile\": {\n",
        "            \"enable\": true,\n",
        "            \"use_preprocessor\": true,\n",
        "            \"preprocessor\": {\n",
        "                \"type\": \"none\",\n",
        "                \"param\": {}\n",
        "            },\n",
        "            \"guess_mode\": false,\n",
        "            \"controlnet_conditioning_scale\": 1.0,\n",
        "            \"control_guidance_start\": 0.0,\n",
        "            \"control_guidance_end\": 1.0,\n",
        "            \"control_scale_list\": [],\n",
        "            \"control_region_list\": []\n",
        "        },\n",
        "        \"controlnet_ip2p\": {\n",
        "            \"enable\": true,\n",
        "            \"use_preprocessor\": true,\n",
        "            \"guess_mode\": false,\n",
        "            \"controlnet_conditioning_scale\": 0.75,\n",
        "            \"control_guidance_start\": 0.0,\n",
        "            \"control_guidance_end\": 1.0,\n",
        "            \"control_scale_list\": [],\n",
        "            \"control_region_list\": []\n",
        "        },\n",
        "        \"controlnet_lineart_anime\": {\n",
        "            \"enable\": true,\n",
        "            \"use_preprocessor\": true,\n",
        "            \"guess_mode\": false,\n",
        "            \"controlnet_conditioning_scale\": 1.0,\n",
        "            \"control_guidance_start\": 0.0,\n",
        "            \"control_guidance_end\": 1.0,\n",
        "            \"control_scale_list\": [],\n",
        "            \"control_region_list\": []\n",
        "        },\n",
        "        \"controlnet_openpose\": {\n",
        "            \"enable\": false,\n",
        "            \"use_preprocessor\": true,\n",
        "            \"preprocessor\": {\n",
        "                \"type\": \"dwpose\",\n",
        "                \"param\": {}\n",
        "            },\n",
        "            \"guess_mode\": false,\n",
        "            \"controlnet_conditioning_scale\": 1.0,\n",
        "            \"control_guidance_start\": 0.0,\n",
        "            \"control_guidance_end\": 1.0,\n",
        "            \"control_scale_list\": [],\n",
        "            \"control_region_list\": []\n",
        "        },\n",
        "        \"controlnet_softedge\": {\n",
        "            \"enable\": false,\n",
        "            \"use_preprocessor\": true,\n",
        "            \"preprocessor\": {\n",
        "                \"type\": \"softedge_pidsafe\",\n",
        "                \"param\": {}\n",
        "            },\n",
        "            \"guess_mode\": false,\n",
        "            \"controlnet_conditioning_scale\": 0.65,\n",
        "            \"control_guidance_start\": 0.0,\n",
        "            \"control_guidance_end\": 1.0,\n",
        "            \"control_scale_list\": [],\n",
        "            \"control_region_list\": []\n",
        "        },\n",
        "        \"controlnet_shuffle\": {\n",
        "            \"enable\": true,\n",
        "            \"use_preprocessor\": true,\n",
        "            \"guess_mode\": false,\n",
        "            \"controlnet_conditioning_scale\": 1.0,\n",
        "            \"control_guidance_start\": 0.0,\n",
        "            \"control_guidance_end\": 1.0,\n",
        "            \"control_scale_list\": [],\n",
        "            \"control_region_list\": []\n",
        "        },\n",
        "        \"controlnet_depth\": {\n",
        "            \"enable\": true,\n",
        "            \"use_preprocessor\": true,\n",
        "            \"guess_mode\": false,\n",
        "            \"controlnet_conditioning_scale\": 1.0,\n",
        "            \"control_guidance_start\": 0.0,\n",
        "            \"control_guidance_end\": 1.0,\n",
        "            \"control_scale_list\": [],\n",
        "            \"control_region_list\": []\n",
        "        },\n",
        "        \"controlnet_canny\": {\n",
        "            \"enable\": true,\n",
        "            \"use_preprocessor\": true,\n",
        "            \"guess_mode\": false,\n",
        "            \"controlnet_conditioning_scale\": 1.0,\n",
        "            \"control_guidance_start\": 0.0,\n",
        "            \"control_guidance_end\": 1.0,\n",
        "            \"control_scale_list\": [],\n",
        "            \"control_region_list\": []\n",
        "        },\n",
        "        \"controlnet_inpaint\": {\n",
        "            \"enable\": true,\n",
        "            \"use_preprocessor\": true,\n",
        "            \"guess_mode\": false,\n",
        "            \"controlnet_conditioning_scale\": 1.0,\n",
        "            \"control_guidance_start\": 0.0,\n",
        "            \"control_guidance_end\": 1.0,\n",
        "            \"control_scale_list\": [],\n",
        "            \"control_region_list\": []\n",
        "        },\n",
        "        \"controlnet_lineart\": {\n",
        "            \"enable\": true,\n",
        "            \"use_preprocessor\": true,\n",
        "            \"guess_mode\": false,\n",
        "            \"controlnet_conditioning_scale\": 1.0,\n",
        "            \"control_guidance_start\": 0.0,\n",
        "            \"control_guidance_end\": 1.0,\n",
        "            \"control_scale_list\": [],\n",
        "            \"control_region_list\": []\n",
        "        },\n",
        "        \"controlnet_mlsd\": {\n",
        "            \"enable\": true,\n",
        "            \"use_preprocessor\": true,\n",
        "            \"guess_mode\": false,\n",
        "            \"controlnet_conditioning_scale\": 1.0,\n",
        "            \"control_guidance_start\": 0.0,\n",
        "            \"control_guidance_end\": 1.0,\n",
        "            \"control_scale_list\": [],\n",
        "            \"control_region_list\": []\n",
        "        },\n",
        "        \"controlnet_normalbae\": {\n",
        "            \"enable\": true,\n",
        "            \"use_preprocessor\": true,\n",
        "            \"guess_mode\": false,\n",
        "            \"controlnet_conditioning_scale\": 1.0,\n",
        "            \"control_guidance_start\": 0.0,\n",
        "            \"control_guidance_end\": 1.0,\n",
        "            \"control_scale_list\": [],\n",
        "            \"control_region_list\": []\n",
        "        },\n",
        "        \"controlnet_scribble\": {\n",
        "            \"enable\": true,\n",
        "            \"use_preprocessor\": true,\n",
        "            \"guess_mode\": false,\n",
        "            \"controlnet_conditioning_scale\": 1.0,\n",
        "            \"control_guidance_start\": 0.0,\n",
        "            \"control_guidance_end\": 1.0,\n",
        "            \"control_scale_list\": [],\n",
        "            \"control_region_list\": []\n",
        "        },\n",
        "        \"controlnet_seg\": {\n",
        "            \"enable\": true,\n",
        "            \"use_preprocessor\": true,\n",
        "            \"guess_mode\": false,\n",
        "            \"controlnet_conditioning_scale\": 1.0,\n",
        "            \"control_guidance_start\": 0.0,\n",
        "            \"control_guidance_end\": 1.0,\n",
        "            \"control_scale_list\": [],\n",
        "            \"control_region_list\": []\n",
        "        },\n",
        "        \"qr_code_monster_v1\": {\n",
        "            \"enable\": true,\n",
        "            \"use_preprocessor\": true,\n",
        "            \"guess_mode\": false,\n",
        "            \"controlnet_conditioning_scale\": 1.0,\n",
        "            \"control_guidance_start\": 0.0,\n",
        "            \"control_guidance_end\": 1.0,\n",
        "            \"control_scale_list\": [],\n",
        "            \"control_region_list\": []\n",
        "        },\n",
        "        \"qr_code_monster_v2\": {\n",
        "            \"enable\": true,\n",
        "            \"use_preprocessor\": true,\n",
        "            \"guess_mode\": false,\n",
        "            \"controlnet_conditioning_scale\": 1.0,\n",
        "            \"control_guidance_start\": 0.0,\n",
        "            \"control_guidance_end\": 1.0,\n",
        "            \"control_scale_list\": [],\n",
        "            \"control_region_list\": []\n",
        "        },\n",
        "        \"controlnet_mediapipe_face\": {\n",
        "            \"enable\": true,\n",
        "            \"use_preprocessor\": true,\n",
        "            \"guess_mode\": false,\n",
        "            \"controlnet_conditioning_scale\": 1.0,\n",
        "            \"control_guidance_start\": 0.0,\n",
        "            \"control_guidance_end\": 1.0,\n",
        "            \"control_scale_list\": [],\n",
        "            \"control_region_list\": []\n",
        "        },\n",
        "        \"animatediff_controlnet\": {\n",
        "            \"enable\": true,\n",
        "            \"use_preprocessor\": true,\n",
        "            \"guess_mode\": false,\n",
        "            \"controlnet_conditioning_scale\": 1.0,\n",
        "            \"control_guidance_start\": 0.0,\n",
        "            \"control_guidance_end\": 1.0,\n",
        "            \"control_scale_list\": [],\n",
        "            \"control_region_list\": []\n",
        "        },\n",
        "        \"controlnet_ref\": {\n",
        "            \"enable\": false,\n",
        "            \"ref_image\": \"ref_image/ref_sample.png\",\n",
        "            \"attention_auto_machine_weight\": 0.3,\n",
        "            \"gn_auto_machine_weight\": 0.3,\n",
        "            \"style_fidelity\": 0.5,\n",
        "            \"reference_attn\": true,\n",
        "            \"reference_adain\": false,\n",
        "            \"scale_pattern\": [\n",
        "                1.0\n",
        "            ]\n",
        "        }\n",
        "    },\n",
        "    \"upscale_config\": {\n",
        "        \"scheduler\": \"k_dpmpp_sde\",\n",
        "        \"steps\": 20,\n",
        "        \"strength\": 0.5,\n",
        "        \"guidance_scale\": 10,\n",
        "        \"controlnet_tile\": {\n",
        "            \"enable\": false,\n",
        "            \"controlnet_conditioning_scale\": 1.0,\n",
        "            \"guess_mode\": false,\n",
        "            \"control_guidance_start\": 0.0,\n",
        "            \"control_guidance_end\": 1.0\n",
        "        },\n",
        "        \"controlnet_line_anime\": {\n",
        "            \"enable\": false,\n",
        "            \"controlnet_conditioning_scale\": 1.0,\n",
        "            \"guess_mode\": false,\n",
        "            \"control_guidance_start\": 0.0,\n",
        "            \"control_guidance_end\": 1.0\n",
        "        },\n",
        "        \"controlnet_ip2p\": {\n",
        "            \"enable\": false,\n",
        "            \"controlnet_conditioning_scale\": 0.5,\n",
        "            \"guess_mode\": false,\n",
        "            \"control_guidance_start\": 0.0,\n",
        "            \"control_guidance_end\": 1.0\n",
        "        },\n",
        "        \"controlnet_ref\": {\n",
        "            \"enable\": false,\n",
        "            \"use_frame_as_ref_image\": false,\n",
        "            \"use_1st_frame_as_ref_image\": false,\n",
        "            \"ref_image\": \"ref_image/path_to_your_ref_img.jpg\",\n",
        "            \"attention_auto_machine_weight\": 1.0,\n",
        "            \"gn_auto_machine_weight\": 1.0,\n",
        "            \"style_fidelity\": 0.25,\n",
        "            \"reference_attn\": true,\n",
        "            \"reference_adain\": false\n",
        "        }\n",
        "    },\n",
        "    \"stylize_config\": {\n",
        "        \"original_video\": {\n",
        "            \"path\": \"/content/animatediff-cli-prompt-travel/sher_khul.mp4\",\n",
        "            \"aspect_ratio\": -1.0,\n",
        "            \"offset\": 0\n",
        "        },\n",
        "        \"create_mask\": [\n",
        "            \"person\",\"girls\"\n",
        "        ],\n",
        "        \"composite\": {\n",
        "            \"fg_list\": [\n",
        "                {\n",
        "                    \"path\": \" absolute path to frame dir \",\n",
        "                    \"mask_path\": \" absolute path to mask dir (this is optional) \",\n",
        "                    \"mask_prompt\": \"person\"\n",
        "                },\n",
        "                {\n",
        "                    \"path\": \" absolute path to frame dir \",\n",
        "                    \"mask_path\": \" absolute path to mask dir (this is optional) \",\n",
        "                    \"mask_prompt\": \"cat\"\n",
        "                }\n",
        "            ],\n",
        "            \"bg_frame_dir\": \"Absolute path to the BG frame directory\",\n",
        "            \"hint\": \"\"\n",
        "        },\n",
        "        \"0\": {\n",
        "            \"width\": 512,\n",
        "            \"height\": 904,\n",
        "            \"length\": 250,\n",
        "            \"context\": 16,\n",
        "            \"overlap\": 4,\n",
        "            \"stride\": 4\n",
        "        },\n",
        "        \"1\": {\n",
        "            \"steps\": 20,\n",
        "            \"guidance_scale\": 10.0,\n",
        "            \"width\": 768,\n",
        "            \"height\": 1352,\n",
        "            \"length\": 250,\n",
        "            \"context\": 8,\n",
        "            \"overlap\": 2,\n",
        "            \"stride\": 0,\n",
        "            \"controlnet_tile\": {\n",
        "                \"enable\": true,\n",
        "                \"use_preprocessor\": true,\n",
        "                \"guess_mode\": false,\n",
        "                \"controlnet_conditioning_scale\": 1.0,\n",
        "                \"control_guidance_start\": 0.0,\n",
        "                \"control_guidance_end\": 1.0,\n",
        "                \"control_scale_list\": []\n",
        "            },\n",
        "            \"controlnet_ip2p\": {\n",
        "                \"enable\": false,\n",
        "                \"use_preprocessor\": true,\n",
        "                \"guess_mode\": false,\n",
        "                \"controlnet_conditioning_scale\": 0.5,\n",
        "                \"control_guidance_start\": 0.0,\n",
        "                \"control_guidance_end\": 1.0,\n",
        "                \"control_scale_list\": []\n",
        "            },\n",
        "            \"ip_adapter\": false,\n",
        "            \"reference\": false,\n",
        "            \"img2img\": false,\n",
        "            \"interpolation_multiplier\": 1\n",
        "        }\n",
        "    },\n",
        "    \"output\": {\n",
        "        \"format\": \"mp4\",\n",
        "        \"fps\": 15,\n",
        "        \"encode_param\": {\n",
        "            \"crf\": 20\n",
        "        }\n",
        "    },\n",
        "    \"result\": {}\n",
        "}\n",
        "\"\"\"\n",
        "config_file_path = f\"config/prompts/test001.json\"\n",
        "with open(config_file_path, \"w\") as file:\n",
        "    file.write(config_sample_txt)"
      ]
    },
    {
      "cell_type": "markdown",
      "metadata": {
        "id": "lwd8ec1C-gvi"
      },
      "source": [
        "# Generate ⚙"
      ]
    },
    {
      "cell_type": "code",
      "execution_count": null,
      "metadata": {
        "id": "ff1JmYdNFiO8"
      },
      "outputs": [],
      "source": [
        "#check help for better understanding.........\n",
        "!animatediff generate -h"
      ]
    },
    {
      "cell_type": "code",
      "execution_count": null,
      "metadata": {
        "id": "nxsrSruoJm0b"
      },
      "outputs": [],
      "source": [
        "#  -W is width -H height. -L length / fps = Duration.  can use -W 512 -H 768\n",
        "!animatediff generate -c config/prompts/test001.json -W 512 -H 912  -L 120 -C 16 -O 4 -S 4"
      ]
    },
    {
      "cell_type": "code",
      "source": [
        "!pwd"
      ],
      "metadata": {
        "id": "dtT7kmuWtzHP"
      },
      "execution_count": null,
      "outputs": []
    },
    {
      "cell_type": "code",
      "execution_count": null,
      "metadata": {
        "id": "05WAyTgGuNjC"
      },
      "outputs": [],
      "source": [
        "!animatediff -h"
      ]
    },
    {
      "cell_type": "code",
      "execution_count": null,
      "metadata": {
        "id": "6mM0bWQtub8x"
      },
      "outputs": [],
      "source": [
        "!animatediff  refine  -h"
      ]
    },
    {
      "cell_type": "code",
      "execution_count": null,
      "metadata": {
        "id": "e59v4qBrwAG4"
      },
      "outputs": [],
      "source": [
        "!animatediff refine --config-path /content/animatediff-cli-prompt-travel/output/2024-01-04T04-02-44-simple-toonyou-jp/prompt.json -t 0.8 -W 1024 -H 1824 -C 8 -O 4 -S 4 /content/animatediff-cli-prompt-travel/output/2024-01-04T04-02-44-simple-toonyou-jp/00-4841095091158654258"
      ]
    },
    {
      "cell_type": "markdown",
      "metadata": {
        "id": "CD7EDoZe-Y3D"
      },
      "source": [
        "# Stylize Videos ✨"
      ]
    },
    {
      "cell_type": "markdown",
      "metadata": {
        "id": "POlZ3OMkcFCw"
      },
      "source": [
        "## AnimateDiff Stylize Helps ."
      ]
    },
    {
      "cell_type": "code",
      "execution_count": null,
      "metadata": {
        "id": "Yiiqf0b_lYJF"
      },
      "outputs": [],
      "source": [
        "!animatediff stylize  create-config -h"
      ]
    },
    {
      "cell_type": "markdown",
      "metadata": {
        "id": "9Om0fI8rckbJ"
      },
      "source": [
        "## Create Stylize Config."
      ]
    },
    {
      "cell_type": "code",
      "execution_count": null,
      "metadata": {
        "id": "hdegVC_l-ZmD"
      },
      "outputs": [],
      "source": [
        "!animatediff stylize  create-config  /content/animatediff-cli-prompt-travel/GoogleDrive/MyDrive/AI/kamal_ni.mp4 --fps 10"
      ]
    },
    {
      "cell_type": "markdown",
      "metadata": {
        "id": "DFl9hlqVpVvH"
      },
      "source": [
        "## **Generate Stylize Video**. ⚙"
      ]
    },
    {
      "cell_type": "code",
      "execution_count": null,
      "metadata": {
        "id": "-0xnBr5RGEsO"
      },
      "outputs": [],
      "source": [
        "!animatediff stylize generate /content/animatediff-cli-prompt-travel/stylize/2023-12-29T12-42-14-sample-toonyou_beta6"
      ]
    },
    {
      "cell_type": "code",
      "execution_count": null,
      "metadata": {
        "id": "mj9gzfv6LX_D"
      },
      "outputs": [],
      "source": []
    },
    {
      "cell_type": "markdown",
      "metadata": {
        "id": "WUCk5Bsj_d--"
      },
      "source": [
        "# Interpolate (Increase FPS) of a Video or Frames."
      ]
    },
    {
      "cell_type": "code",
      "execution_count": null,
      "metadata": {
        "id": "VApL-KqO-sGU"
      },
      "outputs": [],
      "source": [
        "!wget --no-check-certificate 'https://drive.google.com/uc?id=1mj9lH6Be7ztYtHAr1xUUGT3hRtWJBy_5' -O '/content/animatediff-cli-prompt-travel/data/rife/RIFE_trained_model_v4.13.2.zip'"
      ]
    },
    {
      "cell_type": "code",
      "source": [
        "!wget --no-check-certificate \"https://github.com/nihui/rife-ncnn-vulkan/releases/download/20221029/rife-ncnn-vulkan-20221029-ubuntu.zip\" -P \"/content/animatediff-cli-prompt-travel/data/rife/\""
      ],
      "metadata": {
        "id": "X2ChFPCox8qn"
      },
      "execution_count": null,
      "outputs": []
    },
    {
      "cell_type": "code",
      "source": [
        "%cd /content"
      ],
      "metadata": {
        "id": "-Xaatd1HyVvy"
      },
      "execution_count": null,
      "outputs": []
    },
    {
      "cell_type": "code",
      "source": [
        "%cd /content/animatediff-cli-prompt-travel"
      ],
      "metadata": {
        "id": "gAbdcoixwkwc"
      },
      "execution_count": null,
      "outputs": []
    },
    {
      "cell_type": "code",
      "source": [
        "%ls"
      ],
      "metadata": {
        "id": "i2F9v-zqymwR"
      },
      "execution_count": null,
      "outputs": []
    },
    {
      "cell_type": "code",
      "source": [
        "!unzip  rife-ncnn-vulkan-20221029-ubuntu.zip"
      ],
      "metadata": {
        "id": "NRL4ewdEyjkn"
      },
      "execution_count": null,
      "outputs": []
    },
    {
      "cell_type": "code",
      "execution_count": null,
      "metadata": {
        "id": "skgxsNd5-4RB"
      },
      "outputs": [],
      "source": [
        "!7z e RIFE_trained_model_v4.13.2.zip -o/content/animatediff-cli-prompt-travel/data/rife/rife_4.13"
      ]
    },
    {
      "cell_type": "code",
      "source": [
        "!pip install -e '.[rife]'"
      ],
      "metadata": {
        "id": "lsOPLK5Aqwet"
      },
      "execution_count": null,
      "outputs": []
    },
    {
      "cell_type": "code",
      "execution_count": null,
      "metadata": {
        "id": "uVRFk9Oy_xtB"
      },
      "outputs": [],
      "source": [
        "!animatediff rife interpolate -h"
      ]
    },
    {
      "cell_type": "code",
      "execution_count": null,
      "metadata": {
        "id": "NQOr46fGXvPQ"
      },
      "outputs": [],
      "source": [
        "!animatediff rife interpolate \"/content/animatediff-cli-prompt-travel/output/2024-01-19T12-03-56-simple-divineelegancemix_v6/00-8725404117208020067\"  --rife-model \"rife-ncnn-vulkan/rife-v4.6\" --frame-multiplier 2 --codec \"h264\""
      ]
    },
    {
      "cell_type": "code",
      "execution_count": null,
      "metadata": {
        "id": "OftZm9XX5vMy"
      },
      "outputs": [],
      "source": [
        "!animatediff refine \"/content/animatediff-cli-prompt-travel/output/2023-12-23T12-47-37-deep_bhai_ii-xxmix9realistic_v40/00-1888206262821907582\" -t 0"
      ]
    },
    {
      "cell_type": "code",
      "execution_count": null,
      "metadata": {
        "id": "eeZkcXASIyNK"
      },
      "outputs": [],
      "source": [
        "!ffmpeg -framerate 8 -pattern_type glob -i '/content/animatediff-cli-prompt-travel/output/2023-12-23T12-47-37-deep_bhai_ii-xxmix9realistic_v40/00-1888206262821907582/*.png' -c:v libx264 -pix_fmt yuv420p /content/out8.mp4"
      ]
    },
    {
      "cell_type": "code",
      "execution_count": null,
      "metadata": {
        "id": "GkCNvTTnFNul"
      },
      "outputs": [],
      "source": []
    },
    {
      "cell_type": "code",
      "execution_count": null,
      "metadata": {
        "id": "-DTDY1JltjJI"
      },
      "outputs": [],
      "source": [
        "# delete the images from the folder so it can run\n",
        "os.remove(\"data/controlnet_image/test/controlnet_softedge/0000.png\")\n",
        "os.remove(\"data/controlnet_image/test/controlnet_softedge/0016.png\")\n",
        "os.remove(\"data/controlnet_image/test/controlnet_softedge/0032.png\")\n",
        "os.remove(\"data/controlnet_image/test/controlnet_openpose/0000.png\")\n",
        "os.remove(\"data/controlnet_image/test/controlnet_openpose/0016.png\")\n",
        "os.remove(\"data/controlnet_image/test/controlnet_openpose/0032.png\")"
      ]
    },
    {
      "cell_type": "code",
      "execution_count": null,
      "metadata": {
        "id": "WwTO7zsguBVp"
      },
      "outputs": [],
      "source": [
        "# take about 4-5 minutes. -W is width -H height. -L length.  can use -W 512 -H 768\n",
        "!animatediff generate -c config/prompts/test001.json -W 256 -H 384 -L 128 -C 16"
      ]
    },
    {
      "cell_type": "code",
      "execution_count": null,
      "metadata": {
        "id": "8SzoIvKeJm5a"
      },
      "outputs": [],
      "source": [
        "# Copy generated contents to Google drive\n",
        "drive.mount(\"GoogleDrive\")\n",
        "gd_path = \"GoogleDrive/MyDrive/AnimateDiffPromptTravel\"\n",
        "gd_output_dir = gd_path + \"/output\"\n",
        "os.makedirs(gd_output_dir, exist_ok=True)\n",
        "output_dir = \"output\"\n",
        "gc.collect()\n",
        "\n",
        "def get_new_dir(parent_dir):\n",
        "  sub_dirs = []\n",
        "  for path in os.listdir(parent_dir):\n",
        "    dir_path = os.path.join(parent_dir, path)\n",
        "    if os.path.isdir(dir_path):\n",
        "      sub_dirs.append(dir_path)\n",
        "  return max(sub_dirs, key = os.path.getmtime)\n",
        "\n",
        "result_dir = get_new_dir(output_dir)\n",
        "dest_dir = os.path.join(gd_output_dir, os.path.basename(result_dir))\n",
        "shutil.copytree(result_dir, dest_dir, dirs_exist_ok = True)\n",
        "print(f\"🎉 The output files have been copied into {dest_dir}. (in your connected Google Drive) See you there! 🎉\")"
      ]
    },
    {
      "cell_type": "code",
      "execution_count": null,
      "metadata": {
        "id": "bsyEkRQiJm7_"
      },
      "outputs": [],
      "source": [
        "## The END"
      ]
    },
    {
      "cell_type": "markdown",
      "metadata": {
        "id": "xrvt6zK1oTRi"
      },
      "source": [
        "Good Luck. If you want to run it locally (needs a Nvidia or AMD GPU), I also video tutorial for them. Subscribe to it today! [Click to subscribe](https://www.youtube.com/@tech-practice9805?sub_confirmation=1)"
      ]
    },
    {
      "cell_type": "code",
      "execution_count": null,
      "metadata": {
        "id": "EvDSGO9wJnA-"
      },
      "outputs": [],
      "source": []
    },
    {
      "cell_type": "code",
      "execution_count": null,
      "metadata": {
        "id": "8bJnV10GE92G"
      },
      "outputs": [],
      "source": [
        "\n",
        "!git clone https://github.com/nihui/rife-ncnn-vulkan.git\n",
        "!cd rife-ncnn-vulkan\n",
        "!git submodule update --init --recursive"
      ]
    },
    {
      "cell_type": "markdown",
      "metadata": {
        "id": "dPWhnBWz1NaO"
      },
      "source": [
        "# Video Utils 🎞."
      ]
    },
    {
      "cell_type": "code",
      "execution_count": null,
      "metadata": {
        "id": "1cE-hQt_24dV"
      },
      "outputs": [],
      "source": [
        "!gdown --id 11MiEL9x7ynqbcVcxTuwgefBbNmIG9RiT"
      ]
    },
    {
      "cell_type": "code",
      "source": [
        "!wget --no-check-certificate \"https://docs.google.com/uc?export=download&confirm=t&id=1duEqfB_iHo6uL6_zIH181Yk9kQfpTo7G\" -O /content/pyro.mp4"
      ],
      "metadata": {
        "id": "nMgzfI_fkaSW"
      },
      "execution_count": null,
      "outputs": []
    },
    {
      "cell_type": "code",
      "execution_count": null,
      "metadata": {
        "id": "v3y2PK1GiTRI"
      },
      "outputs": [],
      "source": [
        "!rm -r /content/animatediff-cli-prompt-travel/data/controlnet_image/test/controlnet_openpose"
      ]
    },
    {
      "cell_type": "code",
      "execution_count": null,
      "metadata": {
        "id": "seAY_wZ3204-"
      },
      "outputs": [],
      "source": [
        "!ffmpeg -i \"/content/pyro.mp4\" -vf fps=15  \"/content/animatediff-cli-prompt-travel/data/controlnet_image/test/controlnet_ip2p/%05d.png\"\n"
      ]
    },
    {
      "cell_type": "code",
      "execution_count": null,
      "metadata": {
        "id": "vn0pSDxfiq2a"
      },
      "outputs": [],
      "source": [
        "# copy_files(\"/content/animatediff-cli-prompt-travel/data/controlnet_image/test/controlnet_openpose\",\"/content/animatediff-cli-prompt-travel/data/controlnet_image/test/controlnet_ip2p\")\n",
        "copy_files(\"/content/animatediff-cli-prompt-travel/data/controlnet_image/test/controlnet_ip2p\",\"/content/animatediff-cli-prompt-travel/data/controlnet_image/test/controlnet_seg\")\n"
      ]
    },
    {
      "cell_type": "code",
      "execution_count": null,
      "metadata": {
        "id": "a5t3NsPs2-P9"
      },
      "outputs": [],
      "source": [
        "!ffmpeg -framerate {fps} -pattern_type glob -i {frames_path+\"/\"}*.png -c:v libx264 -pix_fmt yuv420p /content/out8.mp4"
      ]
    },
    {
      "cell_type": "code",
      "execution_count": null,
      "metadata": {
        "id": "-BOkNqrlDAD4"
      },
      "outputs": [],
      "source": [
        "import os, shutil, subprocess\n",
        "temp_folder = 'tmp_frames'\n",
        "!git clone https://github.com/xinntao/Real-ESRGAN.git\n",
        "%cd Real-ESRGAN\n",
        "# Set up the environment\n",
        "!pip install basicsr facexlib gfpgan\n",
        "!pip install -r requirements.txt\n",
        "!python setup.py develop"
      ]
    },
    {
      "cell_type": "code",
      "execution_count": null,
      "metadata": {
        "id": "gEbTBanqEEte"
      },
      "outputs": [],
      "source": [
        "p = %pwd\n",
        "print(p)"
      ]
    },
    {
      "cell_type": "code",
      "execution_count": null,
      "metadata": {
        "id": "PqPI9SiSDMHQ"
      },
      "outputs": [],
      "source": [
        "if os.path.isdir(temp_folder):\n",
        "  shutil.rmtree(temp_folder)\n",
        "\n",
        "input_path = \"/content/animatediff-cli-prompt-travel/output/2024-01-17T07-14-52-sample-toonyou_beta6/00_5003479234327454552_masterpiece_best-quality_intricate-details_highly-.mp4\" # @param {type: \"string\"}\n",
        "os.mkdir(temp_folder)\n",
        "pwd = %pwd\n",
        "print(f'Extracting Frames to: {temp_folder}')\n",
        "cmd = [\n",
        "       'ffmpeg',\n",
        "       '-i',\n",
        "       input_path,\n",
        "       '-qscale:v',\n",
        "       '1',\n",
        "       '-qmin',\n",
        "       '1',\n",
        "       '-qmax',\n",
        "       '1',\n",
        "       '-vsync',\n",
        "       '0',\n",
        "       f'{temp_folder}/frame_%08d.png'\n",
        "]\n",
        "process = subprocess.Popen(cmd, stdout=subprocess.PIPE, stderr=subprocess.PIPE)\n",
        "stdout, stderr = process.communicate()\n",
        "if process.returncode != 0:\n",
        "    print(stderr)\n",
        "    raise RuntimeError(stderr)\n",
        "else:\n",
        "    frame_count = len(os.listdir(f'{pwd}/{temp_folder}'))\n",
        "    print(f\"Done, Extracted {frame_count} Frames\")"
      ]
    },
    {
      "cell_type": "code",
      "execution_count": null,
      "metadata": {
        "id": "7zfY-F36ESD-"
      },
      "outputs": [],
      "source": [
        "frames_path =\"/content/animatediff-cli-prompt-travel/output/2024-01-19T12-03-56-simple-divineelegancemix_v6/00-8725404117208020067\"\n",
        "frame_count = len(os.listdir(frames_path))\n",
        "print(f\"Enhancing {frame_count} Frames with ESRGAN...\")\n",
        "cmd = [\n",
        "       'python',\n",
        "       'inference_realesrgan.py',\n",
        "       '-n',\n",
        "       'RealESRGAN_x4plus_anime_6B.pth',\n",
        "       '-i',\n",
        "       f'{frames_path}',\n",
        "       '--outscale',\n",
        "       '2.5',\n",
        "]\n",
        "#process = subprocess.Popen(cmd, stdout=subprocess.PIPE, stderr=subprocess.PIPE, text=True)\n",
        "# stdout, stderr = process.communicate()\n",
        "# if process.returncode != 0:\n",
        "#     print(stderr)\n",
        "#     raise RuntimeError(stderr)\n",
        "# else:\n",
        "#     print(\"Done Extracting Frames\")\n",
        "!{' '.join(cmd)}\n",
        "print(\"Done Enhancing Frames\")"
      ]
    },
    {
      "cell_type": "code",
      "execution_count": null,
      "metadata": {
        "id": "s-zlY2zCFONA"
      },
      "outputs": [],
      "source": [
        "#@markdown # **5) Recreate Video From Enhanced Frames!**\n",
        "# frame_count = len(os.listdir(f'/{pwd}/results'))\n",
        "fps = 10 #@param {type: \"number\"}\n",
        "!ffmpeg -framerate {fps} -pattern_type glob -i '/content/animatediff-cli-prompt-travel/Real-ESRGAN/results/*.png'  -c:v libx264 -pix_fmt yuv420p /content/result.mp4"
      ]
    }
  ],
  "metadata": {
    "accelerator": "GPU",
    "colab": {
      "collapsed_sections": [
        "PVvJwnXl-dS0",
        "ZrmeXB_7fR6M"
      ],
      "provenance": [],
      "include_colab_link": true
    },
    "kernelspec": {
      "display_name": "Python 3",
      "name": "python3"
    },
    "language_info": {
      "name": "python"
    }
  },
  "nbformat": 4,
  "nbformat_minor": 0
}