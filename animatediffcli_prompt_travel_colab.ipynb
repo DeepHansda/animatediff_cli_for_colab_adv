{
  "cells": [
    {
      "cell_type": "markdown",
      "metadata": {
        "id": "view-in-github",
        "colab_type": "text"
      },
      "source": [
        "<a href=\"https://colab.research.google.com/github/DeepHansda/animatediff_cli_for_colab_adv/blob/apeiron_anime/animatediffcli_prompt_travel_colab.ipynb\" target=\"_parent\"><img src=\"https://colab.research.google.com/assets/colab-badge.svg\" alt=\"Open In Colab\"/></a>"
      ]
    },
    {
      "cell_type": "markdown",
      "metadata": {
        "id": "vljdVkbUnkID"
      },
      "source": [
        "\n",
        "### 🎉 click the play button to run each cell. Left panel there is a folder that you can browse for files."
      ]
    },
    {
      "cell_type": "code",
      "execution_count": null,
      "metadata": {
        "id": "U2hhTdByIz5f"
      },
      "outputs": [],
      "source": [
        "!apt-get -qq install aria2\n",
        "from google.colab import drive\n",
        "import os, shutil, gc, time"
      ]
    },
    {
      "cell_type": "markdown",
      "metadata": {
        "id": "iWvax0gRo1M1"
      },
      "source": [
        "If you have any questions running it, feel free to check it out at the tutorial and reach out on [GitHub]. If you want to run it locally (needs a Nvidia or AMD GPU)."
      ]
    },
    {
      "cell_type": "markdown",
      "metadata": {
        "id": "G4KoSkrg1D-6"
      },
      "source": [
        "# AnimateDiff CLI SetUp.🛠\n",
        "\n"
      ]
    },
    {
      "cell_type": "markdown",
      "source": [
        "##Set UP. ((It Will take some time ,Meanwhile can enjoy some coffie ☕  or Music 🎶.))"
      ],
      "metadata": {
        "id": "2DzQcdrR3Nau"
      }
    },
    {
      "cell_type": "code",
      "execution_count": null,
      "metadata": {
        "id": "t8eFw7zfJmoc"
      },
      "outputs": [],
      "source": [
        "# manually create a folder on your google drive. Need to connect it to make results persistent. click \"Allow\".\n",
        "# it will ask you for permission.\n",
        "# create a folder called \"AnimateDiffPromptTravel\" in it\n",
        "gd_output_dir=\"\"\n",
        "base_path = \"/content/animatediff-cli-prompt-travel\"\n",
        "pwd = %pwd\n",
        "print(pwd)\n",
        "if pwd != base_path:\n",
        "  !git clone https://github.com/s9roll7/animatediff-cli-prompt-travel\n",
        "  %cd {base_path}\n",
        "\n",
        "  # !pip install torch==2.0.1+cu118 torchvision==0.15.2+cu118 torchaudio==2.0.2 --index-url https://download.pytorch.org/whl/cu118\n",
        "  !pip install .[dev]\n",
        "  !pip install xformers mediapipe\n",
        "  !pip install onnxruntime-gpu pandas\n",
        "\n",
        "\n",
        "\n",
        "#connect drive\n",
        "# manually create a folder on your google drive. Need to connect it to make results persistent. click \"Allow\".\n",
        "def connect_drive():\n",
        "  drive.mount(\"GoogleDrive\")\n",
        "  gd_path = \"GoogleDrive/MyDrive/AnimateDiffPromptTravel\"\n",
        "  gd_output_dir = gd_path + \"/output\"\n",
        "  os.makedirs(gd_output_dir, exist_ok=True)"
      ]
    },
    {
      "cell_type": "markdown",
      "metadata": {
        "id": "iTBDiNb71s6h"
      },
      "source": [
        "##Connect Google Drive ((Optional)).\n"
      ]
    },
    {
      "cell_type": "code",
      "execution_count": null,
      "metadata": {
        "id": "br1IjxE3z-0D"
      },
      "outputs": [],
      "source": [
        "  #connect drive\n",
        "  # manually create a folder on your google drive. Need to connect it to make results persistent. click \"Allow\".\n",
        "  # it will ask you for permission.\n",
        "  # create a folder called \"AnimateDiffPromptTravel\" in it\n",
        "\n",
        "connect_drive()"
      ]
    },
    {
      "cell_type": "code",
      "execution_count": null,
      "metadata": {
        "id": "mFUu2Jh1EkmT"
      },
      "outputs": [],
      "source": [
        "!gdown --id 1tXQOZDHHxeIHvsqnsuwdrFBXjHCh7Gle -O /content/animatediff-cli-prompt-travel/GoogleDrive/MyDrive/AnimateDiffPromptTravel/pahari.mp4"
      ]
    },
    {
      "cell_type": "markdown",
      "metadata": {
        "id": "u-tBLhZm2uXw"
      },
      "source": [
        "#Download AI 🗿 MODELS 🚀"
      ]
    },
    {
      "cell_type": "markdown",
      "source": [
        "##Download AnimateDiff Motion Modules.✨"
      ],
      "metadata": {
        "id": "yWzyfX735p-4"
      }
    },
    {
      "cell_type": "code",
      "execution_count": null,
      "metadata": {
        "id": "g_Z5Mzc_JmvR"
      },
      "outputs": [],
      "source": [
        "# AnimateDiff MotionModule download......................................\n",
        "#Remove the hashtag for desired modules. !------------\n",
        "\n",
        "# !aria2c --console-log-level=error -c -x 16 -s 16 -k 1M https://civitai.com/api/download/models/178017 -d /content/animatediff-cli-prompt-travel/data/models/motion-module -o improved3DMotion_improved3DV1.ckpt\n",
        "# !aria2c --console-log-level=error -c -x 16 -s 16 -k 1M https://huggingface.co/guoyww/animatediff/resolve/main/mm_sd_v15_v2.ckpt?download=true -d /content/animatediff-cli-prompt-travel/data/models/motion-module -o mm_sd_v15_v2.ckpt\n",
        "!aria2c --console-log-level=error -c -x 16 -s 16 -k 1M https://huggingface.co/manshoety/AD_Stabilized_Motion/resolve/main/mm-Stabilized_high.pth?download=true -d /content/animatediff-cli-prompt-travel/data/models/motion-module -o mm-Stabilized_high.pth\n",
        "!aria2c --console-log-level=error -c -x 16 -s 16 -k 1M https://huggingface.co/CiaraRowles/TemporalDiff/resolve/main/temporaldiff-v1-animatediff.ckpt?download=true -d /content/animatediff-cli-prompt-travel/data/models/motion-module -o temporaldiff-v1-animatediff.ckpt"
      ]
    },
    {
      "cell_type": "markdown",
      "metadata": {
        "id": "me2gDmsf2wHw"
      },
      "source": [
        "## Download Stable Diffusion Model ⚙ (SD v1.5)."
      ]
    },
    {
      "cell_type": "code",
      "execution_count": null,
      "metadata": {
        "id": "s0XepFH4Jmx9"
      },
      "outputs": [],
      "source": [
        "# SD model download  SD 1.5\n",
        "# feel free to experiment other models\n",
        "#Remove the hashtag for desired checkpoints. !------------\n",
        "\n",
        "#Realistic checkpoints:\n",
        "#!curl -Lo \"/content/animatediff-cli-prompt-travel/data/models/sd/Epicrealismv5.safetensors\" \"https://civitai.com/api/download/models/134065?type=Model&format=SafeTensor&size=pruned&fp=fp16\"\n",
        "#!curl -Lo \"/content/animatediff-cli-prompt-travel/data/models/sd/Cyberrealistic.safetensors\" \"https://civitai.com/api/download/models/138176?type=Model&format=SafeTensor&size=pruned&fp=fp16\"\n",
        "# !curl -Lo \"/content/animatediff-cli-prompt-travel/data/models/sd/Majicmix.safetensors\" \"https://civitai.com/api/download/models/94640\"\n",
        "#!curl -Lo \"/content/animatediff-cli-prompt-travel/data/models/sd/Photon.safetensors\" \"https://civitai.com/api/download/models/90072\"\n",
        "#!curl -Lo \"/content/animatediff-cli-prompt-travel/data/models/sd/chilloutmix.safetensors\" \"https://civitai.com/api/download/models/11745\"\n",
        "#!curl -Lo \"/content/animatediff-cli-prompt-travel/data/models/sd/DreamShaper_8_pruned.safetensors\" \"https://huggingface.co/Lykon/DreamShaper/resolve/main/DreamShaper_8_pruned.safetensors?download=true\"\n",
        "#!curl -Lo \"/content/animatediff-cli-prompt-travel/data/models/sd/ProtoGen_X5.8-pruned-fp16.safetensors\" \"https://huggingface.co/darkstorm2150/Protogen_x5.8_Official_Release/resolve/main/ProtoGen_X5.8-pruned-fp16.safetensors?download=true\"\n",
        "!curl -Lo \"/content/animatediff-cli-prompt-travel/data/models/sd/Dreamlike_Diffusion_1.ckpt\" \"https://civitai.com/api/download/models/1356\"\n",
        "\n",
        "#Animation checkpoints:\n",
        "# !curl -Lo \"/content/animatediff-cli-prompt-travel/data/models/sd/RealCartoon-Pixar.ckpt\" \"https://huggingface.co/jzli/RealCartoon-Pixar-V5/resolve/main/realcartoonPixar_v5.ckpt?download=true\"\n",
        "# !curl -Lo \"/content/animatediff-cli-prompt-travel/data/models/sd/toonyou_beta6.safetensors\" \"https://huggingface.co/frankjoshua/toonyou_beta6/resolve/main/toonyou_beta6.safetensors?download=true\"\n",
        "#Anime checkpoints:\n",
        "# !wget -c https://civitai.com/api/download/models/98960 -O /content/animatediff-cli-prompt-travel/data/models/sd/toonyou-jp.safetensors\n",
        "# !curl -Lo \"/content/animatediff-cli-prompt-travel/data/models/sd/Anything_V4_5.safetensors\" \"https://civitai.com/api/download/models/5581\"\n",
        "# !curl -Lo \"/content/animatediff-cli-prompt-travel/data/models/sd/Anything_V5.safetensors\" \"https://civitai.com/api/download/models/30163\"\n",
        "#!curl -Lo \"/content/animatediff-cli-prompt-travel/data/models/sd/DivineEleganceMix_V6\" \"https://civitai.com/api/download/models/122702\"\n",
        "#!curl -Lo \"/content/animatediff-cli-prompt-travel/data/models/sd/AnimeCreative\" \"https://civitai.com/api/download/models/163570\"\n",
        "#!curl -Lo \"/content/animatediff-cli-prompt-travel/data/models/sd/Counterfeit_V3\" \"https://civitai.com/api/download/models/57618\""
      ]
    },
    {
      "cell_type": "code",
      "source": [
        "!wget -c https://huggingface.co/stabilityai/sd-vae-ft-mse-original/resolve/main/vae-ft-mse-840000-ema-pruned.safetensors -P /content/animatediff-cli-prompt-travel/data/models/vae"
      ],
      "metadata": {
        "id": "l1kjONjW2Wn5"
      },
      "execution_count": null,
      "outputs": []
    },
    {
      "cell_type": "markdown",
      "metadata": {
        "id": "ZXgV9FtA81-J"
      },
      "source": [
        "# CLI Prompts ((Important!)) 📃"
      ]
    },
    {
      "cell_type": "markdown",
      "metadata": {
        "id": "yh2DnIGUHnaK"
      },
      "source": [
        "Check keyframes in Prompt."
      ]
    },
    {
      "cell_type": "code",
      "execution_count": null,
      "metadata": {
        "id": "6HWwV6SkEXYe",
        "cellView": "form"
      },
      "outputs": [],
      "source": [
        "#check keyframes in prompts\n",
        "fps = 15 # @param {type:\"number\"}\n",
        "duration_in_sec = 18 # @param {type:\"number\"}\n",
        "for x in range(0,duration_in_sec+1):\n",
        "  # x=x+2\n",
        "  print(x*fps)"
      ]
    },
    {
      "cell_type": "markdown",
      "metadata": {
        "id": "PVvJwnXl-dS0"
      },
      "source": [
        "## One For All Prompt Template.(Also a Doc)"
      ]
    },
    {
      "cell_type": "code",
      "execution_count": null,
      "metadata": {
        "id": "zH2-DIttmVLR"
      },
      "outputs": [],
      "source": [
        "# @title\n",
        "# test sample config file ### to make updates to the config file (open it and modify. See the youtube video for details!)\n",
        "# template in: animatediff-cli-prompt-travel/config/prompts/prompt_travel.json\n",
        "config_sample_txt = \"\"\"\n",
        "\n",
        "{\n",
        "  \"name\": \"sample\",\n",
        "  \"path\": \"share/Stable-diffusion/mistoonAnime_v20.safetensors\",  # Specify Checkpoint as a path relative to /animatediff-cli/data\n",
        "  \"lcm_map\":{     # lcm-lora\n",
        "    \"enable\":false,\n",
        "    \"start_scale\":0.15,\n",
        "    \"end_scale\":0.75,\n",
        "    \"gradient_start\":0.2,\n",
        "    \"gradient_end\":0.75\n",
        "  },\n",
        "  \"gradual_latent_hires_fix_map\":{ # gradual latent hires fix\n",
        "    # This is an option to address the problem of chaos being generated when the model is generated beyond its proper size.\n",
        "    # It also has the effect of increasing generation speed.\n",
        "    \"enable\": false,    # enable/disable\n",
        "    \"scale\": {    # \"DENOISE PROGRESS\" : LATENT SCALE format\n",
        "      # In this example, Up to 70% of the total denoise, latent is halved to the specified size.\n",
        "      # From 70% to the end, calculate the size as specified.\n",
        "      \"0\": 0.5,\n",
        "      \"0.7\": 1.0\n",
        "    },\n",
        "    \"reverse_steps\": 5,          # Number of reversal steps at latent size switching timing\n",
        "    \"noise_add_count\":3          # Additive amount of noise　at latent size switching timing\n",
        "  },\n",
        "  \"vae_path\":\"share/VAE/vae-ft-mse-840000-ema-pruned.ckpt\",       # Specify vae as a path relative to /animatediff-cli/data\n",
        "  \"motion_module\": \"models/motion-module/mm_sd_v14.ckpt\",         # Specify motion module as a path relative to /animatediff-cli/data\n",
        "  \"context_schedule\":\"uniform\",          # \"uniform\" or \"composite\"\n",
        "  \"compile\": false,\n",
        "  \"seed\": [\n",
        "    341774366206100,-1,-1         # -1 means random. If \"--repeats 3\" is specified in this setting, The first will be 341774366206100, the second and third will be random.\n",
        "  ],\n",
        "  \"scheduler\": \"ddim\",      # \"ddim\",\"euler\",\"euler_a\",\"k_dpmpp_2m\", etc...\n",
        "  \"steps\": 40,\n",
        "  \"guidance_scale\": 20,     # cfg scale\n",
        "  \"clip_skip\": 2,\n",
        "  \"prompt_fixed_ratio\": 0.5,\n",
        "  \"head_prompt\": \"masterpiece, best quality, a beautiful and detailed portriat of muffet, monster girl,((purple body:1.3)),humanoid, arachnid, anthro,((fangs)),pigtails,hair bows,5 eyes,spider girl,6 arms,solo\",\n",
        "  \"prompt_map\": {           # \"FRAME\" : \"PROMPT\" format / ex. prompt for frame 32 is \"head_prompt\" + prompt_map[\"32\"] + \"tail_prompt\"\n",
        "    \"0\":  \"smile standing,((spider webs:1.0))\",\n",
        "    \"32\":  \"(((walking))),((spider webs:1.0))\",\n",
        "    \"64\":  \"(((running))),((spider webs:2.0)),wide angle lens, fish eye effect\",\n",
        "    \"96\":  \"(((sitting))),((spider webs:1.0))\"\n",
        "  },\n",
        "  \"tail_prompt\": \"clothed, open mouth, awesome and detailed background, holding teapot, holding teacup, 6 hands,detailed hands,storefront that sells pastries and tea,bloomers,(red and black clothing),inside,pouring into teacup,muffetwear\",\n",
        "  \"n_prompt\": [\n",
        "    \"(worst quality, low quality:1.4),nudity,simple background,border,mouth closed,text, patreon,bed,bedroom,white background,((monochrome)),sketch,(pink body:1.4),7 arms,8 arms,4 arms\"\n",
        "  ],\n",
        "  \"lora_map\": {             # \"PATH_TO_LORA\" : STRENGTH format\n",
        "    \"share/Lora/muffet_v2.safetensors\" : 1.0,                     # Specify lora as a path relative to /animatediff-cli/data\n",
        "    \"share/Lora/add_detail.safetensors\" : 1.0                     # Lora support is limited. Not all formats can be used!!!\n",
        "  },\n",
        "  \"motion_lora_map\": {      # \"PATH_TO_LORA\" : STRENGTH format\n",
        "    \"models/motion_lora/v2_lora_RollingAnticlockwise.ckpt\":0.5,   # Currently, the officially distributed lora seems to work only for v2 motion modules (mm_sd_v15_v2.ckpt).\n",
        "    \"models/motion_lora/v2_lora_ZoomIn.ckpt\":0.5\n",
        "  },\n",
        "  \"ip_adapter_map\": {       # config for ip-adapter\n",
        "      # enable/disable (important)\n",
        "      \"enable\": true,\n",
        "      # Specify input image directory relative to /animatediff-cli/data (important! No need to specify frames in the config file. The effect on generation is exactly the same logic as the placement of the prompt)\n",
        "      \"input_image_dir\": \"ip_adapter_image/test\",\n",
        "      \"prompt_fixed_ratio\": 0.5,\n",
        "      # save input image or not\n",
        "      \"save_input_image\": true,\n",
        "      # Ratio of image prompt vs text prompt (important). Even if you want to emphasize only the image prompt in 1.0, do not leave prompt/neg prompt empty, but specify a general text such as \"best quality\".\n",
        "      \"scale\": 0.5,\n",
        "      # IP-Adapter/IP-Adapter Full Face/IP-Adapter Plus Face/IP-Adapter Plus/IP-Adapter Light (important) It would be a completely different outcome. Not always PLUS a superior result.\n",
        "      \"is_full_face\": false,\n",
        "      \"is_plus_face\": false,\n",
        "      \"is_plus\": true,\n",
        "      \"is_light\": false\n",
        "  },\n",
        "  \"img2img_map\": {\n",
        "      # enable/disable\n",
        "      \"enable\": true,\n",
        "      # Directory where the initial image is placed\n",
        "      \"init_img_dir\": \"..\\\\stylize\\\\2023-10-27T19-43-01-sample-mistoonanime_v20\\\\00_img2img\",\n",
        "      \"save_init_image\": true,\n",
        "      # The smaller the value, the closer the result will be to the initial image.\n",
        "      \"denoising_strength\": 0.7\n",
        "  },\n",
        "  \"region_map\": {\n",
        "      # setting for region 0. You can also add regions if necessary.\n",
        "      # The region added at the back will be drawn at the front.\n",
        "      \"0\": {\n",
        "          # enable/disable\n",
        "          \"enable\": true,\n",
        "          # If you want to draw a separate object for each region, enter a value of 0.1 or higher.\n",
        "          \"crop_generation_rate\": 0.1,\n",
        "          # Directory where mask images are placed\n",
        "          \"mask_dir\": \"..\\\\stylize\\\\2023-10-27T19-43-01-sample-mistoonanime_v20\\\\r_fg_00_2023-10-27T19-44-08\\\\00_mask\",\n",
        "          \"save_mask\": true,\n",
        "          # If true, the initial image will be drawn as is (inpaint)\n",
        "          \"is_init_img\": false,\n",
        "          # conditions for region 0\n",
        "          \"condition\": {\n",
        "              # text prompt for region 0\n",
        "              \"prompt_fixed_ratio\": 0.5,\n",
        "              \"head_prompt\": \"\",\n",
        "              \"prompt_map\": {\n",
        "                  \"0\": \"(masterpiece, best quality:1.2), solo, 1girl, kusanagi motoko, looking at viewer, jacket, leotard, thighhighs, gloves, cleavage\"\n",
        "               },\n",
        "              \"tail_prompt\": \"\",\n",
        "              # image prompt(ip adapter) for region 0\n",
        "              # It is not possible to change lora for each region, but you can do something similar using an ip adapter.\n",
        "              \"ip_adapter_map\": {\n",
        "                  \"enable\": true,\n",
        "                  \"input_image_dir\": \"..\\\\stylize\\\\2023-10-27T19-43-01-sample-mistoonanime_v20\\\\r_fg_00_2023-10-27T19-44-08\\\\00_ipadapter\",\n",
        "                  \"prompt_fixed_ratio\": 0.5,\n",
        "                  \"save_input_image\": true,\n",
        "                  \"resized_to_square\": false\n",
        "              }\n",
        "          }\n",
        "      },\n",
        "      # setting for background\n",
        "      \"background\": {\n",
        "          # If true, the initial image will be drawn as is (inpaint)\n",
        "          \"is_init_img\": true,\n",
        "          \"hint\": \"background's condition refers to the one in root\"\n",
        "      }\n",
        "  },\n",
        "  \"controlnet_map\": {       # config for controlnet(for generation)\n",
        "    \"input_image_dir\" : \"controlnet_image/test\",    # Specify input image directory relative to /animatediff-cli/data (important! Please refer to the directory structure of sample. No need to specify frames in the config file.)\n",
        "    \"max_samples_on_vram\" : 200,    # If you specify a large number of images for controlnet and vram will not be enough, reduce this value. 0 means that everything should be placed in cpu.\n",
        "    \"max_models_on_vram\" : 3,       # Number of controlnet models to be placed in vram\n",
        "    \"save_detectmap\" : true,        # save preprocessed image or not\n",
        "    \"preprocess_on_gpu\": true,      # run preprocess on gpu or not (It probably does not affect vram usage at peak, so it should always set true.)\n",
        "    \"is_loop\": true,                # Whether controlnet effects consider loop\n",
        "\n",
        "    \"controlnet_tile\":{    # config for controlnet_tile\n",
        "      \"enable\": true,              # enable/disable (important)\n",
        "      \"use_preprocessor\":true,      # Whether to use a preprocessor for each controlnet type\n",
        "      \"preprocessor\":{     # If not specified, the default preprocessor is selected.(Most of the time the default should be fine.)\n",
        "        # none/blur/tile_resample/upernet_seg/ or key in controlnet_aux.processor.MODELS\n",
        "        # https://github.com/patrickvonplaten/controlnet_aux/blob/2fd027162e7aef8c18d0a9b5a344727d37f4f13d/src/controlnet_aux/processor.py#L20\n",
        "        \"type\" : \"tile_resample\",\n",
        "        \"param\":{\n",
        "          \"down_sampling_rate\":2.0\n",
        "        }\n",
        "      },\n",
        "      \"guess_mode\":false,\n",
        "      # control weight (important)\n",
        "      \"controlnet_conditioning_scale\": 1.0,\n",
        "      # starting control step\n",
        "      \"control_guidance_start\": 0.0,\n",
        "      # ending control step\n",
        "      \"control_guidance_end\": 1.0,\n",
        "      # list of influences on neighboring frames (important)\n",
        "      # This means that there is an impact of 0.5 on both neighboring frames and 0.4 on the one next to it. Try lengthening, shortening, or changing the values inside.\n",
        "      \"control_scale_list\":[0.5,0.4,0.3,0.2,0.1],\n",
        "      # list of regions where controlnet works\n",
        "      # In this example, it only affects region \"0\", but not \"background\".\n",
        "      \"control_region_list\": [\"0\"]\n",
        "    },\n",
        "    \"controlnet_ip2p\":{\n",
        "      \"enable\": true,\n",
        "      \"use_preprocessor\":true,\n",
        "      \"guess_mode\":false,\n",
        "      \"controlnet_conditioning_scale\": 1.0,\n",
        "      \"control_guidance_start\": 0.0,\n",
        "      \"control_guidance_end\": 1.0,\n",
        "      \"control_scale_list\":[0.5,0.4,0.3,0.2,0.1],\n",
        "      # In this example, all regions are affected\n",
        "      \"control_region_list\": []\n",
        "    },\n",
        "    \"controlnet_lineart_anime\":{\n",
        "      \"enable\": true,\n",
        "      \"use_preprocessor\":true,\n",
        "      \"guess_mode\":false,\n",
        "      \"controlnet_conditioning_scale\": 1.0,\n",
        "      \"control_guidance_start\": 0.0,\n",
        "      \"control_guidance_end\": 1.0,\n",
        "      \"control_scale_list\":[0.5,0.4,0.3,0.2,0.1],\n",
        "      # In this example, it only affects region \"background\", but not \"0\".\n",
        "      \"control_region_list\": [\"background\"]\n",
        "    },\n",
        "    \"controlnet_openpose\":{\n",
        "      \"enable\": true,\n",
        "      \"use_preprocessor\":true,\n",
        "      \"guess_mode\":false,\n",
        "      \"controlnet_conditioning_scale\": 1.0,\n",
        "      \"control_guidance_start\": 0.0,\n",
        "      \"control_guidance_end\": 1.0,\n",
        "      \"control_scale_list\":[0.5,0.4,0.3,0.2,0.1],\n",
        "      # In this example, all regions are affected (since these are the only two regions defined)\n",
        "      \"control_region_list\": [\"0\", \"background\"]\n",
        "    },\n",
        "    \"controlnet_softedge\":{\n",
        "      \"enable\": true,\n",
        "      \"use_preprocessor\":true,\n",
        "      \"preprocessor\":{\n",
        "        \"type\" : \"softedge_pidsafe\",\n",
        "        \"param\":{\n",
        "        }\n",
        "      },\n",
        "      \"guess_mode\":false,\n",
        "      \"controlnet_conditioning_scale\": 1.0,\n",
        "      \"control_guidance_start\": 0.0,\n",
        "      \"control_guidance_end\": 1.0,\n",
        "      \"control_scale_list\":[0.5,0.4,0.3,0.2,0.1]\n",
        "    },\n",
        "    \"controlnet_ref\": {\n",
        "        \"enable\": false,            # enable/disable (important)\n",
        "        \"ref_image\": \"ref_image/ref_sample.png\",     # path to reference image.\n",
        "        \"attention_auto_machine_weight\": 1.0,\n",
        "        \"gn_auto_machine_weight\": 1.0,\n",
        "        \"style_fidelity\": 0.5,                # control weight-like parameter(important)\n",
        "        \"reference_attn\": true,               # [attn=true , adain=false] means \"reference_only\"\n",
        "        \"reference_adain\": false,\n",
        "        \"scale_pattern\":[0.5]                 # Pattern for applying controlnet_ref to frames\n",
        "    }                                         # ex. [0.5] means [0.5,0.5,0.5,0.5,0.5 .... ]. All frames are affected by 50%\n",
        "                                              # ex. [1, 0] means [1,0,1,0,1,0,1,0,1,0,1 ....]. Only even frames are affected by 100%.\n",
        "  },\n",
        "  \"upscale_config\": {       # config for tile-upscale\n",
        "    \"scheduler\": \"ddim\",\n",
        "    \"steps\": 20,\n",
        "    \"strength\": 0.5,\n",
        "    \"guidance_scale\": 10,\n",
        "    \"controlnet_tile\": {    # config for controlnet tile\n",
        "      \"enable\": true,       # enable/disable (important)\n",
        "      \"controlnet_conditioning_scale\": 1.0,     # control weight (important)\n",
        "      \"guess_mode\": false,\n",
        "      \"control_guidance_start\": 0.0,      # starting control step\n",
        "      \"control_guidance_end\": 1.0         # ending control step\n",
        "    },\n",
        "    \"controlnet_line_anime\": {  # config for controlnet line anime\n",
        "      \"enable\": false,\n",
        "      \"controlnet_conditioning_scale\": 1.0,\n",
        "      \"guess_mode\": false,\n",
        "      \"control_guidance_start\": 0.0,\n",
        "      \"control_guidance_end\": 1.0\n",
        "    },\n",
        "    \"controlnet_ip2p\": {  # config for controlnet ip2p\n",
        "      \"enable\": false,\n",
        "      \"controlnet_conditioning_scale\": 0.5,\n",
        "      \"guess_mode\": false,\n",
        "      \"control_guidance_start\": 0.0,\n",
        "      \"control_guidance_end\": 1.0\n",
        "    },\n",
        "    \"controlnet_ref\": {   # config for controlnet ref\n",
        "      \"enable\": false,             # enable/disable (important)\n",
        "      \"use_frame_as_ref_image\": false,   # use original frames as ref_image for each upscale (important)\n",
        "      \"use_1st_frame_as_ref_image\": false,   # use 1st original frame as ref_image for all upscale (important)\n",
        "      \"ref_image\": \"ref_image/path_to_your_ref_img.jpg\",   # use specified image file as ref_image for all upscale (important)\n",
        "      \"attention_auto_machine_weight\": 1.0,\n",
        "      \"gn_auto_machine_weight\": 1.0,\n",
        "      \"style_fidelity\": 0.25,       # control weight-like parameter(important)\n",
        "      \"reference_attn\": true,       # [attn=true , adain=false] means \"reference_only\"\n",
        "      \"reference_adain\": false\n",
        "    }\n",
        "  },\n",
        "  \"output\":{   # output format\n",
        "    \"format\" : \"gif\",   # gif/mp4/webm\n",
        "    \"fps\" : 8,\n",
        "    \"encode_param\":{\n",
        "      \"crf\": 10\n",
        "    }\n",
        "  }\n",
        "}\n",
        "\"\"\"\n",
        "config_file_path = f\"config/prompts/test001.json\"\n",
        "with open(config_file_path, \"w\") as file:\n",
        "    file.write(config_sample_txt)"
      ]
    },
    {
      "cell_type": "markdown",
      "metadata": {
        "id": "PIQ6TrKa9w3S"
      },
      "source": [
        "##**Hires Fix Prompt Template.**"
      ]
    },
    {
      "cell_type": "code",
      "execution_count": null,
      "metadata": {
        "id": "-QJywSP69nwM"
      },
      "outputs": [],
      "source": [
        "# @title\n",
        "# test sample config file ### to make updates to the config file (open it and modify. See the youtube video for details!)\n",
        "# template in: animatediff-cli-prompt-travel/config/prompts/prompt_travel.json\n",
        "config_sample_txt = \"\"\"\n",
        "{\n",
        "    \"name\": \"simple\",\n",
        "    \"path\": \"models/sd/toonyou-jp.safetensors\",\n",
        "    \"vae_path\": \"\",\n",
        "    \"motion_module\": \"models/motion-module/improved3DMotion_improved3DV1.ckpt\",\n",
        "    \"gradual_latent_hires_fix_map\": {\n",
        "        \"enable\": true,\n",
        "        \"scale\": {\n",
        "            \"0\": 0.5,\n",
        "            \"0.7\": 1.0\n",
        "        },\n",
        "        \"reverse_steps\": 5,\n",
        "        \"noise_add_count\": 3\n",
        "    },\n",
        "    \"compile\": false,\n",
        "    \"seed\": [\n",
        "       -1\n",
        "    ],\n",
        "    \"scheduler\": \"euler_a\",\n",
        "    \"steps\": 25,\n",
        "    \"guidance_scale\": 8.5,\n",
        "    \"clip_skip\": 2,\n",
        "    \"prompt_map\": {\n",
        "        \"0\": \"(masterpiece, best quality,zoom_in, looking at viewers ), 1girl,cute, upper body, paw pose,  happy, ocean, crop top, shorts, blonde,airflow, blush, looking at viewer, wavy hair, long hair, cloud, sun, mountain, wet, high contrast colors \",\n",
        "        \"24\": \"(masterpiece, best quality,from_side_left), 1girl,cute, upper body, paw pose, smile, laughing, happy, ocean, crop top, shorts, blonde, airflow , blush, wavy hair, long hair, cloud, sun, mountain, wet, high contrast colors\",\n",
        "        \"48\": \"(masterpiece, best quality,from_side_right, laughs ), 1girl,cute, upper body, paw pose, smile, laughing, happy, ocean, crop top, shorts, blonde, airflow, blush, looking at viewer, wavy hair, long hair, sun, mountain, wet, high contrast colors\"\n",
        "    },\n",
        "    \"n_prompt\": [\n",
        "        \"out of frame,jpeg artifacts, (signature), watermark, username, artist name, (worst quality, low quality), bad anatomy, worst quality, normal quality, low quality, low res, blurry, text, watermark, logo, banner, extra digits, cropped, jpeg artifacts, signature, \"\n",
        "    ],\n",
        "    \"lora_map\": {\n",
        "\n",
        "    },\n",
        "    \"motion_lora_map\": {},\n",
        "    \"stylize_config\": {},\n",
        "    \"output\": {\n",
        "        \"format\": \"mp4\",\n",
        "        \"fps\": 10,\n",
        "        \"encode_param\": {\n",
        "            \"crf\": 10\n",
        "        }\n",
        "    },\n",
        "    \"result\": {}\n",
        "}\n",
        "\"\"\"\n",
        "config_file_path = f\"config/prompts/test001.json\"\n",
        "with open(config_file_path, \"w\") as file:\n",
        "    file.write(config_sample_txt)"
      ]
    },
    {
      "cell_type": "markdown",
      "source": [
        "## Vid2Vid Prompts .JSON"
      ],
      "metadata": {
        "id": "jf_FG9NaE6jf"
      }
    },
    {
      "cell_type": "code",
      "source": [
        "# @title\n",
        "# test sample config file ### to make updates to the config file (open it and modify. See the youtube video for details!)\n",
        "# template in: animatediff-cli-prompt-travel/config/prompts/prompt_travel.json\n",
        "config_sample_txt = \"\"\"\n",
        "{\n",
        "    \"name\": \"sample\",\n",
        "    \"path\": \"models/sd/Dreamlike_Diffusion_1.ckpt\",\n",
        "    \"vae_path\": \"/content/animatediff-cli-prompt-travel/data/models/vae/vae-ft-mse-840000-ema-pruned.safetensors\",\n",
        "    \"motion_module\": \"models/motion-module/mm-Stabilized_high.pth\",\n",
        "    \"context_schedule\": \"uniform\",\n",
        "    \"lcm_map\": {\n",
        "        \"enable\": false,\n",
        "        \"start_scale\": 0.15,\n",
        "        \"end_scale\": 0.75,\n",
        "        \"gradient_start\": 0.2,\n",
        "        \"gradient_end\": 0.75\n",
        "    },\n",
        "    \"compile\": false,\n",
        "    \"seed\": [\n",
        "       -1\n",
        "    ],\n",
        "    \"scheduler\": \"euler_a\",\n",
        "    \"steps\": 20,\n",
        "    \"guidance_scale\": 8,\n",
        "    \"clip_skip\": 2,\n",
        "    \"prompt_map\": {\n",
        "        \"0\": \"(best quality, top quality, masterpiece,neon lighting,ephemeral beauty, glowing clouds,neon thunder lighting,smoke),1man,hoodie,beanie cap,((perfect faces, perfect glowing green eyes)),digtal art,32k,highly detailed uhd,qhd,best quality,highest quality,top quality,masterpiece \"\n",
        "    },\n",
        "    \"n_prompt\": [\n",
        "        \" ((blurry)),3D, weird colors, unnatural skin tone, unnatural skin, stiff face, fused hand, skewed eyes, surreal, cropped head, ((((ugly)))), (((duplicate))), ((morbid)), ((mutilated)), [out of frame], extra fingers, mutated hands, ((poorly drawn hands)), ((poorly drawn face)), (((mutation))), (((deformed))), ((ugly)), blurry, ((bad anatomy)), (((bad proportions))), ((extra limbs)), cloned face, (((disfigured))), out of frame,dark face,poor facial details,dark face,disfigured, disproportionate, bad anatomy, bad proportions,imperfect eyes, unnatural, conjoined,(yellow colors)\"\n",
        "    ],\n",
        "    \"is_single_prompt_mode\": false,\n",
        "    \"lora_map\": {},\n",
        "    \"motion_lora_map\": {},\n",
        "    \"ip_adapter_map\": {\n",
        "        \"enable\": false,\n",
        "        \"input_image_dir\": \"/content/animatediff-cli-prompt-travel/GoogleDrive/MyDrive/AI/ip_ad\",\n",
        "        \"prompt_fixed_ratio\": 0.5,\n",
        "        \"save_input_image\": true,\n",
        "        \"resized_to_square\": false,\n",
        "        \"scale\": 0.48,\n",
        "        \"is_full_face\": false,\n",
        "        \"is_plus_face\": false,\n",
        "        \"is_plus\": true,\n",
        "        \"is_light\": false\n",
        "    },\n",
        "    \"img2img_map\": {\n",
        "        \"enable\": false,\n",
        "        \"init_img_dir\": \"../stylize/2023-12-31T03-11-24-sample-toonyou_beta6/00_img2img\",\n",
        "        \"save_init_image\": true,\n",
        "        \"denoising_strength\": 0.85\n",
        "    },\n",
        "    \"region_map\": {},\n",
        "    \"controlnet_map\": {\n",
        "        \"input_image_dir\": \"/content/animatediff-cli-prompt-travel/data/controlnet_image/test\",\n",
        "        \"max_samples_on_vram\": 300,\n",
        "        \"max_models_on_vram\": 3,\n",
        "        \"save_detectmap\": true,\n",
        "        \"preprocess_on_gpu\": true,\n",
        "        \"is_loop\": false,\n",
        "        \"controlnet_tile\": {\n",
        "            \"enable\": true,\n",
        "            \"use_preprocessor\": true,\n",
        "            \"preprocessor\": {\n",
        "                \"type\": \"none\",\n",
        "                \"param\": {}\n",
        "            },\n",
        "            \"guess_mode\": false,\n",
        "            \"controlnet_conditioning_scale\": 1.0,\n",
        "            \"control_guidance_start\": 0.0,\n",
        "            \"control_guidance_end\": 1.0,\n",
        "            \"control_scale_list\": [],\n",
        "            \"control_region_list\": []\n",
        "        },\n",
        "        \"controlnet_ip2p\": {\n",
        "            \"enable\": true,\n",
        "            \"use_preprocessor\": true,\n",
        "            \"guess_mode\": false,\n",
        "            \"controlnet_conditioning_scale\": 0.5,\n",
        "            \"control_guidance_start\": 0.0,\n",
        "            \"control_guidance_end\": 0.75,\n",
        "            \"control_scale_list\": [],\n",
        "            \"control_region_list\": []\n",
        "        },\n",
        "        \"controlnet_lineart_anime\": {\n",
        "            \"enable\": true,\n",
        "            \"use_preprocessor\": true,\n",
        "            \"guess_mode\": false,\n",
        "            \"controlnet_conditioning_scale\": 1.0,\n",
        "            \"control_guidance_start\": 0.0,\n",
        "            \"control_guidance_end\": 1.0,\n",
        "            \"control_scale_list\": [],\n",
        "            \"control_region_list\": []\n",
        "        },\n",
        "        \"controlnet_openpose\": {\n",
        "            \"enable\": true,\n",
        "            \"use_preprocessor\": true,\n",
        "            \"preprocessor\": {\n",
        "                \"type\": \"dwpose\",\n",
        "                \"param\": {}\n",
        "            },\n",
        "            \"guess_mode\": false,\n",
        "            \"controlnet_conditioning_scale\": 1.0,\n",
        "            \"control_guidance_start\": 0.0,\n",
        "            \"control_guidance_end\": 1.0,\n",
        "            \"control_scale_list\": [],\n",
        "            \"control_region_list\": []\n",
        "        },\n",
        "        \"controlnet_softedge\": {\n",
        "            \"enable\": true,\n",
        "            \"use_preprocessor\": true,\n",
        "            \"preprocessor\": {\n",
        "                \"type\": \"softedge_pidsafe\",\n",
        "                \"param\": {}\n",
        "            },\n",
        "            \"guess_mode\": false,\n",
        "            \"controlnet_conditioning_scale\": 0.65,\n",
        "            \"control_guidance_start\": 0.0,\n",
        "            \"control_guidance_end\": 1.0,\n",
        "            \"control_scale_list\": [],\n",
        "            \"control_region_list\": []\n",
        "        },\n",
        "        \"controlnet_shuffle\": {\n",
        "            \"enable\": true,\n",
        "            \"use_preprocessor\": true,\n",
        "            \"guess_mode\": false,\n",
        "            \"controlnet_conditioning_scale\": 1.0,\n",
        "            \"control_guidance_start\": 0.0,\n",
        "            \"control_guidance_end\": 1.0,\n",
        "            \"control_scale_list\": [],\n",
        "            \"control_region_list\": []\n",
        "        },\n",
        "        \"controlnet_depth\": {\n",
        "            \"enable\": true,\n",
        "            \"use_preprocessor\": true,\n",
        "            \"guess_mode\": false,\n",
        "            \"controlnet_conditioning_scale\": 1.0,\n",
        "            \"control_guidance_start\": 0.0,\n",
        "            \"control_guidance_end\": 1.0,\n",
        "            \"control_scale_list\": [],\n",
        "            \"control_region_list\": []\n",
        "        },\n",
        "        \"controlnet_canny\": {\n",
        "            \"enable\": true,\n",
        "            \"use_preprocessor\": true,\n",
        "            \"guess_mode\": false,\n",
        "            \"controlnet_conditioning_scale\": 1.0,\n",
        "            \"control_guidance_start\": 0.0,\n",
        "            \"control_guidance_end\": 1.0,\n",
        "            \"control_scale_list\": [],\n",
        "            \"control_region_list\": []\n",
        "        },\n",
        "        \"controlnet_inpaint\": {\n",
        "            \"enable\": true,\n",
        "            \"use_preprocessor\": true,\n",
        "            \"guess_mode\": false,\n",
        "            \"controlnet_conditioning_scale\": 1.0,\n",
        "            \"control_guidance_start\": 0.0,\n",
        "            \"control_guidance_end\": 1.0,\n",
        "            \"control_scale_list\": [],\n",
        "            \"control_region_list\": []\n",
        "        },\n",
        "        \"controlnet_lineart\": {\n",
        "            \"enable\": false,\n",
        "            \"use_preprocessor\": true,\n",
        "            \"guess_mode\": false,\n",
        "            \"controlnet_conditioning_scale\": 1.0,\n",
        "            \"control_guidance_start\": 0.0,\n",
        "            \"control_guidance_end\": 0.65,\n",
        "            \"control_scale_list\": [],\n",
        "            \"control_region_list\": []\n",
        "        },\n",
        "        \"controlnet_mlsd\": {\n",
        "            \"enable\": true,\n",
        "            \"use_preprocessor\": true,\n",
        "            \"guess_mode\": false,\n",
        "            \"controlnet_conditioning_scale\": 1.0,\n",
        "            \"control_guidance_start\": 0.0,\n",
        "            \"control_guidance_end\": 1.0,\n",
        "            \"control_scale_list\": [],\n",
        "            \"control_region_list\": []\n",
        "        },\n",
        "        \"controlnet_normalbae\": {\n",
        "            \"enable\": true,\n",
        "            \"use_preprocessor\": true,\n",
        "            \"guess_mode\": false,\n",
        "            \"controlnet_conditioning_scale\": 1.0,\n",
        "            \"control_guidance_start\": 0.0,\n",
        "            \"control_guidance_end\": 1.0,\n",
        "            \"control_scale_list\": [],\n",
        "            \"control_region_list\": []\n",
        "        },\n",
        "        \"controlnet_scribble\": {\n",
        "            \"enable\": true,\n",
        "            \"use_preprocessor\": true,\n",
        "            \"guess_mode\": false,\n",
        "            \"controlnet_conditioning_scale\": 1.0,\n",
        "            \"control_guidance_start\": 0.0,\n",
        "            \"control_guidance_end\": 1.0,\n",
        "            \"control_scale_list\": [],\n",
        "            \"control_region_list\": []\n",
        "        },\n",
        "        \"controlnet_seg\": {\n",
        "            \"enable\": true,\n",
        "            \"use_preprocessor\": true,\n",
        "            \"guess_mode\": false,\n",
        "            \"controlnet_conditioning_scale\": 1.0,\n",
        "            \"control_guidance_start\": 0.0,\n",
        "            \"control_guidance_end\": 1.0,\n",
        "            \"control_scale_list\": [],\n",
        "            \"control_region_list\": []\n",
        "        },\n",
        "        \"qr_code_monster_v1\": {\n",
        "            \"enable\": true,\n",
        "            \"use_preprocessor\": true,\n",
        "            \"guess_mode\": false,\n",
        "            \"controlnet_conditioning_scale\": 1.0,\n",
        "            \"control_guidance_start\": 0.0,\n",
        "            \"control_guidance_end\": 1.0,\n",
        "            \"control_scale_list\": [],\n",
        "            \"control_region_list\": []\n",
        "        },\n",
        "        \"qr_code_monster_v2\": {\n",
        "            \"enable\": true,\n",
        "            \"use_preprocessor\": true,\n",
        "            \"guess_mode\": false,\n",
        "            \"controlnet_conditioning_scale\": 1.0,\n",
        "            \"control_guidance_start\": 0.0,\n",
        "            \"control_guidance_end\": 1.0,\n",
        "            \"control_scale_list\": [],\n",
        "            \"control_region_list\": []\n",
        "        },\n",
        "        \"controlnet_mediapipe_face\": {\n",
        "            \"enable\": true,\n",
        "            \"use_preprocessor\": true,\n",
        "            \"guess_mode\": false,\n",
        "            \"controlnet_conditioning_scale\": 1.0,\n",
        "            \"control_guidance_start\": 0.0,\n",
        "            \"control_guidance_end\": 1.0,\n",
        "            \"control_scale_list\": [],\n",
        "            \"control_region_list\": []\n",
        "        },\n",
        "        \"animatediff_controlnet\": {\n",
        "            \"enable\": true,\n",
        "            \"use_preprocessor\": true,\n",
        "            \"guess_mode\": false,\n",
        "            \"controlnet_conditioning_scale\": 1.0,\n",
        "            \"control_guidance_start\": 0.0,\n",
        "            \"control_guidance_end\": 1.0,\n",
        "            \"control_scale_list\": [],\n",
        "            \"control_region_list\": []\n",
        "        },\n",
        "        \"controlnet_ref\": {\n",
        "            \"enable\": false,\n",
        "            \"ref_image\": \"/content/animatediff-cli-prompt-travel/output/2024-01-09T02-46-44-sample-toonyou_beta6/00_detectmap\",\n",
        "            \"attention_auto_machine_weight\": 0.3,\n",
        "            \"gn_auto_machine_weight\": 0.3,\n",
        "            \"style_fidelity\": 0.5,\n",
        "            \"reference_attn\": true,\n",
        "            \"reference_adain\": false,\n",
        "            \"scale_pattern\": [\n",
        "                1.0\n",
        "            ]\n",
        "        }\n",
        "    },\n",
        "    \"upscale_config\": {\n",
        "        \"scheduler\": \"k_dpmpp_sde\",\n",
        "        \"steps\": 20,\n",
        "        \"strength\": 0.5,\n",
        "        \"guidance_scale\": 10,\n",
        "        \"controlnet_tile\": {\n",
        "            \"enable\": false,\n",
        "            \"controlnet_conditioning_scale\": 1.0,\n",
        "            \"guess_mode\": false,\n",
        "            \"control_guidance_start\": 0.0,\n",
        "            \"control_guidance_end\": 1.0\n",
        "        },\n",
        "        \"controlnet_line_anime\": {\n",
        "            \"enable\": false,\n",
        "            \"controlnet_conditioning_scale\": 1.0,\n",
        "            \"guess_mode\": false,\n",
        "            \"control_guidance_start\": 0.0,\n",
        "            \"control_guidance_end\": 1.0\n",
        "        },\n",
        "        \"controlnet_ip2p\": {\n",
        "            \"enable\": false,\n",
        "            \"controlnet_conditioning_scale\": 0.5,\n",
        "            \"guess_mode\": false,\n",
        "            \"control_guidance_start\": 0.0,\n",
        "            \"control_guidance_end\": 1.0\n",
        "        },\n",
        "        \"controlnet_ref\": {\n",
        "            \"enable\": false,\n",
        "            \"use_frame_as_ref_image\": false,\n",
        "            \"use_1st_frame_as_ref_image\": false,\n",
        "            \"ref_image\": \"ref_image/path_to_your_ref_img.jpg\",\n",
        "            \"attention_auto_machine_weight\": 1.0,\n",
        "            \"gn_auto_machine_weight\": 1.0,\n",
        "            \"style_fidelity\": 0.25,\n",
        "            \"reference_attn\": true,\n",
        "            \"reference_adain\": false\n",
        "        }\n",
        "    },\n",
        "    \"stylize_config\": {\n",
        "        \"original_video\": {\n",
        "            \"path\": \"/content/animatediff-cli-prompt-travel/GoogleDrive/MyDrive/AI/kamal_ni_Trim1.mp4\",\n",
        "            \"aspect_ratio\": -1.0,\n",
        "            \"offset\": 0\n",
        "        },\n",
        "        \"create_mask\": [\n",
        "            \"person\",\"girls\"\n",
        "        ],\n",
        "        \"composite\": {\n",
        "            \"fg_list\": [\n",
        "                {\n",
        "                    \"path\": \" absolute path to frame dir \",\n",
        "                    \"mask_path\": \" absolute path to mask dir (this is optional) \",\n",
        "                    \"mask_prompt\": \"person\"\n",
        "                },\n",
        "                {\n",
        "                    \"path\": \" absolute path to frame dir \",\n",
        "                    \"mask_path\": \" absolute path to mask dir (this is optional) \",\n",
        "                    \"mask_prompt\": \"cat\"\n",
        "                }\n",
        "            ],\n",
        "            \"bg_frame_dir\": \"Absolute path to the BG frame directory\",\n",
        "            \"hint\": \"\"\n",
        "        },\n",
        "        \"0\": {\n",
        "            \"width\": 512,\n",
        "            \"height\": 904,\n",
        "            \"length\": 250,\n",
        "            \"context\": 16,\n",
        "            \"overlap\": 4,\n",
        "            \"stride\": 4\n",
        "        },\n",
        "        \"1\": {\n",
        "            \"steps\": 20,\n",
        "            \"guidance_scale\": 10.0,\n",
        "            \"width\": 768,\n",
        "            \"height\": 1352,\n",
        "            \"length\": 250,\n",
        "            \"context\": 8,\n",
        "            \"overlap\": 2,\n",
        "            \"stride\": 0,\n",
        "            \"controlnet_tile\": {\n",
        "                \"enable\": true,\n",
        "                \"use_preprocessor\": true,\n",
        "                \"guess_mode\": false,\n",
        "                \"controlnet_conditioning_scale\": 1.0,\n",
        "                \"control_guidance_start\": 0.0,\n",
        "                \"control_guidance_end\": 1.0,\n",
        "                \"control_scale_list\": []\n",
        "            },\n",
        "            \"controlnet_ip2p\": {\n",
        "                \"enable\": false,\n",
        "                \"use_preprocessor\": true,\n",
        "                \"guess_mode\": false,\n",
        "                \"controlnet_conditioning_scale\": 0.5,\n",
        "                \"control_guidance_start\": 0.0,\n",
        "                \"control_guidance_end\": 1.0,\n",
        "                \"control_scale_list\": []\n",
        "            },\n",
        "            \"ip_adapter\": false,\n",
        "            \"reference\": false,\n",
        "            \"img2img\": false,\n",
        "            \"interpolation_multiplier\": 1\n",
        "        }\n",
        "    },\n",
        "    \"output\": {\n",
        "        \"format\": \"mp4\",\n",
        "        \"fps\": 12,\n",
        "        \"encode_param\": {\n",
        "            \"crf\": 20\n",
        "        }\n",
        "    },\n",
        "    \"result\": {}\n",
        "}\n",
        "\"\"\"\n",
        "config_file_path = f\"config/prompts/test001.json\"\n",
        "with open(config_file_path, \"w\") as file:\n",
        "    file.write(config_sample_txt)"
      ],
      "metadata": {
        "id": "qpadWBMIszPJ"
      },
      "execution_count": 36,
      "outputs": []
    },
    {
      "cell_type": "markdown",
      "metadata": {
        "id": "lwd8ec1C-gvi"
      },
      "source": [
        "# Generate ⚙"
      ]
    },
    {
      "cell_type": "code",
      "execution_count": null,
      "metadata": {
        "id": "ff1JmYdNFiO8"
      },
      "outputs": [],
      "source": [
        "#check help for better understanding.........\n",
        "!animatediff generate -h"
      ]
    },
    {
      "cell_type": "code",
      "execution_count": null,
      "metadata": {
        "colab": {
          "base_uri": "https://localhost:8080/"
        },
        "id": "nxsrSruoJm0b",
        "outputId": "110d9b1e-cad1-4cc0-c6dc-ff13cf4a7ce5"
      },
      "outputs": [
        {
          "output_type": "stream",
          "name": "stdout",
          "text": [
            "2024-01-09 04:10:02.938516: E external/local_xla/xla/stream_executor/cuda/cuda_dnn.cc:9261] Unable to register cuDNN factory: Attempting to register factory for plugin cuDNN when one has already been registered\n",
            "2024-01-09 04:10:02.938613: E external/local_xla/xla/stream_executor/cuda/cuda_fft.cc:607] Unable to register cuFFT factory: Attempting to register factory for plugin cuFFT when one has already been registered\n",
            "2024-01-09 04:10:03.019563: E external/local_xla/xla/stream_executor/cuda/cuda_blas.cc:1515] Unable to register cuBLAS factory: Attempting to register factory for plugin cuBLAS when one has already been registered\n",
            "2024-01-09 04:10:05.608862: W tensorflow/compiler/tf2tensorrt/utils/py_utils.cc:38] TF-TRT Warning: Could not find TensorRT\n",
            "/usr/local/lib/python3.10/dist-packages/controlnet_aux/segment_anything/modeling/tiny_vit_sam.py:654: UserWarning: Overwriting tiny_vit_5m_224 in registry with controlnet_aux.segment_anything.modeling.tiny_vit_sam.tiny_vit_5m_224. This is because the name being registered conflicts with an existing name. Please check if this is not expected.\n",
            "  return register_model(fn_wrapper)\n",
            "/usr/local/lib/python3.10/dist-packages/controlnet_aux/segment_anything/modeling/tiny_vit_sam.py:654: UserWarning: Overwriting tiny_vit_11m_224 in registry with controlnet_aux.segment_anything.modeling.tiny_vit_sam.tiny_vit_11m_224. This is because the name being registered conflicts with an existing name. Please check if this is not expected.\n",
            "  return register_model(fn_wrapper)\n",
            "/usr/local/lib/python3.10/dist-packages/controlnet_aux/segment_anything/modeling/tiny_vit_sam.py:654: UserWarning: Overwriting tiny_vit_21m_224 in registry with controlnet_aux.segment_anything.modeling.tiny_vit_sam.tiny_vit_21m_224. This is because the name being registered conflicts with an existing name. Please check if this is not expected.\n",
            "  return register_model(fn_wrapper)\n",
            "/usr/local/lib/python3.10/dist-packages/controlnet_aux/segment_anything/modeling/tiny_vit_sam.py:654: UserWarning: Overwriting tiny_vit_21m_384 in registry with controlnet_aux.segment_anything.modeling.tiny_vit_sam.tiny_vit_21m_384. This is because the name being registered conflicts with an existing name. Please check if this is not expected.\n",
            "  return register_model(fn_wrapper)\n",
            "/usr/local/lib/python3.10/dist-packages/controlnet_aux/segment_anything/modeling/tiny_vit_sam.py:654: UserWarning: Overwriting tiny_vit_21m_512 in registry with controlnet_aux.segment_anything.modeling.tiny_vit_sam.tiny_vit_21m_512. This is because the name being registered conflicts with an existing name. Please check if this is not expected.\n",
            "  return register_model(fn_wrapper)\n",
            "diffuser_ver='0.23.0'\n",
            "Using generation config: config/prompts/test001.json\n",
            "is_sdxl=False\n",
            "is_v2=False\n",
            "Using base model: runwayml/stable-diffusion-v1-5\n",
            "Will save outputs to ./output/2024-01-09T04-10-29-sample-dreamlike_diffusion_1\n",
            "\u001b[2KPreprocessing images (controlnet_ip2p)\u001b[35m  12%\u001b[0m \u001b[91m━\u001b[0m\u001b[91m╸\u001b[0m\u001b[90m━━━━━━━━━━━━━━\u001b[0m \u001b[32m23/194 \u001b[0m [ \u001b[33m0:00:01\u001b[0m < \u001b[36m0:00:09\u001b[0m , \u001b[31m20 it/s\u001b[0m ]\n",
            "\u001b[2KSaving Preprocessed images (controlnet_ip2p)\u001b[35m 100%\u001b[0m \u001b[90m━━━━━━━━━━━━\u001b[0m \u001b[32m23/23 \u001b[0m [ \u001b[33m0:00:04\u001b[0m < \u001b[36m0:00:00\u001b[0m , \u001b[31m5 it/s\u001b[0m ]\n",
            "\u001b[2KPreprocessing images (controlnet_openpose)\u001b[35m   0%\u001b[0m \u001b[90m━━━━━━━━━━━━━━\u001b[0m \u001b[32m0/194 \u001b[0m [ \u001b[33m0:00:01\u001b[0m < \u001b[36m-:--:--\u001b[0m , \u001b[31m? it/s\u001b[0m ]2024-01-09 04:10:36.137811203 [E:onnxruntime:Default, provider_bridge_ort.cc:1480 TryGetProviderInfo_CUDA] /onnxruntime_src/onnxruntime/core/session/provider_bridge_ort.cc:1193 onnxruntime::Provider& onnxruntime::ProviderLibrary::Get() [ONNXRuntimeError] : 1 : FAIL : Failed to load library libonnxruntime_providers_cuda.so with error: libcublasLt.so.11: cannot open shared object file: No such file or directory\n",
            "\n",
            "2024-01-09 04:10:36.137861821 [W:onnxruntime:Default, onnxruntime_pybind_state.cc:747 CreateExecutionProviderInstance] Failed to create CUDAExecutionProvider. Please reference https://onnxruntime.ai/docs/execution-providers/CUDA-ExecutionProvider.html#requirements to ensure all dependencies are met.\n",
            "2024-01-09 04:10:37.223885130 [E:onnxruntime:Default, provider_bridge_ort.cc:1480 TryGetProviderInfo_CUDA] /onnxruntime_src/onnxruntime/core/session/provider_bridge_ort.cc:1193 onnxruntime::Provider& onnxruntime::ProviderLibrary::Get() [ONNXRuntimeError] : 1 : FAIL : Failed to load library libonnxruntime_providers_cuda.so with error: libcublasLt.so.11: cannot open shared object file: No such file or directory\n",
            "\n",
            "2024-01-09 04:10:37.223918113 [W:onnxruntime:Default, onnxruntime_pybind_state.cc:747 CreateExecutionProviderInstance] Failed to create CUDAExecutionProvider. Please reference https://onnxruntime.ai/docs/execution-providers/CUDA-ExecutionProvider.html#requirements to ensure all dependencies are met.\n",
            "\u001b[2KPreprocessing images (controlnet_openpose)\u001b[35m  12%\u001b[0m \u001b[91m━\u001b[0m\u001b[91m╸\u001b[0m\u001b[90m━━━━━━━━━━━\u001b[0m \u001b[32m23/194 \u001b[0m [ \u001b[33m0:01:08\u001b[0m < \u001b[36m0:08:08\u001b[0m , \u001b[31m0 it/s\u001b[0m ]\n",
            "\u001b[2KSaving Preprocessed images (controlnet_openpose)\u001b[35m  70%\u001b[0m \u001b[91m━━━━\u001b[0m\u001b[91m╸\u001b[0m\u001b[90m━━\u001b[0m \u001b[32m16/23 \u001b[0m [ \u001b[33m0:00:00\u001b[0m < \u001b[36m0:00:01\u001b[0m , \u001b[31m78 it/s\u001b[0m ]\n",
            "\u001b[2KPreprocessing images (controlnet_softedge)\u001b[35m   0%\u001b[0m \u001b[90m━━━━━━━━━━━━━━\u001b[0m \u001b[32m0/194 \u001b[0m [ \u001b[33m0:00:00\u001b[0m < \u001b[36m-:--:--\u001b[0m , \u001b[31m? it/s\u001b[0m ]Loading softedge_pidsafe\n",
            "\u001b[2K/usr/local/lib/python3.10/dist-packages/controlnet_aux/pidi/model.py:334: UserWarning: The \n",
            "torch.cuda.*DtypeTensor constructors are no longer recommended. It's best to use methods such as \n",
            "torch.tensor(data, dtype=*, device='cuda') to create tensors. (Triggered internally at \n",
            "../torch/csrc/tensor/python_tensor.cpp:83.)\n",
            "  buffer = torch.cuda.FloatTensor(shape[0], shape[1], 5 * 5).fill_(0)\n",
            "\u001b[2KPreprocessing images (controlnet_softedge)\u001b[35m  82%\u001b[0m \u001b[91m━━━━━━━━━\u001b[0m\u001b[90m╺\u001b[0m\u001b[90m━\u001b[0m \u001b[32m160/194 \u001b[0m [ \u001b[33m0:00:06\u001b[0m < \u001b[36m0:00:01\u001b[0m , \u001b[31m43 it/s\u001b[0m ]\n",
            "\u001b[2KSaving Preprocessed images (controlnet_softedge)\u001b[35m  91%\u001b[0m \u001b[91m━━━━━━\u001b[0m\u001b[90m╺\u001b[0m \u001b[32m21/23 \u001b[0m [ \u001b[33m0:00:00\u001b[0m < \u001b[36m0:00:01\u001b[0m , \u001b[31m50 it/s\u001b[0m ]\n",
            "\u001b[?25hChecking motion module...\n",
            "Loading tokenizer...\n",
            "Loading text encoder...\n",
            "Loading VAE...\n",
            "Loading UNet...\n",
            "Loaded 417.1376M-parameter motion module\n",
            "Using scheduler \"euler_a\" (EulerAncestralDiscreteScheduler)\n",
            "Loading weights from /content/animatediff-cli-prompt-travel/data/models/sd/Dreamlike_Diffusion_1.ckpt\n",
            "Merging weights into UNet...\n",
            "Loading vae from /content/animatediff-cli-prompt-travel/data/models/vae/vae-ft-mse-840000-ema-pruned.safetensors\n",
            "Creating AnimationPipeline...\n",
            "No TI embeddings found\n",
            "loading c='controlnet_ip2p' model\n",
            "loading c='controlnet_openpose' model\n",
            "loading c='controlnet_softedge' model\n",
            "Sending pipeline to device \"cuda\"\n",
            "Selected data types: unet_dtype=torch.float16, tenc_dtype=torch.float16, vae_dtype=torch.float32\n",
            "Using channels_last memory format for UNet and VAE\n",
            "c='controlnet_ip2p' / []\n",
            "c='controlnet_openpose' / []\n",
            "c='controlnet_softedge' / []\n",
            "Saving prompt config to output directory\n",
            "Initialization complete!\n",
            "Generating 1 animations\n",
            "Running generation 1 of 1\n",
            "Generation seed: 4371626627678935069\n",
            "len( region_condi_list )=1\n",
            "len( region_list )=1\n",
            "apply_lcm_lora=False\n",
            "controlnet_for_region=False\n",
            "multi_uncond_mode=False\n",
            "unet_batch_size=1\n",
            "prompt_encoder.get_condi_size()=2\n",
            "\u001b[2K\u001b[35m  52%\u001b[0m \u001b[91m━━━━━━━━━━━━━━━━━━━━━━━━━━━━\u001b[0m\u001b[91m╸\u001b[0m\u001b[90m━━━━━━━━━━━━━━━━━━━━━━━━━━━\u001b[0m \u001b[32m31/60 \u001b[0m [ \u001b[33m0:05:36\u001b[0m < \u001b[36m0:05:16\u001b[0m , \u001b[31m0 it/s\u001b[0m ]"
          ]
        }
      ],
      "source": [
        "#  -W is width -H height. -L length / fps = Duration.  can use -W 512 -H 768\n",
        "!animatediff generate -c config/prompts/test001.json -W 512 -H 912  -L 24 -C 16 -O 4 -S 4"
      ]
    },
    {
      "cell_type": "code",
      "source": [
        "!animatediff -h"
      ],
      "metadata": {
        "id": "05WAyTgGuNjC"
      },
      "execution_count": null,
      "outputs": []
    },
    {
      "cell_type": "code",
      "source": [
        "!animatediff  refine  -h"
      ],
      "metadata": {
        "id": "6mM0bWQtub8x"
      },
      "execution_count": null,
      "outputs": []
    },
    {
      "cell_type": "code",
      "source": [
        "!animatediff refine --config-path /content/animatediff-cli-prompt-travel/output/2024-01-04T04-02-44-simple-toonyou-jp/prompt.json -t 0.8 -W 1024 -H 1824 -C 8 -O 4 -S 4 /content/animatediff-cli-prompt-travel/output/2024-01-04T04-02-44-simple-toonyou-jp/00-4841095091158654258"
      ],
      "metadata": {
        "id": "e59v4qBrwAG4"
      },
      "execution_count": null,
      "outputs": []
    },
    {
      "cell_type": "markdown",
      "source": [
        "# New Section"
      ],
      "metadata": {
        "id": "CD7EDoZe-Y3D"
      }
    },
    {
      "cell_type": "code",
      "source": [
        "!animatediff stylize  create-config -h"
      ],
      "metadata": {
        "id": "Yiiqf0b_lYJF"
      },
      "execution_count": null,
      "outputs": []
    },
    {
      "cell_type": "code",
      "source": [
        "!animatediff stylize  create-config  /content/animatediff-cli-prompt-travel/GoogleDrive/MyDrive/AI/kamal_ni.mp4 --fps 10"
      ],
      "metadata": {
        "id": "hdegVC_l-ZmD"
      },
      "execution_count": null,
      "outputs": []
    },
    {
      "cell_type": "code",
      "source": [
        "!cp -r /content/animatediff-cli-prompt-travel/stylize/2023-12-27T11-36-55-sample-toonyou_beta6/00_controlnet_image/controlnet_openpose/{0.png..119.png} /content/animatediff-cli-prompt-travel/stylize/2023-12-27T11-36-55-sample-toonyou_beta6/00_controlnet_image/animatediff_controlnet"
      ],
      "metadata": {
        "id": "nskLqVC_FteZ"
      },
      "execution_count": null,
      "outputs": []
    },
    {
      "cell_type": "code",
      "source": [
        "!animatediff stylize generate /content/animatediff-cli-prompt-travel/stylize/2023-12-29T12-42-14-sample-toonyou_beta6"
      ],
      "metadata": {
        "id": "-0xnBr5RGEsO"
      },
      "execution_count": null,
      "outputs": []
    },
    {
      "cell_type": "code",
      "source": [
        "rm -r /content/animatediff-cli-prompt-travel/stylize/2023-12-27T11-36-55-sample-toonyou_beta6/00_controlnet_image/animatediff_controlnet/controlnet_openpose"
      ],
      "metadata": {
        "id": "AbIjzo2cF6tn"
      },
      "execution_count": null,
      "outputs": []
    },
    {
      "cell_type": "code",
      "source": [
        "import os , shutil\n",
        "files_path = \"/content/animatediff-cli-prompt-travel/data/controlnet_image/test/controlnet_openpose\"\n",
        "dest_path= \"/content/animatediff-cli-prompt-travel/data/controlnet_image/test/controlnet_softedge\"\n",
        "files_dir = os.listdir(files_path)\n",
        "# print(files_dir)\n",
        "for file_name in files_dir:\n",
        "  full_file_path = os.path.join(files_path,file_name)\n",
        "  if os.path.isfile(full_file_path):\n",
        "    shutil.copy(full_file_path,dest_path)"
      ],
      "metadata": {
        "id": "mj9gzfv6LX_D"
      },
      "execution_count": null,
      "outputs": []
    },
    {
      "cell_type": "markdown",
      "metadata": {
        "id": "WUCk5Bsj_d--"
      },
      "source": [
        "# Interpolate (Increase FPS) of a Video or Frames."
      ]
    },
    {
      "cell_type": "code",
      "source": [
        "!gdown 11MiEL9x7ynqbcVcxTuwgefBbNmIG9RiT"
      ],
      "metadata": {
        "id": "VApL-KqO-sGU"
      },
      "execution_count": null,
      "outputs": []
    },
    {
      "cell_type": "code",
      "source": [
        "!7z e RIFE_trained_model_v4.13.2.zip -o/content/animatediff-cli-prompt-travel/data/rife/rife_4.13"
      ],
      "metadata": {
        "id": "skgxsNd5-4RB"
      },
      "execution_count": null,
      "outputs": []
    },
    {
      "cell_type": "code",
      "source": [
        "!animatediff rife interpolate -h"
      ],
      "metadata": {
        "id": "uVRFk9Oy_xtB"
      },
      "execution_count": null,
      "outputs": []
    },
    {
      "cell_type": "code",
      "execution_count": null,
      "metadata": {
        "id": "NQOr46fGXvPQ"
      },
      "outputs": [],
      "source": [
        "!animatediff rife interpolate /content/animatediff-cli-prompt-travel/stylize/2023-12-29T12-42-14-sample-toonyou_beta6/2023-12-29T13-32-30_00/00-752654652136 outfile.mp4 --rife-model rife-v4.13 --frame-multiplier 2 --codec h264"
      ]
    },
    {
      "cell_type": "code",
      "execution_count": null,
      "metadata": {
        "id": "OftZm9XX5vMy"
      },
      "outputs": [],
      "source": [
        "!animatediff refine \"/content/animatediff-cli-prompt-travel/output/2023-12-23T12-47-37-deep_bhai_ii-xxmix9realistic_v40/00-1888206262821907582\" -t 0"
      ]
    },
    {
      "cell_type": "code",
      "execution_count": null,
      "metadata": {
        "id": "eeZkcXASIyNK"
      },
      "outputs": [],
      "source": [
        "!ffmpeg -framerate 8 -pattern_type glob -i '/content/animatediff-cli-prompt-travel/output/2023-12-23T12-47-37-deep_bhai_ii-xxmix9realistic_v40/00-1888206262821907582/*.png' -c:v libx264 -pix_fmt yuv420p /content/out8.mp4"
      ]
    },
    {
      "cell_type": "code",
      "execution_count": null,
      "metadata": {
        "id": "GkCNvTTnFNul"
      },
      "outputs": [],
      "source": []
    },
    {
      "cell_type": "code",
      "execution_count": null,
      "metadata": {
        "id": "-DTDY1JltjJI"
      },
      "outputs": [],
      "source": [
        "# delete the images from the folder so it can run\n",
        "os.remove(\"data/controlnet_image/test/controlnet_softedge/0000.png\")\n",
        "os.remove(\"data/controlnet_image/test/controlnet_softedge/0016.png\")\n",
        "os.remove(\"data/controlnet_image/test/controlnet_softedge/0032.png\")\n",
        "os.remove(\"data/controlnet_image/test/controlnet_openpose/0000.png\")\n",
        "os.remove(\"data/controlnet_image/test/controlnet_openpose/0016.png\")\n",
        "os.remove(\"data/controlnet_image/test/controlnet_openpose/0032.png\")"
      ]
    },
    {
      "cell_type": "code",
      "execution_count": null,
      "metadata": {
        "id": "WwTO7zsguBVp"
      },
      "outputs": [],
      "source": [
        "# take about 4-5 minutes. -W is width -H height. -L length.  can use -W 512 -H 768\n",
        "!animatediff generate -c config/prompts/test001.json -W 256 -H 384 -L 128 -C 16"
      ]
    },
    {
      "cell_type": "code",
      "execution_count": null,
      "metadata": {
        "id": "8SzoIvKeJm5a"
      },
      "outputs": [],
      "source": [
        "# Copy generated contents to Google drive\n",
        "drive.mount(\"GoogleDrive\")\n",
        "gd_path = \"GoogleDrive/MyDrive/AnimateDiffPromptTravel\"\n",
        "gd_output_dir = gd_path + \"/output\"\n",
        "os.makedirs(gd_output_dir, exist_ok=True)\n",
        "output_dir = \"output\"\n",
        "gc.collect()\n",
        "\n",
        "def get_new_dir(parent_dir):\n",
        "  sub_dirs = []\n",
        "  for path in os.listdir(parent_dir):\n",
        "    dir_path = os.path.join(parent_dir, path)\n",
        "    if os.path.isdir(dir_path):\n",
        "      sub_dirs.append(dir_path)\n",
        "  return max(sub_dirs, key = os.path.getmtime)\n",
        "\n",
        "result_dir = get_new_dir(output_dir)\n",
        "dest_dir = os.path.join(gd_output_dir, os.path.basename(result_dir))\n",
        "shutil.copytree(result_dir, dest_dir, dirs_exist_ok = True)\n",
        "print(f\"🎉 The output files have been copied into {dest_dir}. (in your connected Google Drive) See you there! 🎉\")"
      ]
    },
    {
      "cell_type": "code",
      "execution_count": null,
      "metadata": {
        "id": "bsyEkRQiJm7_"
      },
      "outputs": [],
      "source": [
        "## The END"
      ]
    },
    {
      "cell_type": "markdown",
      "metadata": {
        "id": "xrvt6zK1oTRi"
      },
      "source": [
        "Good Luck. If you want to run it locally (needs a Nvidia or AMD GPU), I also video tutorial for them. Subscribe to it today! [Click to subscribe](https://www.youtube.com/@tech-practice9805?sub_confirmation=1)"
      ]
    },
    {
      "cell_type": "code",
      "execution_count": null,
      "metadata": {
        "id": "EvDSGO9wJnA-"
      },
      "outputs": [],
      "source": []
    },
    {
      "cell_type": "code",
      "execution_count": null,
      "metadata": {
        "id": "8bJnV10GE92G"
      },
      "outputs": [],
      "source": [
        "\n",
        "!git clone https://github.com/nihui/rife-ncnn-vulkan.git\n",
        "!cd rife-ncnn-vulkan\n",
        "!git submodule update --init --recursive"
      ]
    },
    {
      "cell_type": "markdown",
      "source": [
        "# Video Utils 🎞."
      ],
      "metadata": {
        "id": "dPWhnBWz1NaO"
      }
    },
    {
      "cell_type": "code",
      "source": [
        "!gdown --id 1tXQOZDHHxeIHvsqnsuwdrFBXjHCh7Gle -O /content/animatediff-cli-prompt-travel/GoogleDrive/MyDrive/AnimateDiffPromptTravel/pahari.mp4"
      ],
      "metadata": {
        "id": "1cE-hQt_24dV"
      },
      "execution_count": null,
      "outputs": []
    },
    {
      "cell_type": "code",
      "source": [
        "!ffmpeg -i \"/content/animatediff-cli-prompt-travel/sher_khul.mp4\" -vf fps=12  \"/content/animatediff-cli-prompt-travel/data/controlnet_image/test/controlnet_openpose/%05d.png\"\n"
      ],
      "metadata": {
        "id": "seAY_wZ3204-"
      },
      "execution_count": null,
      "outputs": []
    },
    {
      "cell_type": "code",
      "source": [
        "!ffmpeg -framerate {fps} -pattern_type glob -i {frames_path+\"/\"}*.png -c:v libx264 -pix_fmt yuv420p /content/out8.mp4"
      ],
      "metadata": {
        "id": "a5t3NsPs2-P9"
      },
      "execution_count": null,
      "outputs": []
    }
  ],
  "metadata": {
    "accelerator": "GPU",
    "colab": {
      "provenance": [],
      "collapsed_sections": [
        "2DzQcdrR3Nau",
        "PVvJwnXl-dS0",
        "PIQ6TrKa9w3S"
      ],
      "include_colab_link": true
    },
    "kernelspec": {
      "display_name": "Python 3",
      "name": "python3"
    },
    "language_info": {
      "name": "python"
    }
  },
  "nbformat": 4,
  "nbformat_minor": 0
}